{
  "cells": [
    {
      "cell_type": "markdown",
      "metadata": {
        "id": "kZLRMFl0JyyQ"
      },
      "source": [
        "# **1. Perkenalan Dataset**\n"
      ]
    },
    {
      "cell_type": "markdown",
      "metadata": {
        "id": "DtZMLl5H6FDw"
      },
      "source": [
        "Nama Dataset: Air Quality Dataset 2013-2017\n",
        "\n",
        "Sumber : https://github.com/marceloreis/HTI/tree/c8688fc517972e373d7c1df3a8d82b2a2468131f/PRSA_Data_20130301-20170228"
      ]
    },
    {
      "cell_type": "markdown",
      "metadata": {
        "id": "hssSDn-5n3HR"
      },
      "source": [
        "Tahap pertama, Anda harus mencari dan menggunakan dataset **tanpa label** dengan ketentuan sebagai berikut:\n",
        "\n",
        "1. **Sumber Dataset**:  \n",
        "   Dataset dapat diperoleh dari berbagai sumber, seperti public repositories (*Kaggle*, *UCI ML Repository*, *Open Data*) atau data primer yang Anda kumpulkan sendiri.\n",
        "   \n",
        "2. **Ketentuan Dataset**:\n",
        "   - **Tanpa label**: Dataset tidak boleh memiliki label atau kelas.\n",
        "   - **Jumlah Baris**: Minimal 1000 baris untuk memastikan dataset cukup besar untuk analisis yang bermakna.\n",
        "   - **Tipe Data**: Harus mengandung data **kategorikal** dan **numerikal**.\n",
        "     - *Kategorikal*: Misalnya jenis kelamin, kategori produk.\n",
        "     - *Numerikal*: Misalnya usia, pendapatan, harga.\n",
        "\n",
        "3. **Pembatasan**:  \n",
        "   Dataset yang sudah digunakan dalam latihan clustering (seperti customer segmentation) tidak boleh digunakan."
      ]
    },
    {
      "cell_type": "markdown",
      "metadata": {
        "id": "fKADPWcFKlj3"
      },
      "source": [
        "# **2. Import Library**"
      ]
    },
    {
      "cell_type": "markdown",
      "metadata": {
        "id": "LgA3ERnVn84N"
      },
      "source": [
        "Pada tahap ini, Anda perlu mengimpor beberapa pustaka (library) Python yang dibutuhkan untuk analisis data dan pembangunan model machine learning."
      ]
    },
    {
      "cell_type": "code",
      "execution_count": 175,
      "metadata": {
        "id": "BlmvjLY9M4Yj"
      },
      "outputs": [],
      "source": [
        "# Libray untuk Clustering\n",
        "import numpy as np\n",
        "import pandas as pd\n",
        "import matplotlib.pyplot as plt\n",
        "import seaborn as sns\n",
        "from sklearn.preprocessing import LabelEncoder\n",
        "from sklearn.cluster import KMeans\n",
        "from yellowbrick.cluster import KElbowVisualizer\n",
        "from sklearn.preprocessing import RobustScaler\n",
        "from sklearn.metrics import silhouette_score\n",
        "from scipy.stats import pearsonr\n",
        "from sklearn.decomposition import PCA"
      ]
    },
    {
      "cell_type": "markdown",
      "metadata": {
        "id": "f3YIEnAFKrKL"
      },
      "source": [
        "# **3. Memuat Dataset**"
      ]
    },
    {
      "cell_type": "markdown",
      "metadata": {
        "id": "Ey3ItwTen_7E"
      },
      "source": [
        "Pada tahap ini, Anda perlu memuat dataset ke dalam notebook. Jika dataset dalam format CSV, Anda bisa menggunakan pustaka pandas untuk membacanya. Pastikan untuk mengecek beberapa baris awal dataset untuk memahami strukturnya dan memastikan data telah dimuat dengan benar.\n",
        "\n",
        "Jika dataset berada di Google Drive, pastikan Anda menghubungkan Google Drive ke Colab terlebih dahulu. Setelah dataset berhasil dimuat, langkah berikutnya adalah memeriksa kesesuaian data dan siap untuk dianalisis lebih lanjut."
      ]
    },
    {
      "cell_type": "code",
      "execution_count": 131,
      "metadata": {
        "colab": {
          "base_uri": "https://localhost:8080/"
        },
        "id": "J8ZCSH3JwvwD",
        "outputId": "eb11008c-123f-4a9d-9f42-60c1ea24ac33"
      },
      "outputs": [
        {
          "output_type": "stream",
          "name": "stdout",
          "text": [
            "Drive already mounted at /content/drive; to attempt to forcibly remount, call drive.mount(\"/content/drive\", force_remount=True).\n"
          ]
        }
      ],
      "source": [
        "from google.colab import drive\n",
        "drive.mount('/content/drive')"
      ]
    },
    {
      "cell_type": "code",
      "execution_count": 132,
      "metadata": {
        "id": "e1LmHJHMzV2v"
      },
      "outputs": [],
      "source": [
        "aotizhongxin = pd.read_csv('/content/drive/MyDrive/Dataset/Air Quality Dataset/PRSA_Data_Aotizhongxin_20130301-20170228.csv')\n",
        "changping = pd.read_csv('/content/drive/MyDrive/Dataset/Air Quality Dataset/PRSA_Data_Changping_20130301-20170228.csv')\n",
        "dingling = pd.read_csv('/content/drive/MyDrive/Dataset/Air Quality Dataset/PRSA_Data_Dingling_20130301-20170228.csv')"
      ]
    },
    {
      "cell_type": "markdown",
      "metadata": {
        "id": "bgZkbJLpK9UR"
      },
      "source": [
        "# **4. Exploratory Data Analysis (EDA)**\n",
        "\n",
        "Pada tahap ini, Anda akan melakukan **Exploratory Data Analysis (EDA)** untuk memahami karakteristik dataset. EDA bertujuan untuk:\n",
        "\n",
        "1. **Memahami Struktur Data**\n",
        "   - Tinjau jumlah baris dan kolom dalam dataset.  \n",
        "   - Tinjau jenis data di setiap kolom (numerikal atau kategorikal).\n",
        "\n",
        "2. **Menangani Data yang Hilang**  \n",
        "   - Identifikasi dan analisis data yang hilang (*missing values*). Tentukan langkah-langkah yang diperlukan untuk menangani data yang hilang, seperti pengisian atau penghapusan data tersebut.\n",
        "\n",
        "3. **Analisis Distribusi dan Korelasi**  \n",
        "   - Analisis distribusi variabel numerik dengan statistik deskriptif dan visualisasi seperti histogram atau boxplot.  \n",
        "   - Periksa hubungan antara variabel menggunakan matriks korelasi atau scatter plot.\n",
        "\n",
        "4. **Visualisasi Data**  \n",
        "   - Buat visualisasi dasar seperti grafik distribusi dan diagram batang untuk variabel kategorikal.  \n",
        "   - Gunakan heatmap atau pairplot untuk menganalisis korelasi antar variabel.\n",
        "\n",
        "Tujuan dari EDA adalah untuk memperoleh wawasan awal yang mendalam mengenai data dan menentukan langkah selanjutnya dalam analisis atau pemodelan."
      ]
    },
    {
      "cell_type": "markdown",
      "metadata": {
        "id": "vrh8nnFEd30K"
      },
      "source": [
        "### Fitur yang digunakan:\n",
        "\n",
        "a. PM2.5, PM10, SO2, NO2, CO, O3 (Fitur utama kualitas udara)\n",
        "\n",
        "b. TEMP, PRES, DEWP, RAIN, WSPM, wd (Faktor lingkungan)\n",
        "\n",
        "c. year, month, day, hour (Polusi bisa memiliki pola musiman/harian)\n",
        "\n",
        "d. Station (Zona dengan risiko polusi tertinggi)\n",
        "*italicized text*\n",
        "e. wd (Digunakan setelah melalui proses encoding)"
      ]
    },
    {
      "cell_type": "markdown",
      "metadata": {
        "id": "AqWkXdjWz2-z"
      },
      "source": [
        "### Aotizhongxin"
      ]
    },
    {
      "cell_type": "code",
      "execution_count": 133,
      "metadata": {
        "colab": {
          "base_uri": "https://localhost:8080/"
        },
        "id": "dKeejtvxM6X1",
        "outputId": "106d90b2-8739-45cb-80d2-c00370e50b37"
      },
      "outputs": [
        {
          "output_type": "stream",
          "name": "stdout",
          "text": [
            "<class 'pandas.core.frame.DataFrame'>\n",
            "RangeIndex: 35064 entries, 0 to 35063\n",
            "Data columns (total 18 columns):\n",
            " #   Column   Non-Null Count  Dtype  \n",
            "---  ------   --------------  -----  \n",
            " 0   No       35064 non-null  int64  \n",
            " 1   year     35064 non-null  int64  \n",
            " 2   month    35064 non-null  int64  \n",
            " 3   day      35064 non-null  int64  \n",
            " 4   hour     35064 non-null  int64  \n",
            " 5   PM2.5    34139 non-null  float64\n",
            " 6   PM10     34346 non-null  float64\n",
            " 7   SO2      34129 non-null  float64\n",
            " 8   NO2      34041 non-null  float64\n",
            " 9   CO       33288 non-null  float64\n",
            " 10  O3       33345 non-null  float64\n",
            " 11  TEMP     35044 non-null  float64\n",
            " 12  PRES     35044 non-null  float64\n",
            " 13  DEWP     35044 non-null  float64\n",
            " 14  RAIN     35044 non-null  float64\n",
            " 15  wd       34983 non-null  object \n",
            " 16  WSPM     35050 non-null  float64\n",
            " 17  station  35064 non-null  object \n",
            "dtypes: float64(11), int64(5), object(2)\n",
            "memory usage: 4.8+ MB\n"
          ]
        }
      ],
      "source": [
        "# Melihat Struktur Dataframe\n",
        "aotizhongxin.info()"
      ]
    },
    {
      "cell_type": "code",
      "execution_count": 134,
      "metadata": {
        "colab": {
          "base_uri": "https://localhost:8080/",
          "height": 666
        },
        "id": "MdXZD4A20vR8",
        "outputId": "3b6073c5-b19f-44d6-ff38-11fe7183e6df"
      },
      "outputs": [
        {
          "output_type": "stream",
          "name": "stdout",
          "text": [
            "Jumlah missing values: 7271\n"
          ]
        },
        {
          "output_type": "execute_result",
          "data": {
            "text/plain": [
              "No            0\n",
              "year          0\n",
              "month         0\n",
              "day           0\n",
              "hour          0\n",
              "PM2.5       925\n",
              "PM10        718\n",
              "SO2         935\n",
              "NO2        1023\n",
              "CO         1776\n",
              "O3         1719\n",
              "TEMP         20\n",
              "PRES         20\n",
              "DEWP         20\n",
              "RAIN         20\n",
              "wd           81\n",
              "WSPM         14\n",
              "station       0\n",
              "dtype: int64"
            ],
            "text/html": [
              "<div>\n",
              "<style scoped>\n",
              "    .dataframe tbody tr th:only-of-type {\n",
              "        vertical-align: middle;\n",
              "    }\n",
              "\n",
              "    .dataframe tbody tr th {\n",
              "        vertical-align: top;\n",
              "    }\n",
              "\n",
              "    .dataframe thead th {\n",
              "        text-align: right;\n",
              "    }\n",
              "</style>\n",
              "<table border=\"1\" class=\"dataframe\">\n",
              "  <thead>\n",
              "    <tr style=\"text-align: right;\">\n",
              "      <th></th>\n",
              "      <th>0</th>\n",
              "    </tr>\n",
              "  </thead>\n",
              "  <tbody>\n",
              "    <tr>\n",
              "      <th>No</th>\n",
              "      <td>0</td>\n",
              "    </tr>\n",
              "    <tr>\n",
              "      <th>year</th>\n",
              "      <td>0</td>\n",
              "    </tr>\n",
              "    <tr>\n",
              "      <th>month</th>\n",
              "      <td>0</td>\n",
              "    </tr>\n",
              "    <tr>\n",
              "      <th>day</th>\n",
              "      <td>0</td>\n",
              "    </tr>\n",
              "    <tr>\n",
              "      <th>hour</th>\n",
              "      <td>0</td>\n",
              "    </tr>\n",
              "    <tr>\n",
              "      <th>PM2.5</th>\n",
              "      <td>925</td>\n",
              "    </tr>\n",
              "    <tr>\n",
              "      <th>PM10</th>\n",
              "      <td>718</td>\n",
              "    </tr>\n",
              "    <tr>\n",
              "      <th>SO2</th>\n",
              "      <td>935</td>\n",
              "    </tr>\n",
              "    <tr>\n",
              "      <th>NO2</th>\n",
              "      <td>1023</td>\n",
              "    </tr>\n",
              "    <tr>\n",
              "      <th>CO</th>\n",
              "      <td>1776</td>\n",
              "    </tr>\n",
              "    <tr>\n",
              "      <th>O3</th>\n",
              "      <td>1719</td>\n",
              "    </tr>\n",
              "    <tr>\n",
              "      <th>TEMP</th>\n",
              "      <td>20</td>\n",
              "    </tr>\n",
              "    <tr>\n",
              "      <th>PRES</th>\n",
              "      <td>20</td>\n",
              "    </tr>\n",
              "    <tr>\n",
              "      <th>DEWP</th>\n",
              "      <td>20</td>\n",
              "    </tr>\n",
              "    <tr>\n",
              "      <th>RAIN</th>\n",
              "      <td>20</td>\n",
              "    </tr>\n",
              "    <tr>\n",
              "      <th>wd</th>\n",
              "      <td>81</td>\n",
              "    </tr>\n",
              "    <tr>\n",
              "      <th>WSPM</th>\n",
              "      <td>14</td>\n",
              "    </tr>\n",
              "    <tr>\n",
              "      <th>station</th>\n",
              "      <td>0</td>\n",
              "    </tr>\n",
              "  </tbody>\n",
              "</table>\n",
              "</div><br><label><b>dtype:</b> int64</label>"
            ]
          },
          "metadata": {},
          "execution_count": 134
        }
      ],
      "source": [
        "# Menampilkan Missing Value dari setiap kolom\n",
        "print(\"Jumlah missing values:\", aotizhongxin.isnull().sum().sum())\n",
        "aotizhongxin.isnull().sum()"
      ]
    },
    {
      "cell_type": "code",
      "execution_count": 135,
      "metadata": {
        "colab": {
          "base_uri": "https://localhost:8080/"
        },
        "id": "K1UKyJ4vF2_9",
        "outputId": "770473c3-4642-4547-ebb2-50e1cb5939da"
      },
      "outputs": [
        {
          "output_type": "execute_result",
          "data": {
            "text/plain": [
              "np.int64(0)"
            ]
          },
          "metadata": {},
          "execution_count": 135
        }
      ],
      "source": [
        "# Mengecek Duplicated Data\n",
        "aotizhongxin.duplicated().sum()"
      ]
    },
    {
      "cell_type": "code",
      "execution_count": 136,
      "metadata": {
        "colab": {
          "base_uri": "https://localhost:8080/",
          "height": 206
        },
        "id": "XjJB372Xz9XP",
        "outputId": "41951943-0fa4-4ce9-9c84-326171191b6b"
      },
      "outputs": [
        {
          "output_type": "execute_result",
          "data": {
            "text/plain": [
              "   No  year  month  day  hour  PM2.5  PM10   SO2   NO2     CO    O3  TEMP  \\\n",
              "0   1  2013      3    1     0    4.0   4.0   4.0   7.0  300.0  77.0  -0.7   \n",
              "1   2  2013      3    1     1    8.0   8.0   4.0   7.0  300.0  77.0  -1.1   \n",
              "2   3  2013      3    1     2    7.0   7.0   5.0  10.0  300.0  73.0  -1.1   \n",
              "3   4  2013      3    1     3    6.0   6.0  11.0  11.0  300.0  72.0  -1.4   \n",
              "4   5  2013      3    1     4    3.0   3.0  12.0  12.0  300.0  72.0  -2.0   \n",
              "\n",
              "     PRES  DEWP  RAIN   wd  WSPM       station  \n",
              "0  1023.0 -18.8   0.0  NNW   4.4  Aotizhongxin  \n",
              "1  1023.2 -18.2   0.0    N   4.7  Aotizhongxin  \n",
              "2  1023.5 -18.2   0.0  NNW   5.6  Aotizhongxin  \n",
              "3  1024.5 -19.4   0.0   NW   3.1  Aotizhongxin  \n",
              "4  1025.2 -19.5   0.0    N   2.0  Aotizhongxin  "
            ],
            "text/html": [
              "\n",
              "  <div id=\"df-1da27ce5-02a7-454a-a3dd-9c1c31e5a662\" class=\"colab-df-container\">\n",
              "    <div>\n",
              "<style scoped>\n",
              "    .dataframe tbody tr th:only-of-type {\n",
              "        vertical-align: middle;\n",
              "    }\n",
              "\n",
              "    .dataframe tbody tr th {\n",
              "        vertical-align: top;\n",
              "    }\n",
              "\n",
              "    .dataframe thead th {\n",
              "        text-align: right;\n",
              "    }\n",
              "</style>\n",
              "<table border=\"1\" class=\"dataframe\">\n",
              "  <thead>\n",
              "    <tr style=\"text-align: right;\">\n",
              "      <th></th>\n",
              "      <th>No</th>\n",
              "      <th>year</th>\n",
              "      <th>month</th>\n",
              "      <th>day</th>\n",
              "      <th>hour</th>\n",
              "      <th>PM2.5</th>\n",
              "      <th>PM10</th>\n",
              "      <th>SO2</th>\n",
              "      <th>NO2</th>\n",
              "      <th>CO</th>\n",
              "      <th>O3</th>\n",
              "      <th>TEMP</th>\n",
              "      <th>PRES</th>\n",
              "      <th>DEWP</th>\n",
              "      <th>RAIN</th>\n",
              "      <th>wd</th>\n",
              "      <th>WSPM</th>\n",
              "      <th>station</th>\n",
              "    </tr>\n",
              "  </thead>\n",
              "  <tbody>\n",
              "    <tr>\n",
              "      <th>0</th>\n",
              "      <td>1</td>\n",
              "      <td>2013</td>\n",
              "      <td>3</td>\n",
              "      <td>1</td>\n",
              "      <td>0</td>\n",
              "      <td>4.0</td>\n",
              "      <td>4.0</td>\n",
              "      <td>4.0</td>\n",
              "      <td>7.0</td>\n",
              "      <td>300.0</td>\n",
              "      <td>77.0</td>\n",
              "      <td>-0.7</td>\n",
              "      <td>1023.0</td>\n",
              "      <td>-18.8</td>\n",
              "      <td>0.0</td>\n",
              "      <td>NNW</td>\n",
              "      <td>4.4</td>\n",
              "      <td>Aotizhongxin</td>\n",
              "    </tr>\n",
              "    <tr>\n",
              "      <th>1</th>\n",
              "      <td>2</td>\n",
              "      <td>2013</td>\n",
              "      <td>3</td>\n",
              "      <td>1</td>\n",
              "      <td>1</td>\n",
              "      <td>8.0</td>\n",
              "      <td>8.0</td>\n",
              "      <td>4.0</td>\n",
              "      <td>7.0</td>\n",
              "      <td>300.0</td>\n",
              "      <td>77.0</td>\n",
              "      <td>-1.1</td>\n",
              "      <td>1023.2</td>\n",
              "      <td>-18.2</td>\n",
              "      <td>0.0</td>\n",
              "      <td>N</td>\n",
              "      <td>4.7</td>\n",
              "      <td>Aotizhongxin</td>\n",
              "    </tr>\n",
              "    <tr>\n",
              "      <th>2</th>\n",
              "      <td>3</td>\n",
              "      <td>2013</td>\n",
              "      <td>3</td>\n",
              "      <td>1</td>\n",
              "      <td>2</td>\n",
              "      <td>7.0</td>\n",
              "      <td>7.0</td>\n",
              "      <td>5.0</td>\n",
              "      <td>10.0</td>\n",
              "      <td>300.0</td>\n",
              "      <td>73.0</td>\n",
              "      <td>-1.1</td>\n",
              "      <td>1023.5</td>\n",
              "      <td>-18.2</td>\n",
              "      <td>0.0</td>\n",
              "      <td>NNW</td>\n",
              "      <td>5.6</td>\n",
              "      <td>Aotizhongxin</td>\n",
              "    </tr>\n",
              "    <tr>\n",
              "      <th>3</th>\n",
              "      <td>4</td>\n",
              "      <td>2013</td>\n",
              "      <td>3</td>\n",
              "      <td>1</td>\n",
              "      <td>3</td>\n",
              "      <td>6.0</td>\n",
              "      <td>6.0</td>\n",
              "      <td>11.0</td>\n",
              "      <td>11.0</td>\n",
              "      <td>300.0</td>\n",
              "      <td>72.0</td>\n",
              "      <td>-1.4</td>\n",
              "      <td>1024.5</td>\n",
              "      <td>-19.4</td>\n",
              "      <td>0.0</td>\n",
              "      <td>NW</td>\n",
              "      <td>3.1</td>\n",
              "      <td>Aotizhongxin</td>\n",
              "    </tr>\n",
              "    <tr>\n",
              "      <th>4</th>\n",
              "      <td>5</td>\n",
              "      <td>2013</td>\n",
              "      <td>3</td>\n",
              "      <td>1</td>\n",
              "      <td>4</td>\n",
              "      <td>3.0</td>\n",
              "      <td>3.0</td>\n",
              "      <td>12.0</td>\n",
              "      <td>12.0</td>\n",
              "      <td>300.0</td>\n",
              "      <td>72.0</td>\n",
              "      <td>-2.0</td>\n",
              "      <td>1025.2</td>\n",
              "      <td>-19.5</td>\n",
              "      <td>0.0</td>\n",
              "      <td>N</td>\n",
              "      <td>2.0</td>\n",
              "      <td>Aotizhongxin</td>\n",
              "    </tr>\n",
              "  </tbody>\n",
              "</table>\n",
              "</div>\n",
              "    <div class=\"colab-df-buttons\">\n",
              "\n",
              "  <div class=\"colab-df-container\">\n",
              "    <button class=\"colab-df-convert\" onclick=\"convertToInteractive('df-1da27ce5-02a7-454a-a3dd-9c1c31e5a662')\"\n",
              "            title=\"Convert this dataframe to an interactive table.\"\n",
              "            style=\"display:none;\">\n",
              "\n",
              "  <svg xmlns=\"http://www.w3.org/2000/svg\" height=\"24px\" viewBox=\"0 -960 960 960\">\n",
              "    <path d=\"M120-120v-720h720v720H120Zm60-500h600v-160H180v160Zm220 220h160v-160H400v160Zm0 220h160v-160H400v160ZM180-400h160v-160H180v160Zm440 0h160v-160H620v160ZM180-180h160v-160H180v160Zm440 0h160v-160H620v160Z\"/>\n",
              "  </svg>\n",
              "    </button>\n",
              "\n",
              "  <style>\n",
              "    .colab-df-container {\n",
              "      display:flex;\n",
              "      gap: 12px;\n",
              "    }\n",
              "\n",
              "    .colab-df-convert {\n",
              "      background-color: #E8F0FE;\n",
              "      border: none;\n",
              "      border-radius: 50%;\n",
              "      cursor: pointer;\n",
              "      display: none;\n",
              "      fill: #1967D2;\n",
              "      height: 32px;\n",
              "      padding: 0 0 0 0;\n",
              "      width: 32px;\n",
              "    }\n",
              "\n",
              "    .colab-df-convert:hover {\n",
              "      background-color: #E2EBFA;\n",
              "      box-shadow: 0px 1px 2px rgba(60, 64, 67, 0.3), 0px 1px 3px 1px rgba(60, 64, 67, 0.15);\n",
              "      fill: #174EA6;\n",
              "    }\n",
              "\n",
              "    .colab-df-buttons div {\n",
              "      margin-bottom: 4px;\n",
              "    }\n",
              "\n",
              "    [theme=dark] .colab-df-convert {\n",
              "      background-color: #3B4455;\n",
              "      fill: #D2E3FC;\n",
              "    }\n",
              "\n",
              "    [theme=dark] .colab-df-convert:hover {\n",
              "      background-color: #434B5C;\n",
              "      box-shadow: 0px 1px 3px 1px rgba(0, 0, 0, 0.15);\n",
              "      filter: drop-shadow(0px 1px 2px rgba(0, 0, 0, 0.3));\n",
              "      fill: #FFFFFF;\n",
              "    }\n",
              "  </style>\n",
              "\n",
              "    <script>\n",
              "      const buttonEl =\n",
              "        document.querySelector('#df-1da27ce5-02a7-454a-a3dd-9c1c31e5a662 button.colab-df-convert');\n",
              "      buttonEl.style.display =\n",
              "        google.colab.kernel.accessAllowed ? 'block' : 'none';\n",
              "\n",
              "      async function convertToInteractive(key) {\n",
              "        const element = document.querySelector('#df-1da27ce5-02a7-454a-a3dd-9c1c31e5a662');\n",
              "        const dataTable =\n",
              "          await google.colab.kernel.invokeFunction('convertToInteractive',\n",
              "                                                    [key], {});\n",
              "        if (!dataTable) return;\n",
              "\n",
              "        const docLinkHtml = 'Like what you see? Visit the ' +\n",
              "          '<a target=\"_blank\" href=https://colab.research.google.com/notebooks/data_table.ipynb>data table notebook</a>'\n",
              "          + ' to learn more about interactive tables.';\n",
              "        element.innerHTML = '';\n",
              "        dataTable['output_type'] = 'display_data';\n",
              "        await google.colab.output.renderOutput(dataTable, element);\n",
              "        const docLink = document.createElement('div');\n",
              "        docLink.innerHTML = docLinkHtml;\n",
              "        element.appendChild(docLink);\n",
              "      }\n",
              "    </script>\n",
              "  </div>\n",
              "\n",
              "\n",
              "    <div id=\"df-531fb2d3-c4c6-4807-b5cf-fb8a0fcab17f\">\n",
              "      <button class=\"colab-df-quickchart\" onclick=\"quickchart('df-531fb2d3-c4c6-4807-b5cf-fb8a0fcab17f')\"\n",
              "                title=\"Suggest charts\"\n",
              "                style=\"display:none;\">\n",
              "\n",
              "<svg xmlns=\"http://www.w3.org/2000/svg\" height=\"24px\"viewBox=\"0 0 24 24\"\n",
              "     width=\"24px\">\n",
              "    <g>\n",
              "        <path d=\"M19 3H5c-1.1 0-2 .9-2 2v14c0 1.1.9 2 2 2h14c1.1 0 2-.9 2-2V5c0-1.1-.9-2-2-2zM9 17H7v-7h2v7zm4 0h-2V7h2v10zm4 0h-2v-4h2v4z\"/>\n",
              "    </g>\n",
              "</svg>\n",
              "      </button>\n",
              "\n",
              "<style>\n",
              "  .colab-df-quickchart {\n",
              "      --bg-color: #E8F0FE;\n",
              "      --fill-color: #1967D2;\n",
              "      --hover-bg-color: #E2EBFA;\n",
              "      --hover-fill-color: #174EA6;\n",
              "      --disabled-fill-color: #AAA;\n",
              "      --disabled-bg-color: #DDD;\n",
              "  }\n",
              "\n",
              "  [theme=dark] .colab-df-quickchart {\n",
              "      --bg-color: #3B4455;\n",
              "      --fill-color: #D2E3FC;\n",
              "      --hover-bg-color: #434B5C;\n",
              "      --hover-fill-color: #FFFFFF;\n",
              "      --disabled-bg-color: #3B4455;\n",
              "      --disabled-fill-color: #666;\n",
              "  }\n",
              "\n",
              "  .colab-df-quickchart {\n",
              "    background-color: var(--bg-color);\n",
              "    border: none;\n",
              "    border-radius: 50%;\n",
              "    cursor: pointer;\n",
              "    display: none;\n",
              "    fill: var(--fill-color);\n",
              "    height: 32px;\n",
              "    padding: 0;\n",
              "    width: 32px;\n",
              "  }\n",
              "\n",
              "  .colab-df-quickchart:hover {\n",
              "    background-color: var(--hover-bg-color);\n",
              "    box-shadow: 0 1px 2px rgba(60, 64, 67, 0.3), 0 1px 3px 1px rgba(60, 64, 67, 0.15);\n",
              "    fill: var(--button-hover-fill-color);\n",
              "  }\n",
              "\n",
              "  .colab-df-quickchart-complete:disabled,\n",
              "  .colab-df-quickchart-complete:disabled:hover {\n",
              "    background-color: var(--disabled-bg-color);\n",
              "    fill: var(--disabled-fill-color);\n",
              "    box-shadow: none;\n",
              "  }\n",
              "\n",
              "  .colab-df-spinner {\n",
              "    border: 2px solid var(--fill-color);\n",
              "    border-color: transparent;\n",
              "    border-bottom-color: var(--fill-color);\n",
              "    animation:\n",
              "      spin 1s steps(1) infinite;\n",
              "  }\n",
              "\n",
              "  @keyframes spin {\n",
              "    0% {\n",
              "      border-color: transparent;\n",
              "      border-bottom-color: var(--fill-color);\n",
              "      border-left-color: var(--fill-color);\n",
              "    }\n",
              "    20% {\n",
              "      border-color: transparent;\n",
              "      border-left-color: var(--fill-color);\n",
              "      border-top-color: var(--fill-color);\n",
              "    }\n",
              "    30% {\n",
              "      border-color: transparent;\n",
              "      border-left-color: var(--fill-color);\n",
              "      border-top-color: var(--fill-color);\n",
              "      border-right-color: var(--fill-color);\n",
              "    }\n",
              "    40% {\n",
              "      border-color: transparent;\n",
              "      border-right-color: var(--fill-color);\n",
              "      border-top-color: var(--fill-color);\n",
              "    }\n",
              "    60% {\n",
              "      border-color: transparent;\n",
              "      border-right-color: var(--fill-color);\n",
              "    }\n",
              "    80% {\n",
              "      border-color: transparent;\n",
              "      border-right-color: var(--fill-color);\n",
              "      border-bottom-color: var(--fill-color);\n",
              "    }\n",
              "    90% {\n",
              "      border-color: transparent;\n",
              "      border-bottom-color: var(--fill-color);\n",
              "    }\n",
              "  }\n",
              "</style>\n",
              "\n",
              "      <script>\n",
              "        async function quickchart(key) {\n",
              "          const quickchartButtonEl =\n",
              "            document.querySelector('#' + key + ' button');\n",
              "          quickchartButtonEl.disabled = true;  // To prevent multiple clicks.\n",
              "          quickchartButtonEl.classList.add('colab-df-spinner');\n",
              "          try {\n",
              "            const charts = await google.colab.kernel.invokeFunction(\n",
              "                'suggestCharts', [key], {});\n",
              "          } catch (error) {\n",
              "            console.error('Error during call to suggestCharts:', error);\n",
              "          }\n",
              "          quickchartButtonEl.classList.remove('colab-df-spinner');\n",
              "          quickchartButtonEl.classList.add('colab-df-quickchart-complete');\n",
              "        }\n",
              "        (() => {\n",
              "          let quickchartButtonEl =\n",
              "            document.querySelector('#df-531fb2d3-c4c6-4807-b5cf-fb8a0fcab17f button');\n",
              "          quickchartButtonEl.style.display =\n",
              "            google.colab.kernel.accessAllowed ? 'block' : 'none';\n",
              "        })();\n",
              "      </script>\n",
              "    </div>\n",
              "\n",
              "    </div>\n",
              "  </div>\n"
            ],
            "application/vnd.google.colaboratory.intrinsic+json": {
              "type": "dataframe",
              "variable_name": "aotizhongxin",
              "summary": "{\n  \"name\": \"aotizhongxin\",\n  \"rows\": 35064,\n  \"fields\": [\n    {\n      \"column\": \"No\",\n      \"properties\": {\n        \"dtype\": \"number\",\n        \"std\": 10122,\n        \"min\": 1,\n        \"max\": 35064,\n        \"num_unique_values\": 35064,\n        \"samples\": [\n          6071,\n          32601,\n          8847\n        ],\n        \"semantic_type\": \"\",\n        \"description\": \"\"\n      }\n    },\n    {\n      \"column\": \"year\",\n      \"properties\": {\n        \"dtype\": \"number\",\n        \"std\": 1,\n        \"min\": 2013,\n        \"max\": 2017,\n        \"num_unique_values\": 5,\n        \"samples\": [\n          2014,\n          2017,\n          2015\n        ],\n        \"semantic_type\": \"\",\n        \"description\": \"\"\n      }\n    },\n    {\n      \"column\": \"month\",\n      \"properties\": {\n        \"dtype\": \"number\",\n        \"std\": 3,\n        \"min\": 1,\n        \"max\": 12,\n        \"num_unique_values\": 12,\n        \"samples\": [\n          1,\n          12,\n          3\n        ],\n        \"semantic_type\": \"\",\n        \"description\": \"\"\n      }\n    },\n    {\n      \"column\": \"day\",\n      \"properties\": {\n        \"dtype\": \"number\",\n        \"std\": 8,\n        \"min\": 1,\n        \"max\": 31,\n        \"num_unique_values\": 31,\n        \"samples\": [\n          28,\n          16,\n          24\n        ],\n        \"semantic_type\": \"\",\n        \"description\": \"\"\n      }\n    },\n    {\n      \"column\": \"hour\",\n      \"properties\": {\n        \"dtype\": \"number\",\n        \"std\": 6,\n        \"min\": 0,\n        \"max\": 23,\n        \"num_unique_values\": 24,\n        \"samples\": [\n          8,\n          16,\n          0\n        ],\n        \"semantic_type\": \"\",\n        \"description\": \"\"\n      }\n    },\n    {\n      \"column\": \"PM2.5\",\n      \"properties\": {\n        \"dtype\": \"number\",\n        \"std\": 82.13569353763613,\n        \"min\": 3.0,\n        \"max\": 898.0,\n        \"num_unique_values\": 545,\n        \"samples\": [\n          224.0,\n          272.0,\n          331.0\n        ],\n        \"semantic_type\": \"\",\n        \"description\": \"\"\n      }\n    },\n    {\n      \"column\": \"PM10\",\n      \"properties\": {\n        \"dtype\": \"number\",\n        \"std\": 95.2230045626726,\n        \"min\": 2.0,\n        \"max\": 984.0,\n        \"num_unique_values\": 633,\n        \"samples\": [\n          164.0,\n          383.0,\n          295.0\n        ],\n        \"semantic_type\": \"\",\n        \"description\": \"\"\n      }\n    },\n    {\n      \"column\": \"SO2\",\n      \"properties\": {\n        \"dtype\": \"number\",\n        \"std\": 22.823016902754237,\n        \"min\": 0.2856,\n        \"max\": 341.0,\n        \"num_unique_values\": 330,\n        \"samples\": [\n          8.0,\n          65.1168,\n          132.0\n        ],\n        \"semantic_type\": \"\",\n        \"description\": \"\"\n      }\n    },\n    {\n      \"column\": \"NO2\",\n      \"properties\": {\n        \"dtype\": \"number\",\n        \"std\": 37.11619958015687,\n        \"min\": 2.0,\n        \"max\": 290.0,\n        \"num_unique_values\": 465,\n        \"samples\": [\n          65.0,\n          178.0,\n          97.0\n        ],\n        \"semantic_type\": \"\",\n        \"description\": \"\"\n      }\n    },\n    {\n      \"column\": \"CO\",\n      \"properties\": {\n        \"dtype\": \"number\",\n        \"std\": 1221.4362363962025,\n        \"min\": 100.0,\n        \"max\": 10000.0,\n        \"num_unique_values\": 112,\n        \"samples\": [\n          3299.0,\n          5100.0,\n          700.0\n        ],\n        \"semantic_type\": \"\",\n        \"description\": \"\"\n      }\n    },\n    {\n      \"column\": \"O3\",\n      \"properties\": {\n        \"dtype\": \"number\",\n        \"std\": 57.9163266442275,\n        \"min\": 0.2142,\n        \"max\": 423.0,\n        \"num_unique_values\": 831,\n        \"samples\": [\n          78.3972,\n          319.0,\n          23.562\n        ],\n        \"semantic_type\": \"\",\n        \"description\": \"\"\n      }\n    },\n    {\n      \"column\": \"TEMP\",\n      \"properties\": {\n        \"dtype\": \"number\",\n        \"std\": 11.399096949946948,\n        \"min\": -16.8,\n        \"max\": 40.5,\n        \"num_unique_values\": 967,\n        \"samples\": [\n          18.8,\n          -10.3,\n          -1.575\n        ],\n        \"semantic_type\": \"\",\n        \"description\": \"\"\n      }\n    },\n    {\n      \"column\": \"PRES\",\n      \"properties\": {\n        \"dtype\": \"number\",\n        \"std\": 10.404046577851366,\n        \"min\": 985.9,\n        \"max\": 1042.0,\n        \"num_unique_values\": 600,\n        \"samples\": [\n          998.6,\n          1029.9,\n          1024.25\n        ],\n        \"semantic_type\": \"\",\n        \"description\": \"\"\n      }\n    },\n    {\n      \"column\": \"DEWP\",\n      \"properties\": {\n        \"dtype\": \"number\",\n        \"std\": 13.688896009288927,\n        \"min\": -35.3,\n        \"max\": 28.5,\n        \"num_unique_values\": 604,\n        \"samples\": [\n          -2.1,\n          27.2,\n          -30.2\n        ],\n        \"semantic_type\": \"\",\n        \"description\": \"\"\n      }\n    },\n    {\n      \"column\": \"RAIN\",\n      \"properties\": {\n        \"dtype\": \"number\",\n        \"std\": 0.9100559139820993,\n        \"min\": 0.0,\n        \"max\": 72.5,\n        \"num_unique_values\": 127,\n        \"samples\": [\n          2.1,\n          13.8,\n          11.3\n        ],\n        \"semantic_type\": \"\",\n        \"description\": \"\"\n      }\n    },\n    {\n      \"column\": \"wd\",\n      \"properties\": {\n        \"dtype\": \"category\",\n        \"num_unique_values\": 16,\n        \"samples\": [\n          \"NNW\",\n          \"N\",\n          \"E\"\n        ],\n        \"semantic_type\": \"\",\n        \"description\": \"\"\n      }\n    },\n    {\n      \"column\": \"WSPM\",\n      \"properties\": {\n        \"dtype\": \"number\",\n        \"std\": 1.2040710727929538,\n        \"min\": 0.0,\n        \"max\": 11.2,\n        \"num_unique_values\": 91,\n        \"samples\": [\n          1.9,\n          0.7,\n          3.2\n        ],\n        \"semantic_type\": \"\",\n        \"description\": \"\"\n      }\n    },\n    {\n      \"column\": \"station\",\n      \"properties\": {\n        \"dtype\": \"category\",\n        \"num_unique_values\": 1,\n        \"samples\": [\n          \"Aotizhongxin\"\n        ],\n        \"semantic_type\": \"\",\n        \"description\": \"\"\n      }\n    }\n  ]\n}"
            }
          },
          "metadata": {},
          "execution_count": 136
        }
      ],
      "source": [
        "# Menampilkan Beberapa value dari Dataframe\n",
        "aotizhongxin.head()"
      ]
    },
    {
      "cell_type": "markdown",
      "metadata": {
        "id": "Wj5Om_OQU9Dv"
      },
      "source": [
        "### Changping"
      ]
    },
    {
      "cell_type": "code",
      "execution_count": 137,
      "metadata": {
        "colab": {
          "base_uri": "https://localhost:8080/"
        },
        "id": "Q88ruyTZVMbQ",
        "outputId": "e5bec3ec-44dd-4163-c8bf-488b36d914c8"
      },
      "outputs": [
        {
          "output_type": "stream",
          "name": "stdout",
          "text": [
            "<class 'pandas.core.frame.DataFrame'>\n",
            "RangeIndex: 35064 entries, 0 to 35063\n",
            "Data columns (total 18 columns):\n",
            " #   Column   Non-Null Count  Dtype  \n",
            "---  ------   --------------  -----  \n",
            " 0   No       35064 non-null  int64  \n",
            " 1   year     35064 non-null  int64  \n",
            " 2   month    35064 non-null  int64  \n",
            " 3   day      35064 non-null  int64  \n",
            " 4   hour     35064 non-null  int64  \n",
            " 5   PM2.5    34290 non-null  float64\n",
            " 6   PM10     34482 non-null  float64\n",
            " 7   SO2      34436 non-null  float64\n",
            " 8   NO2      34397 non-null  float64\n",
            " 9   CO       33543 non-null  float64\n",
            " 10  O3       34460 non-null  float64\n",
            " 11  TEMP     35011 non-null  float64\n",
            " 12  PRES     35014 non-null  float64\n",
            " 13  DEWP     35011 non-null  float64\n",
            " 14  RAIN     35013 non-null  float64\n",
            " 15  wd       34924 non-null  object \n",
            " 16  WSPM     35021 non-null  float64\n",
            " 17  station  35064 non-null  object \n",
            "dtypes: float64(11), int64(5), object(2)\n",
            "memory usage: 4.8+ MB\n"
          ]
        }
      ],
      "source": [
        "# Melihat Struktur Dataframe\n",
        "changping.info()"
      ]
    },
    {
      "cell_type": "code",
      "execution_count": 138,
      "metadata": {
        "colab": {
          "base_uri": "https://localhost:8080/",
          "height": 0
        },
        "id": "0enqWyElVc55",
        "outputId": "fd598f0f-cc77-41ea-ffbd-ade3c8f77561"
      },
      "outputs": [
        {
          "output_type": "stream",
          "name": "stdout",
          "text": [
            "Jumlah missing values: 5166\n"
          ]
        },
        {
          "output_type": "execute_result",
          "data": {
            "text/plain": [
              "No            0\n",
              "year          0\n",
              "month         0\n",
              "day           0\n",
              "hour          0\n",
              "PM2.5       774\n",
              "PM10        582\n",
              "SO2         628\n",
              "NO2         667\n",
              "CO         1521\n",
              "O3          604\n",
              "TEMP         53\n",
              "PRES         50\n",
              "DEWP         53\n",
              "RAIN         51\n",
              "wd          140\n",
              "WSPM         43\n",
              "station       0\n",
              "dtype: int64"
            ],
            "text/html": [
              "<div>\n",
              "<style scoped>\n",
              "    .dataframe tbody tr th:only-of-type {\n",
              "        vertical-align: middle;\n",
              "    }\n",
              "\n",
              "    .dataframe tbody tr th {\n",
              "        vertical-align: top;\n",
              "    }\n",
              "\n",
              "    .dataframe thead th {\n",
              "        text-align: right;\n",
              "    }\n",
              "</style>\n",
              "<table border=\"1\" class=\"dataframe\">\n",
              "  <thead>\n",
              "    <tr style=\"text-align: right;\">\n",
              "      <th></th>\n",
              "      <th>0</th>\n",
              "    </tr>\n",
              "  </thead>\n",
              "  <tbody>\n",
              "    <tr>\n",
              "      <th>No</th>\n",
              "      <td>0</td>\n",
              "    </tr>\n",
              "    <tr>\n",
              "      <th>year</th>\n",
              "      <td>0</td>\n",
              "    </tr>\n",
              "    <tr>\n",
              "      <th>month</th>\n",
              "      <td>0</td>\n",
              "    </tr>\n",
              "    <tr>\n",
              "      <th>day</th>\n",
              "      <td>0</td>\n",
              "    </tr>\n",
              "    <tr>\n",
              "      <th>hour</th>\n",
              "      <td>0</td>\n",
              "    </tr>\n",
              "    <tr>\n",
              "      <th>PM2.5</th>\n",
              "      <td>774</td>\n",
              "    </tr>\n",
              "    <tr>\n",
              "      <th>PM10</th>\n",
              "      <td>582</td>\n",
              "    </tr>\n",
              "    <tr>\n",
              "      <th>SO2</th>\n",
              "      <td>628</td>\n",
              "    </tr>\n",
              "    <tr>\n",
              "      <th>NO2</th>\n",
              "      <td>667</td>\n",
              "    </tr>\n",
              "    <tr>\n",
              "      <th>CO</th>\n",
              "      <td>1521</td>\n",
              "    </tr>\n",
              "    <tr>\n",
              "      <th>O3</th>\n",
              "      <td>604</td>\n",
              "    </tr>\n",
              "    <tr>\n",
              "      <th>TEMP</th>\n",
              "      <td>53</td>\n",
              "    </tr>\n",
              "    <tr>\n",
              "      <th>PRES</th>\n",
              "      <td>50</td>\n",
              "    </tr>\n",
              "    <tr>\n",
              "      <th>DEWP</th>\n",
              "      <td>53</td>\n",
              "    </tr>\n",
              "    <tr>\n",
              "      <th>RAIN</th>\n",
              "      <td>51</td>\n",
              "    </tr>\n",
              "    <tr>\n",
              "      <th>wd</th>\n",
              "      <td>140</td>\n",
              "    </tr>\n",
              "    <tr>\n",
              "      <th>WSPM</th>\n",
              "      <td>43</td>\n",
              "    </tr>\n",
              "    <tr>\n",
              "      <th>station</th>\n",
              "      <td>0</td>\n",
              "    </tr>\n",
              "  </tbody>\n",
              "</table>\n",
              "</div><br><label><b>dtype:</b> int64</label>"
            ]
          },
          "metadata": {},
          "execution_count": 138
        }
      ],
      "source": [
        "# Menampilkan Missing Value dari setiap kolom\n",
        "print(\"Jumlah missing values:\", changping.isnull().sum().sum())\n",
        "changping.isnull().sum()"
      ]
    },
    {
      "cell_type": "code",
      "execution_count": 139,
      "metadata": {
        "colab": {
          "base_uri": "https://localhost:8080/"
        },
        "id": "8pkyp4O6VyW3",
        "outputId": "17816c2f-9268-4e82-c7a8-7576c2b050d8"
      },
      "outputs": [
        {
          "output_type": "execute_result",
          "data": {
            "text/plain": [
              "np.int64(0)"
            ]
          },
          "metadata": {},
          "execution_count": 139
        }
      ],
      "source": [
        "# Menampilkan Duplicated Data\n",
        "changping.duplicated().sum()"
      ]
    },
    {
      "cell_type": "code",
      "execution_count": 140,
      "metadata": {
        "colab": {
          "base_uri": "https://localhost:8080/",
          "height": 0
        },
        "id": "bBeBxhnNV5WC",
        "outputId": "7177b3d9-b626-4c22-f203-64eb4dcfadc0"
      },
      "outputs": [
        {
          "output_type": "execute_result",
          "data": {
            "text/plain": [
              "   No  year  month  day  hour  PM2.5  PM10   SO2   NO2     CO    O3  TEMP  \\\n",
              "0   1  2013      3    1     0    3.0   6.0  13.0   7.0  300.0  85.0  -2.3   \n",
              "1   2  2013      3    1     1    3.0   3.0   6.0   6.0  300.0  85.0  -2.5   \n",
              "2   3  2013      3    1     2    3.0   3.0  22.0  13.0  400.0  74.0  -3.0   \n",
              "3   4  2013      3    1     3    3.0   6.0  12.0   8.0  300.0  81.0  -3.6   \n",
              "4   5  2013      3    1     4    3.0   3.0  14.0   8.0  300.0  81.0  -3.5   \n",
              "\n",
              "     PRES  DEWP  RAIN   wd  WSPM    station  \n",
              "0  1020.8 -19.7   0.0    E   0.5  Changping  \n",
              "1  1021.3 -19.0   0.0  ENE   0.7  Changping  \n",
              "2  1021.3 -19.9   0.0  ENE   0.2  Changping  \n",
              "3  1021.8 -19.1   0.0  NNE   1.0  Changping  \n",
              "4  1022.3 -19.4   0.0    N   2.1  Changping  "
            ],
            "text/html": [
              "\n",
              "  <div id=\"df-2f612c31-c18b-41e5-879b-b18af02e5443\" class=\"colab-df-container\">\n",
              "    <div>\n",
              "<style scoped>\n",
              "    .dataframe tbody tr th:only-of-type {\n",
              "        vertical-align: middle;\n",
              "    }\n",
              "\n",
              "    .dataframe tbody tr th {\n",
              "        vertical-align: top;\n",
              "    }\n",
              "\n",
              "    .dataframe thead th {\n",
              "        text-align: right;\n",
              "    }\n",
              "</style>\n",
              "<table border=\"1\" class=\"dataframe\">\n",
              "  <thead>\n",
              "    <tr style=\"text-align: right;\">\n",
              "      <th></th>\n",
              "      <th>No</th>\n",
              "      <th>year</th>\n",
              "      <th>month</th>\n",
              "      <th>day</th>\n",
              "      <th>hour</th>\n",
              "      <th>PM2.5</th>\n",
              "      <th>PM10</th>\n",
              "      <th>SO2</th>\n",
              "      <th>NO2</th>\n",
              "      <th>CO</th>\n",
              "      <th>O3</th>\n",
              "      <th>TEMP</th>\n",
              "      <th>PRES</th>\n",
              "      <th>DEWP</th>\n",
              "      <th>RAIN</th>\n",
              "      <th>wd</th>\n",
              "      <th>WSPM</th>\n",
              "      <th>station</th>\n",
              "    </tr>\n",
              "  </thead>\n",
              "  <tbody>\n",
              "    <tr>\n",
              "      <th>0</th>\n",
              "      <td>1</td>\n",
              "      <td>2013</td>\n",
              "      <td>3</td>\n",
              "      <td>1</td>\n",
              "      <td>0</td>\n",
              "      <td>3.0</td>\n",
              "      <td>6.0</td>\n",
              "      <td>13.0</td>\n",
              "      <td>7.0</td>\n",
              "      <td>300.0</td>\n",
              "      <td>85.0</td>\n",
              "      <td>-2.3</td>\n",
              "      <td>1020.8</td>\n",
              "      <td>-19.7</td>\n",
              "      <td>0.0</td>\n",
              "      <td>E</td>\n",
              "      <td>0.5</td>\n",
              "      <td>Changping</td>\n",
              "    </tr>\n",
              "    <tr>\n",
              "      <th>1</th>\n",
              "      <td>2</td>\n",
              "      <td>2013</td>\n",
              "      <td>3</td>\n",
              "      <td>1</td>\n",
              "      <td>1</td>\n",
              "      <td>3.0</td>\n",
              "      <td>3.0</td>\n",
              "      <td>6.0</td>\n",
              "      <td>6.0</td>\n",
              "      <td>300.0</td>\n",
              "      <td>85.0</td>\n",
              "      <td>-2.5</td>\n",
              "      <td>1021.3</td>\n",
              "      <td>-19.0</td>\n",
              "      <td>0.0</td>\n",
              "      <td>ENE</td>\n",
              "      <td>0.7</td>\n",
              "      <td>Changping</td>\n",
              "    </tr>\n",
              "    <tr>\n",
              "      <th>2</th>\n",
              "      <td>3</td>\n",
              "      <td>2013</td>\n",
              "      <td>3</td>\n",
              "      <td>1</td>\n",
              "      <td>2</td>\n",
              "      <td>3.0</td>\n",
              "      <td>3.0</td>\n",
              "      <td>22.0</td>\n",
              "      <td>13.0</td>\n",
              "      <td>400.0</td>\n",
              "      <td>74.0</td>\n",
              "      <td>-3.0</td>\n",
              "      <td>1021.3</td>\n",
              "      <td>-19.9</td>\n",
              "      <td>0.0</td>\n",
              "      <td>ENE</td>\n",
              "      <td>0.2</td>\n",
              "      <td>Changping</td>\n",
              "    </tr>\n",
              "    <tr>\n",
              "      <th>3</th>\n",
              "      <td>4</td>\n",
              "      <td>2013</td>\n",
              "      <td>3</td>\n",
              "      <td>1</td>\n",
              "      <td>3</td>\n",
              "      <td>3.0</td>\n",
              "      <td>6.0</td>\n",
              "      <td>12.0</td>\n",
              "      <td>8.0</td>\n",
              "      <td>300.0</td>\n",
              "      <td>81.0</td>\n",
              "      <td>-3.6</td>\n",
              "      <td>1021.8</td>\n",
              "      <td>-19.1</td>\n",
              "      <td>0.0</td>\n",
              "      <td>NNE</td>\n",
              "      <td>1.0</td>\n",
              "      <td>Changping</td>\n",
              "    </tr>\n",
              "    <tr>\n",
              "      <th>4</th>\n",
              "      <td>5</td>\n",
              "      <td>2013</td>\n",
              "      <td>3</td>\n",
              "      <td>1</td>\n",
              "      <td>4</td>\n",
              "      <td>3.0</td>\n",
              "      <td>3.0</td>\n",
              "      <td>14.0</td>\n",
              "      <td>8.0</td>\n",
              "      <td>300.0</td>\n",
              "      <td>81.0</td>\n",
              "      <td>-3.5</td>\n",
              "      <td>1022.3</td>\n",
              "      <td>-19.4</td>\n",
              "      <td>0.0</td>\n",
              "      <td>N</td>\n",
              "      <td>2.1</td>\n",
              "      <td>Changping</td>\n",
              "    </tr>\n",
              "  </tbody>\n",
              "</table>\n",
              "</div>\n",
              "    <div class=\"colab-df-buttons\">\n",
              "\n",
              "  <div class=\"colab-df-container\">\n",
              "    <button class=\"colab-df-convert\" onclick=\"convertToInteractive('df-2f612c31-c18b-41e5-879b-b18af02e5443')\"\n",
              "            title=\"Convert this dataframe to an interactive table.\"\n",
              "            style=\"display:none;\">\n",
              "\n",
              "  <svg xmlns=\"http://www.w3.org/2000/svg\" height=\"24px\" viewBox=\"0 -960 960 960\">\n",
              "    <path d=\"M120-120v-720h720v720H120Zm60-500h600v-160H180v160Zm220 220h160v-160H400v160Zm0 220h160v-160H400v160ZM180-400h160v-160H180v160Zm440 0h160v-160H620v160ZM180-180h160v-160H180v160Zm440 0h160v-160H620v160Z\"/>\n",
              "  </svg>\n",
              "    </button>\n",
              "\n",
              "  <style>\n",
              "    .colab-df-container {\n",
              "      display:flex;\n",
              "      gap: 12px;\n",
              "    }\n",
              "\n",
              "    .colab-df-convert {\n",
              "      background-color: #E8F0FE;\n",
              "      border: none;\n",
              "      border-radius: 50%;\n",
              "      cursor: pointer;\n",
              "      display: none;\n",
              "      fill: #1967D2;\n",
              "      height: 32px;\n",
              "      padding: 0 0 0 0;\n",
              "      width: 32px;\n",
              "    }\n",
              "\n",
              "    .colab-df-convert:hover {\n",
              "      background-color: #E2EBFA;\n",
              "      box-shadow: 0px 1px 2px rgba(60, 64, 67, 0.3), 0px 1px 3px 1px rgba(60, 64, 67, 0.15);\n",
              "      fill: #174EA6;\n",
              "    }\n",
              "\n",
              "    .colab-df-buttons div {\n",
              "      margin-bottom: 4px;\n",
              "    }\n",
              "\n",
              "    [theme=dark] .colab-df-convert {\n",
              "      background-color: #3B4455;\n",
              "      fill: #D2E3FC;\n",
              "    }\n",
              "\n",
              "    [theme=dark] .colab-df-convert:hover {\n",
              "      background-color: #434B5C;\n",
              "      box-shadow: 0px 1px 3px 1px rgba(0, 0, 0, 0.15);\n",
              "      filter: drop-shadow(0px 1px 2px rgba(0, 0, 0, 0.3));\n",
              "      fill: #FFFFFF;\n",
              "    }\n",
              "  </style>\n",
              "\n",
              "    <script>\n",
              "      const buttonEl =\n",
              "        document.querySelector('#df-2f612c31-c18b-41e5-879b-b18af02e5443 button.colab-df-convert');\n",
              "      buttonEl.style.display =\n",
              "        google.colab.kernel.accessAllowed ? 'block' : 'none';\n",
              "\n",
              "      async function convertToInteractive(key) {\n",
              "        const element = document.querySelector('#df-2f612c31-c18b-41e5-879b-b18af02e5443');\n",
              "        const dataTable =\n",
              "          await google.colab.kernel.invokeFunction('convertToInteractive',\n",
              "                                                    [key], {});\n",
              "        if (!dataTable) return;\n",
              "\n",
              "        const docLinkHtml = 'Like what you see? Visit the ' +\n",
              "          '<a target=\"_blank\" href=https://colab.research.google.com/notebooks/data_table.ipynb>data table notebook</a>'\n",
              "          + ' to learn more about interactive tables.';\n",
              "        element.innerHTML = '';\n",
              "        dataTable['output_type'] = 'display_data';\n",
              "        await google.colab.output.renderOutput(dataTable, element);\n",
              "        const docLink = document.createElement('div');\n",
              "        docLink.innerHTML = docLinkHtml;\n",
              "        element.appendChild(docLink);\n",
              "      }\n",
              "    </script>\n",
              "  </div>\n",
              "\n",
              "\n",
              "    <div id=\"df-15152127-18de-4a5a-be20-9241be175832\">\n",
              "      <button class=\"colab-df-quickchart\" onclick=\"quickchart('df-15152127-18de-4a5a-be20-9241be175832')\"\n",
              "                title=\"Suggest charts\"\n",
              "                style=\"display:none;\">\n",
              "\n",
              "<svg xmlns=\"http://www.w3.org/2000/svg\" height=\"24px\"viewBox=\"0 0 24 24\"\n",
              "     width=\"24px\">\n",
              "    <g>\n",
              "        <path d=\"M19 3H5c-1.1 0-2 .9-2 2v14c0 1.1.9 2 2 2h14c1.1 0 2-.9 2-2V5c0-1.1-.9-2-2-2zM9 17H7v-7h2v7zm4 0h-2V7h2v10zm4 0h-2v-4h2v4z\"/>\n",
              "    </g>\n",
              "</svg>\n",
              "      </button>\n",
              "\n",
              "<style>\n",
              "  .colab-df-quickchart {\n",
              "      --bg-color: #E8F0FE;\n",
              "      --fill-color: #1967D2;\n",
              "      --hover-bg-color: #E2EBFA;\n",
              "      --hover-fill-color: #174EA6;\n",
              "      --disabled-fill-color: #AAA;\n",
              "      --disabled-bg-color: #DDD;\n",
              "  }\n",
              "\n",
              "  [theme=dark] .colab-df-quickchart {\n",
              "      --bg-color: #3B4455;\n",
              "      --fill-color: #D2E3FC;\n",
              "      --hover-bg-color: #434B5C;\n",
              "      --hover-fill-color: #FFFFFF;\n",
              "      --disabled-bg-color: #3B4455;\n",
              "      --disabled-fill-color: #666;\n",
              "  }\n",
              "\n",
              "  .colab-df-quickchart {\n",
              "    background-color: var(--bg-color);\n",
              "    border: none;\n",
              "    border-radius: 50%;\n",
              "    cursor: pointer;\n",
              "    display: none;\n",
              "    fill: var(--fill-color);\n",
              "    height: 32px;\n",
              "    padding: 0;\n",
              "    width: 32px;\n",
              "  }\n",
              "\n",
              "  .colab-df-quickchart:hover {\n",
              "    background-color: var(--hover-bg-color);\n",
              "    box-shadow: 0 1px 2px rgba(60, 64, 67, 0.3), 0 1px 3px 1px rgba(60, 64, 67, 0.15);\n",
              "    fill: var(--button-hover-fill-color);\n",
              "  }\n",
              "\n",
              "  .colab-df-quickchart-complete:disabled,\n",
              "  .colab-df-quickchart-complete:disabled:hover {\n",
              "    background-color: var(--disabled-bg-color);\n",
              "    fill: var(--disabled-fill-color);\n",
              "    box-shadow: none;\n",
              "  }\n",
              "\n",
              "  .colab-df-spinner {\n",
              "    border: 2px solid var(--fill-color);\n",
              "    border-color: transparent;\n",
              "    border-bottom-color: var(--fill-color);\n",
              "    animation:\n",
              "      spin 1s steps(1) infinite;\n",
              "  }\n",
              "\n",
              "  @keyframes spin {\n",
              "    0% {\n",
              "      border-color: transparent;\n",
              "      border-bottom-color: var(--fill-color);\n",
              "      border-left-color: var(--fill-color);\n",
              "    }\n",
              "    20% {\n",
              "      border-color: transparent;\n",
              "      border-left-color: var(--fill-color);\n",
              "      border-top-color: var(--fill-color);\n",
              "    }\n",
              "    30% {\n",
              "      border-color: transparent;\n",
              "      border-left-color: var(--fill-color);\n",
              "      border-top-color: var(--fill-color);\n",
              "      border-right-color: var(--fill-color);\n",
              "    }\n",
              "    40% {\n",
              "      border-color: transparent;\n",
              "      border-right-color: var(--fill-color);\n",
              "      border-top-color: var(--fill-color);\n",
              "    }\n",
              "    60% {\n",
              "      border-color: transparent;\n",
              "      border-right-color: var(--fill-color);\n",
              "    }\n",
              "    80% {\n",
              "      border-color: transparent;\n",
              "      border-right-color: var(--fill-color);\n",
              "      border-bottom-color: var(--fill-color);\n",
              "    }\n",
              "    90% {\n",
              "      border-color: transparent;\n",
              "      border-bottom-color: var(--fill-color);\n",
              "    }\n",
              "  }\n",
              "</style>\n",
              "\n",
              "      <script>\n",
              "        async function quickchart(key) {\n",
              "          const quickchartButtonEl =\n",
              "            document.querySelector('#' + key + ' button');\n",
              "          quickchartButtonEl.disabled = true;  // To prevent multiple clicks.\n",
              "          quickchartButtonEl.classList.add('colab-df-spinner');\n",
              "          try {\n",
              "            const charts = await google.colab.kernel.invokeFunction(\n",
              "                'suggestCharts', [key], {});\n",
              "          } catch (error) {\n",
              "            console.error('Error during call to suggestCharts:', error);\n",
              "          }\n",
              "          quickchartButtonEl.classList.remove('colab-df-spinner');\n",
              "          quickchartButtonEl.classList.add('colab-df-quickchart-complete');\n",
              "        }\n",
              "        (() => {\n",
              "          let quickchartButtonEl =\n",
              "            document.querySelector('#df-15152127-18de-4a5a-be20-9241be175832 button');\n",
              "          quickchartButtonEl.style.display =\n",
              "            google.colab.kernel.accessAllowed ? 'block' : 'none';\n",
              "        })();\n",
              "      </script>\n",
              "    </div>\n",
              "\n",
              "    </div>\n",
              "  </div>\n"
            ],
            "application/vnd.google.colaboratory.intrinsic+json": {
              "type": "dataframe",
              "variable_name": "changping",
              "summary": "{\n  \"name\": \"changping\",\n  \"rows\": 35064,\n  \"fields\": [\n    {\n      \"column\": \"No\",\n      \"properties\": {\n        \"dtype\": \"number\",\n        \"std\": 10122,\n        \"min\": 1,\n        \"max\": 35064,\n        \"num_unique_values\": 35064,\n        \"samples\": [\n          6071,\n          32601,\n          8847\n        ],\n        \"semantic_type\": \"\",\n        \"description\": \"\"\n      }\n    },\n    {\n      \"column\": \"year\",\n      \"properties\": {\n        \"dtype\": \"number\",\n        \"std\": 1,\n        \"min\": 2013,\n        \"max\": 2017,\n        \"num_unique_values\": 5,\n        \"samples\": [\n          2014,\n          2017,\n          2015\n        ],\n        \"semantic_type\": \"\",\n        \"description\": \"\"\n      }\n    },\n    {\n      \"column\": \"month\",\n      \"properties\": {\n        \"dtype\": \"number\",\n        \"std\": 3,\n        \"min\": 1,\n        \"max\": 12,\n        \"num_unique_values\": 12,\n        \"samples\": [\n          1,\n          12,\n          3\n        ],\n        \"semantic_type\": \"\",\n        \"description\": \"\"\n      }\n    },\n    {\n      \"column\": \"day\",\n      \"properties\": {\n        \"dtype\": \"number\",\n        \"std\": 8,\n        \"min\": 1,\n        \"max\": 31,\n        \"num_unique_values\": 31,\n        \"samples\": [\n          28,\n          16,\n          24\n        ],\n        \"semantic_type\": \"\",\n        \"description\": \"\"\n      }\n    },\n    {\n      \"column\": \"hour\",\n      \"properties\": {\n        \"dtype\": \"number\",\n        \"std\": 6,\n        \"min\": 0,\n        \"max\": 23,\n        \"num_unique_values\": 24,\n        \"samples\": [\n          8,\n          16,\n          0\n        ],\n        \"semantic_type\": \"\",\n        \"description\": \"\"\n      }\n    },\n    {\n      \"column\": \"PM2.5\",\n      \"properties\": {\n        \"dtype\": \"number\",\n        \"std\": 72.32692612502235,\n        \"min\": 2.0,\n        \"max\": 882.0,\n        \"num_unique_values\": 481,\n        \"samples\": [\n          182.0,\n          79.5,\n          362.0\n        ],\n        \"semantic_type\": \"\",\n        \"description\": \"\"\n      }\n    },\n    {\n      \"column\": \"PM10\",\n      \"properties\": {\n        \"dtype\": \"number\",\n        \"std\": 83.44173842092673,\n        \"min\": 2.0,\n        \"max\": 999.0,\n        \"num_unique_values\": 562,\n        \"samples\": [\n          526.0,\n          793.0,\n          358.0\n        ],\n        \"semantic_type\": \"\",\n        \"description\": \"\"\n      }\n    },\n    {\n      \"column\": \"SO2\",\n      \"properties\": {\n        \"dtype\": \"number\",\n        \"std\": 20.975331415702154,\n        \"min\": 0.2856,\n        \"max\": 310.0,\n        \"num_unique_values\": 294,\n        \"samples\": [\n          17.0,\n          4.0,\n          7.7112\n        ],\n        \"semantic_type\": \"\",\n        \"description\": \"\"\n      }\n    },\n    {\n      \"column\": \"NO2\",\n      \"properties\": {\n        \"dtype\": \"number\",\n        \"std\": 29.51979628553081,\n        \"min\": 1.8477,\n        \"max\": 226.0,\n        \"num_unique_values\": 459,\n        \"samples\": [\n          48.0,\n          84.0,\n          18.477\n        ],\n        \"semantic_type\": \"\",\n        \"description\": \"\"\n      }\n    },\n    {\n      \"column\": \"CO\",\n      \"properties\": {\n        \"dtype\": \"number\",\n        \"std\": 1103.0562821491862,\n        \"min\": 100.0,\n        \"max\": 10000.0,\n        \"num_unique_values\": 115,\n        \"samples\": [\n          9500.0,\n          700.0,\n          5099.0\n        ],\n        \"semantic_type\": \"\",\n        \"description\": \"\"\n      }\n    },\n    {\n      \"column\": \"O3\",\n      \"properties\": {\n        \"dtype\": \"number\",\n        \"std\": 54.31667439264274,\n        \"min\": 0.2142,\n        \"max\": 429.0,\n        \"num_unique_values\": 886,\n        \"samples\": [\n          52.0,\n          242.6886,\n          7.0686\n        ],\n        \"semantic_type\": \"\",\n        \"description\": \"\"\n      }\n    },\n    {\n      \"column\": \"TEMP\",\n      \"properties\": {\n        \"dtype\": \"number\",\n        \"std\": 11.365312950567231,\n        \"min\": -16.6,\n        \"max\": 41.4,\n        \"num_unique_values\": 998,\n        \"samples\": [\n          -5.5,\n          -0.75,\n          20.0\n        ],\n        \"semantic_type\": \"\",\n        \"description\": \"\"\n      }\n    },\n    {\n      \"column\": \"PRES\",\n      \"properties\": {\n        \"dtype\": \"number\",\n        \"std\": 10.225663530534739,\n        \"min\": 982.4,\n        \"max\": 1036.5,\n        \"num_unique_values\": 592,\n        \"samples\": [\n          1035.5,\n          1015.66666666667,\n          1019.4\n        ],\n        \"semantic_type\": \"\",\n        \"description\": \"\"\n      }\n    },\n    {\n      \"column\": \"DEWP\",\n      \"properties\": {\n        \"dtype\": \"number\",\n        \"std\": 13.822098888069853,\n        \"min\": -35.1,\n        \"max\": 27.2,\n        \"num_unique_values\": 602,\n        \"samples\": [\n          -0.8,\n          22.1,\n          -27.5\n        ],\n        \"semantic_type\": \"\",\n        \"description\": \"\"\n      }\n    },\n    {\n      \"column\": \"RAIN\",\n      \"properties\": {\n        \"dtype\": \"number\",\n        \"std\": 0.7528993068242544,\n        \"min\": 0.0,\n        \"max\": 52.1,\n        \"num_unique_values\": 116,\n        \"samples\": [\n          23.7,\n          0.1,\n          3.3\n        ],\n        \"semantic_type\": \"\",\n        \"description\": \"\"\n      }\n    },\n    {\n      \"column\": \"wd\",\n      \"properties\": {\n        \"dtype\": \"category\",\n        \"num_unique_values\": 16,\n        \"samples\": [\n          \"E\",\n          \"ENE\",\n          \"NW\"\n        ],\n        \"semantic_type\": \"\",\n        \"description\": \"\"\n      }\n    },\n    {\n      \"column\": \"WSPM\",\n      \"properties\": {\n        \"dtype\": \"number\",\n        \"std\": 1.3098083299252283,\n        \"min\": 0.0,\n        \"max\": 10.0,\n        \"num_unique_values\": 95,\n        \"samples\": [\n          7.0,\n          1.3,\n          4.8\n        ],\n        \"semantic_type\": \"\",\n        \"description\": \"\"\n      }\n    },\n    {\n      \"column\": \"station\",\n      \"properties\": {\n        \"dtype\": \"category\",\n        \"num_unique_values\": 1,\n        \"samples\": [\n          \"Changping\"\n        ],\n        \"semantic_type\": \"\",\n        \"description\": \"\"\n      }\n    }\n  ]\n}"
            }
          },
          "metadata": {},
          "execution_count": 140
        }
      ],
      "source": [
        "# Menampilkan Isi dari Dataframe\n",
        "changping.head()"
      ]
    },
    {
      "cell_type": "markdown",
      "metadata": {
        "id": "HexGVjJSVXa_"
      },
      "source": [
        "### Dingling"
      ]
    },
    {
      "cell_type": "code",
      "execution_count": 141,
      "metadata": {
        "colab": {
          "base_uri": "https://localhost:8080/"
        },
        "id": "49Kw5gUBWHqv",
        "outputId": "13feeb8f-40e9-4b74-b999-a3e733880992"
      },
      "outputs": [
        {
          "output_type": "stream",
          "name": "stdout",
          "text": [
            "<class 'pandas.core.frame.DataFrame'>\n",
            "RangeIndex: 35064 entries, 0 to 35063\n",
            "Data columns (total 18 columns):\n",
            " #   Column   Non-Null Count  Dtype  \n",
            "---  ------   --------------  -----  \n",
            " 0   No       35064 non-null  int64  \n",
            " 1   year     35064 non-null  int64  \n",
            " 2   month    35064 non-null  int64  \n",
            " 3   day      35064 non-null  int64  \n",
            " 4   hour     35064 non-null  int64  \n",
            " 5   PM2.5    34285 non-null  float64\n",
            " 6   PM10     34408 non-null  float64\n",
            " 7   SO2      34334 non-null  float64\n",
            " 8   NO2      33830 non-null  float64\n",
            " 9   CO       33052 non-null  float64\n",
            " 10  O3       33850 non-null  float64\n",
            " 11  TEMP     35011 non-null  float64\n",
            " 12  PRES     35014 non-null  float64\n",
            " 13  DEWP     35011 non-null  float64\n",
            " 14  RAIN     35013 non-null  float64\n",
            " 15  wd       34924 non-null  object \n",
            " 16  WSPM     35021 non-null  float64\n",
            " 17  station  35064 non-null  object \n",
            "dtypes: float64(11), int64(5), object(2)\n",
            "memory usage: 4.8+ MB\n"
          ]
        }
      ],
      "source": [
        "# Menampilkan Struktur Dataframe\n",
        "dingling.info()"
      ]
    },
    {
      "cell_type": "code",
      "execution_count": 142,
      "metadata": {
        "colab": {
          "base_uri": "https://localhost:8080/",
          "height": 0
        },
        "id": "HfKAklONWPNH",
        "outputId": "74fd05ba-3ec3-4973-ea46-6051f67f8eb4"
      },
      "outputs": [
        {
          "output_type": "stream",
          "name": "stdout",
          "text": [
            "Jumlah missing values: 7015\n"
          ]
        },
        {
          "output_type": "execute_result",
          "data": {
            "text/plain": [
              "No            0\n",
              "year          0\n",
              "month         0\n",
              "day           0\n",
              "hour          0\n",
              "PM2.5       779\n",
              "PM10        656\n",
              "SO2         730\n",
              "NO2        1234\n",
              "CO         2012\n",
              "O3         1214\n",
              "TEMP         53\n",
              "PRES         50\n",
              "DEWP         53\n",
              "RAIN         51\n",
              "wd          140\n",
              "WSPM         43\n",
              "station       0\n",
              "dtype: int64"
            ],
            "text/html": [
              "<div>\n",
              "<style scoped>\n",
              "    .dataframe tbody tr th:only-of-type {\n",
              "        vertical-align: middle;\n",
              "    }\n",
              "\n",
              "    .dataframe tbody tr th {\n",
              "        vertical-align: top;\n",
              "    }\n",
              "\n",
              "    .dataframe thead th {\n",
              "        text-align: right;\n",
              "    }\n",
              "</style>\n",
              "<table border=\"1\" class=\"dataframe\">\n",
              "  <thead>\n",
              "    <tr style=\"text-align: right;\">\n",
              "      <th></th>\n",
              "      <th>0</th>\n",
              "    </tr>\n",
              "  </thead>\n",
              "  <tbody>\n",
              "    <tr>\n",
              "      <th>No</th>\n",
              "      <td>0</td>\n",
              "    </tr>\n",
              "    <tr>\n",
              "      <th>year</th>\n",
              "      <td>0</td>\n",
              "    </tr>\n",
              "    <tr>\n",
              "      <th>month</th>\n",
              "      <td>0</td>\n",
              "    </tr>\n",
              "    <tr>\n",
              "      <th>day</th>\n",
              "      <td>0</td>\n",
              "    </tr>\n",
              "    <tr>\n",
              "      <th>hour</th>\n",
              "      <td>0</td>\n",
              "    </tr>\n",
              "    <tr>\n",
              "      <th>PM2.5</th>\n",
              "      <td>779</td>\n",
              "    </tr>\n",
              "    <tr>\n",
              "      <th>PM10</th>\n",
              "      <td>656</td>\n",
              "    </tr>\n",
              "    <tr>\n",
              "      <th>SO2</th>\n",
              "      <td>730</td>\n",
              "    </tr>\n",
              "    <tr>\n",
              "      <th>NO2</th>\n",
              "      <td>1234</td>\n",
              "    </tr>\n",
              "    <tr>\n",
              "      <th>CO</th>\n",
              "      <td>2012</td>\n",
              "    </tr>\n",
              "    <tr>\n",
              "      <th>O3</th>\n",
              "      <td>1214</td>\n",
              "    </tr>\n",
              "    <tr>\n",
              "      <th>TEMP</th>\n",
              "      <td>53</td>\n",
              "    </tr>\n",
              "    <tr>\n",
              "      <th>PRES</th>\n",
              "      <td>50</td>\n",
              "    </tr>\n",
              "    <tr>\n",
              "      <th>DEWP</th>\n",
              "      <td>53</td>\n",
              "    </tr>\n",
              "    <tr>\n",
              "      <th>RAIN</th>\n",
              "      <td>51</td>\n",
              "    </tr>\n",
              "    <tr>\n",
              "      <th>wd</th>\n",
              "      <td>140</td>\n",
              "    </tr>\n",
              "    <tr>\n",
              "      <th>WSPM</th>\n",
              "      <td>43</td>\n",
              "    </tr>\n",
              "    <tr>\n",
              "      <th>station</th>\n",
              "      <td>0</td>\n",
              "    </tr>\n",
              "  </tbody>\n",
              "</table>\n",
              "</div><br><label><b>dtype:</b> int64</label>"
            ]
          },
          "metadata": {},
          "execution_count": 142
        }
      ],
      "source": [
        "# Menampilkan Missing Value dari setiap kolom\n",
        "print(\"Jumlah missing values:\", dingling.isnull().sum().sum())\n",
        "dingling.isnull().sum()"
      ]
    },
    {
      "cell_type": "code",
      "execution_count": 143,
      "metadata": {
        "colab": {
          "base_uri": "https://localhost:8080/"
        },
        "id": "diX3GeRBWV44",
        "outputId": "d169d6f6-0e2c-43c1-8cbb-02216853905a"
      },
      "outputs": [
        {
          "output_type": "execute_result",
          "data": {
            "text/plain": [
              "np.int64(0)"
            ]
          },
          "metadata": {},
          "execution_count": 143
        }
      ],
      "source": [
        "# Menampilkan Duplicated Data\n",
        "dingling.duplicated().sum()"
      ]
    },
    {
      "cell_type": "code",
      "execution_count": 144,
      "metadata": {
        "colab": {
          "base_uri": "https://localhost:8080/",
          "height": 0
        },
        "id": "Nv81Zuw_Wdmp",
        "outputId": "bbe11bf1-a300-4238-8f10-114ba5a55876"
      },
      "outputs": [
        {
          "output_type": "execute_result",
          "data": {
            "text/plain": [
              "   No  year  month  day  hour  PM2.5  PM10  SO2  NO2     CO    O3  TEMP  \\\n",
              "0   1  2013      3    1     0    4.0   4.0  3.0  NaN  200.0  82.0  -2.3   \n",
              "1   2  2013      3    1     1    7.0   7.0  3.0  NaN  200.0  80.0  -2.5   \n",
              "2   3  2013      3    1     2    5.0   5.0  3.0  2.0  200.0  79.0  -3.0   \n",
              "3   4  2013      3    1     3    6.0   6.0  3.0  NaN  200.0  79.0  -3.6   \n",
              "4   5  2013      3    1     4    5.0   5.0  3.0  NaN  200.0  81.0  -3.5   \n",
              "\n",
              "     PRES  DEWP  RAIN   wd  WSPM   station  \n",
              "0  1020.8 -19.7   0.0    E   0.5  Dingling  \n",
              "1  1021.3 -19.0   0.0  ENE   0.7  Dingling  \n",
              "2  1021.3 -19.9   0.0  ENE   0.2  Dingling  \n",
              "3  1021.8 -19.1   0.0  NNE   1.0  Dingling  \n",
              "4  1022.3 -19.4   0.0    N   2.1  Dingling  "
            ],
            "text/html": [
              "\n",
              "  <div id=\"df-76663a60-38e3-432c-8660-bc9fd5b365dd\" class=\"colab-df-container\">\n",
              "    <div>\n",
              "<style scoped>\n",
              "    .dataframe tbody tr th:only-of-type {\n",
              "        vertical-align: middle;\n",
              "    }\n",
              "\n",
              "    .dataframe tbody tr th {\n",
              "        vertical-align: top;\n",
              "    }\n",
              "\n",
              "    .dataframe thead th {\n",
              "        text-align: right;\n",
              "    }\n",
              "</style>\n",
              "<table border=\"1\" class=\"dataframe\">\n",
              "  <thead>\n",
              "    <tr style=\"text-align: right;\">\n",
              "      <th></th>\n",
              "      <th>No</th>\n",
              "      <th>year</th>\n",
              "      <th>month</th>\n",
              "      <th>day</th>\n",
              "      <th>hour</th>\n",
              "      <th>PM2.5</th>\n",
              "      <th>PM10</th>\n",
              "      <th>SO2</th>\n",
              "      <th>NO2</th>\n",
              "      <th>CO</th>\n",
              "      <th>O3</th>\n",
              "      <th>TEMP</th>\n",
              "      <th>PRES</th>\n",
              "      <th>DEWP</th>\n",
              "      <th>RAIN</th>\n",
              "      <th>wd</th>\n",
              "      <th>WSPM</th>\n",
              "      <th>station</th>\n",
              "    </tr>\n",
              "  </thead>\n",
              "  <tbody>\n",
              "    <tr>\n",
              "      <th>0</th>\n",
              "      <td>1</td>\n",
              "      <td>2013</td>\n",
              "      <td>3</td>\n",
              "      <td>1</td>\n",
              "      <td>0</td>\n",
              "      <td>4.0</td>\n",
              "      <td>4.0</td>\n",
              "      <td>3.0</td>\n",
              "      <td>NaN</td>\n",
              "      <td>200.0</td>\n",
              "      <td>82.0</td>\n",
              "      <td>-2.3</td>\n",
              "      <td>1020.8</td>\n",
              "      <td>-19.7</td>\n",
              "      <td>0.0</td>\n",
              "      <td>E</td>\n",
              "      <td>0.5</td>\n",
              "      <td>Dingling</td>\n",
              "    </tr>\n",
              "    <tr>\n",
              "      <th>1</th>\n",
              "      <td>2</td>\n",
              "      <td>2013</td>\n",
              "      <td>3</td>\n",
              "      <td>1</td>\n",
              "      <td>1</td>\n",
              "      <td>7.0</td>\n",
              "      <td>7.0</td>\n",
              "      <td>3.0</td>\n",
              "      <td>NaN</td>\n",
              "      <td>200.0</td>\n",
              "      <td>80.0</td>\n",
              "      <td>-2.5</td>\n",
              "      <td>1021.3</td>\n",
              "      <td>-19.0</td>\n",
              "      <td>0.0</td>\n",
              "      <td>ENE</td>\n",
              "      <td>0.7</td>\n",
              "      <td>Dingling</td>\n",
              "    </tr>\n",
              "    <tr>\n",
              "      <th>2</th>\n",
              "      <td>3</td>\n",
              "      <td>2013</td>\n",
              "      <td>3</td>\n",
              "      <td>1</td>\n",
              "      <td>2</td>\n",
              "      <td>5.0</td>\n",
              "      <td>5.0</td>\n",
              "      <td>3.0</td>\n",
              "      <td>2.0</td>\n",
              "      <td>200.0</td>\n",
              "      <td>79.0</td>\n",
              "      <td>-3.0</td>\n",
              "      <td>1021.3</td>\n",
              "      <td>-19.9</td>\n",
              "      <td>0.0</td>\n",
              "      <td>ENE</td>\n",
              "      <td>0.2</td>\n",
              "      <td>Dingling</td>\n",
              "    </tr>\n",
              "    <tr>\n",
              "      <th>3</th>\n",
              "      <td>4</td>\n",
              "      <td>2013</td>\n",
              "      <td>3</td>\n",
              "      <td>1</td>\n",
              "      <td>3</td>\n",
              "      <td>6.0</td>\n",
              "      <td>6.0</td>\n",
              "      <td>3.0</td>\n",
              "      <td>NaN</td>\n",
              "      <td>200.0</td>\n",
              "      <td>79.0</td>\n",
              "      <td>-3.6</td>\n",
              "      <td>1021.8</td>\n",
              "      <td>-19.1</td>\n",
              "      <td>0.0</td>\n",
              "      <td>NNE</td>\n",
              "      <td>1.0</td>\n",
              "      <td>Dingling</td>\n",
              "    </tr>\n",
              "    <tr>\n",
              "      <th>4</th>\n",
              "      <td>5</td>\n",
              "      <td>2013</td>\n",
              "      <td>3</td>\n",
              "      <td>1</td>\n",
              "      <td>4</td>\n",
              "      <td>5.0</td>\n",
              "      <td>5.0</td>\n",
              "      <td>3.0</td>\n",
              "      <td>NaN</td>\n",
              "      <td>200.0</td>\n",
              "      <td>81.0</td>\n",
              "      <td>-3.5</td>\n",
              "      <td>1022.3</td>\n",
              "      <td>-19.4</td>\n",
              "      <td>0.0</td>\n",
              "      <td>N</td>\n",
              "      <td>2.1</td>\n",
              "      <td>Dingling</td>\n",
              "    </tr>\n",
              "  </tbody>\n",
              "</table>\n",
              "</div>\n",
              "    <div class=\"colab-df-buttons\">\n",
              "\n",
              "  <div class=\"colab-df-container\">\n",
              "    <button class=\"colab-df-convert\" onclick=\"convertToInteractive('df-76663a60-38e3-432c-8660-bc9fd5b365dd')\"\n",
              "            title=\"Convert this dataframe to an interactive table.\"\n",
              "            style=\"display:none;\">\n",
              "\n",
              "  <svg xmlns=\"http://www.w3.org/2000/svg\" height=\"24px\" viewBox=\"0 -960 960 960\">\n",
              "    <path d=\"M120-120v-720h720v720H120Zm60-500h600v-160H180v160Zm220 220h160v-160H400v160Zm0 220h160v-160H400v160ZM180-400h160v-160H180v160Zm440 0h160v-160H620v160ZM180-180h160v-160H180v160Zm440 0h160v-160H620v160Z\"/>\n",
              "  </svg>\n",
              "    </button>\n",
              "\n",
              "  <style>\n",
              "    .colab-df-container {\n",
              "      display:flex;\n",
              "      gap: 12px;\n",
              "    }\n",
              "\n",
              "    .colab-df-convert {\n",
              "      background-color: #E8F0FE;\n",
              "      border: none;\n",
              "      border-radius: 50%;\n",
              "      cursor: pointer;\n",
              "      display: none;\n",
              "      fill: #1967D2;\n",
              "      height: 32px;\n",
              "      padding: 0 0 0 0;\n",
              "      width: 32px;\n",
              "    }\n",
              "\n",
              "    .colab-df-convert:hover {\n",
              "      background-color: #E2EBFA;\n",
              "      box-shadow: 0px 1px 2px rgba(60, 64, 67, 0.3), 0px 1px 3px 1px rgba(60, 64, 67, 0.15);\n",
              "      fill: #174EA6;\n",
              "    }\n",
              "\n",
              "    .colab-df-buttons div {\n",
              "      margin-bottom: 4px;\n",
              "    }\n",
              "\n",
              "    [theme=dark] .colab-df-convert {\n",
              "      background-color: #3B4455;\n",
              "      fill: #D2E3FC;\n",
              "    }\n",
              "\n",
              "    [theme=dark] .colab-df-convert:hover {\n",
              "      background-color: #434B5C;\n",
              "      box-shadow: 0px 1px 3px 1px rgba(0, 0, 0, 0.15);\n",
              "      filter: drop-shadow(0px 1px 2px rgba(0, 0, 0, 0.3));\n",
              "      fill: #FFFFFF;\n",
              "    }\n",
              "  </style>\n",
              "\n",
              "    <script>\n",
              "      const buttonEl =\n",
              "        document.querySelector('#df-76663a60-38e3-432c-8660-bc9fd5b365dd button.colab-df-convert');\n",
              "      buttonEl.style.display =\n",
              "        google.colab.kernel.accessAllowed ? 'block' : 'none';\n",
              "\n",
              "      async function convertToInteractive(key) {\n",
              "        const element = document.querySelector('#df-76663a60-38e3-432c-8660-bc9fd5b365dd');\n",
              "        const dataTable =\n",
              "          await google.colab.kernel.invokeFunction('convertToInteractive',\n",
              "                                                    [key], {});\n",
              "        if (!dataTable) return;\n",
              "\n",
              "        const docLinkHtml = 'Like what you see? Visit the ' +\n",
              "          '<a target=\"_blank\" href=https://colab.research.google.com/notebooks/data_table.ipynb>data table notebook</a>'\n",
              "          + ' to learn more about interactive tables.';\n",
              "        element.innerHTML = '';\n",
              "        dataTable['output_type'] = 'display_data';\n",
              "        await google.colab.output.renderOutput(dataTable, element);\n",
              "        const docLink = document.createElement('div');\n",
              "        docLink.innerHTML = docLinkHtml;\n",
              "        element.appendChild(docLink);\n",
              "      }\n",
              "    </script>\n",
              "  </div>\n",
              "\n",
              "\n",
              "    <div id=\"df-65ae2a57-e4c6-4c04-b865-9811135eecec\">\n",
              "      <button class=\"colab-df-quickchart\" onclick=\"quickchart('df-65ae2a57-e4c6-4c04-b865-9811135eecec')\"\n",
              "                title=\"Suggest charts\"\n",
              "                style=\"display:none;\">\n",
              "\n",
              "<svg xmlns=\"http://www.w3.org/2000/svg\" height=\"24px\"viewBox=\"0 0 24 24\"\n",
              "     width=\"24px\">\n",
              "    <g>\n",
              "        <path d=\"M19 3H5c-1.1 0-2 .9-2 2v14c0 1.1.9 2 2 2h14c1.1 0 2-.9 2-2V5c0-1.1-.9-2-2-2zM9 17H7v-7h2v7zm4 0h-2V7h2v10zm4 0h-2v-4h2v4z\"/>\n",
              "    </g>\n",
              "</svg>\n",
              "      </button>\n",
              "\n",
              "<style>\n",
              "  .colab-df-quickchart {\n",
              "      --bg-color: #E8F0FE;\n",
              "      --fill-color: #1967D2;\n",
              "      --hover-bg-color: #E2EBFA;\n",
              "      --hover-fill-color: #174EA6;\n",
              "      --disabled-fill-color: #AAA;\n",
              "      --disabled-bg-color: #DDD;\n",
              "  }\n",
              "\n",
              "  [theme=dark] .colab-df-quickchart {\n",
              "      --bg-color: #3B4455;\n",
              "      --fill-color: #D2E3FC;\n",
              "      --hover-bg-color: #434B5C;\n",
              "      --hover-fill-color: #FFFFFF;\n",
              "      --disabled-bg-color: #3B4455;\n",
              "      --disabled-fill-color: #666;\n",
              "  }\n",
              "\n",
              "  .colab-df-quickchart {\n",
              "    background-color: var(--bg-color);\n",
              "    border: none;\n",
              "    border-radius: 50%;\n",
              "    cursor: pointer;\n",
              "    display: none;\n",
              "    fill: var(--fill-color);\n",
              "    height: 32px;\n",
              "    padding: 0;\n",
              "    width: 32px;\n",
              "  }\n",
              "\n",
              "  .colab-df-quickchart:hover {\n",
              "    background-color: var(--hover-bg-color);\n",
              "    box-shadow: 0 1px 2px rgba(60, 64, 67, 0.3), 0 1px 3px 1px rgba(60, 64, 67, 0.15);\n",
              "    fill: var(--button-hover-fill-color);\n",
              "  }\n",
              "\n",
              "  .colab-df-quickchart-complete:disabled,\n",
              "  .colab-df-quickchart-complete:disabled:hover {\n",
              "    background-color: var(--disabled-bg-color);\n",
              "    fill: var(--disabled-fill-color);\n",
              "    box-shadow: none;\n",
              "  }\n",
              "\n",
              "  .colab-df-spinner {\n",
              "    border: 2px solid var(--fill-color);\n",
              "    border-color: transparent;\n",
              "    border-bottom-color: var(--fill-color);\n",
              "    animation:\n",
              "      spin 1s steps(1) infinite;\n",
              "  }\n",
              "\n",
              "  @keyframes spin {\n",
              "    0% {\n",
              "      border-color: transparent;\n",
              "      border-bottom-color: var(--fill-color);\n",
              "      border-left-color: var(--fill-color);\n",
              "    }\n",
              "    20% {\n",
              "      border-color: transparent;\n",
              "      border-left-color: var(--fill-color);\n",
              "      border-top-color: var(--fill-color);\n",
              "    }\n",
              "    30% {\n",
              "      border-color: transparent;\n",
              "      border-left-color: var(--fill-color);\n",
              "      border-top-color: var(--fill-color);\n",
              "      border-right-color: var(--fill-color);\n",
              "    }\n",
              "    40% {\n",
              "      border-color: transparent;\n",
              "      border-right-color: var(--fill-color);\n",
              "      border-top-color: var(--fill-color);\n",
              "    }\n",
              "    60% {\n",
              "      border-color: transparent;\n",
              "      border-right-color: var(--fill-color);\n",
              "    }\n",
              "    80% {\n",
              "      border-color: transparent;\n",
              "      border-right-color: var(--fill-color);\n",
              "      border-bottom-color: var(--fill-color);\n",
              "    }\n",
              "    90% {\n",
              "      border-color: transparent;\n",
              "      border-bottom-color: var(--fill-color);\n",
              "    }\n",
              "  }\n",
              "</style>\n",
              "\n",
              "      <script>\n",
              "        async function quickchart(key) {\n",
              "          const quickchartButtonEl =\n",
              "            document.querySelector('#' + key + ' button');\n",
              "          quickchartButtonEl.disabled = true;  // To prevent multiple clicks.\n",
              "          quickchartButtonEl.classList.add('colab-df-spinner');\n",
              "          try {\n",
              "            const charts = await google.colab.kernel.invokeFunction(\n",
              "                'suggestCharts', [key], {});\n",
              "          } catch (error) {\n",
              "            console.error('Error during call to suggestCharts:', error);\n",
              "          }\n",
              "          quickchartButtonEl.classList.remove('colab-df-spinner');\n",
              "          quickchartButtonEl.classList.add('colab-df-quickchart-complete');\n",
              "        }\n",
              "        (() => {\n",
              "          let quickchartButtonEl =\n",
              "            document.querySelector('#df-65ae2a57-e4c6-4c04-b865-9811135eecec button');\n",
              "          quickchartButtonEl.style.display =\n",
              "            google.colab.kernel.accessAllowed ? 'block' : 'none';\n",
              "        })();\n",
              "      </script>\n",
              "    </div>\n",
              "\n",
              "    </div>\n",
              "  </div>\n"
            ],
            "application/vnd.google.colaboratory.intrinsic+json": {
              "type": "dataframe",
              "variable_name": "dingling",
              "summary": "{\n  \"name\": \"dingling\",\n  \"rows\": 35064,\n  \"fields\": [\n    {\n      \"column\": \"No\",\n      \"properties\": {\n        \"dtype\": \"number\",\n        \"std\": 10122,\n        \"min\": 1,\n        \"max\": 35064,\n        \"num_unique_values\": 35064,\n        \"samples\": [\n          6071,\n          32601,\n          8847\n        ],\n        \"semantic_type\": \"\",\n        \"description\": \"\"\n      }\n    },\n    {\n      \"column\": \"year\",\n      \"properties\": {\n        \"dtype\": \"number\",\n        \"std\": 1,\n        \"min\": 2013,\n        \"max\": 2017,\n        \"num_unique_values\": 5,\n        \"samples\": [\n          2014,\n          2017,\n          2015\n        ],\n        \"semantic_type\": \"\",\n        \"description\": \"\"\n      }\n    },\n    {\n      \"column\": \"month\",\n      \"properties\": {\n        \"dtype\": \"number\",\n        \"std\": 3,\n        \"min\": 1,\n        \"max\": 12,\n        \"num_unique_values\": 12,\n        \"samples\": [\n          1,\n          12,\n          3\n        ],\n        \"semantic_type\": \"\",\n        \"description\": \"\"\n      }\n    },\n    {\n      \"column\": \"day\",\n      \"properties\": {\n        \"dtype\": \"number\",\n        \"std\": 8,\n        \"min\": 1,\n        \"max\": 31,\n        \"num_unique_values\": 31,\n        \"samples\": [\n          28,\n          16,\n          24\n        ],\n        \"semantic_type\": \"\",\n        \"description\": \"\"\n      }\n    },\n    {\n      \"column\": \"hour\",\n      \"properties\": {\n        \"dtype\": \"number\",\n        \"std\": 6,\n        \"min\": 0,\n        \"max\": 23,\n        \"num_unique_values\": 24,\n        \"samples\": [\n          8,\n          16,\n          0\n        ],\n        \"semantic_type\": \"\",\n        \"description\": \"\"\n      }\n    },\n    {\n      \"column\": \"PM2.5\",\n      \"properties\": {\n        \"dtype\": \"number\",\n        \"std\": 72.26772326105251,\n        \"min\": 3.0,\n        \"max\": 881.0,\n        \"num_unique_values\": 486,\n        \"samples\": [\n          497.0,\n          218.0,\n          446.0\n        ],\n        \"semantic_type\": \"\",\n        \"description\": \"\"\n      }\n    },\n    {\n      \"column\": \"PM10\",\n      \"properties\": {\n        \"dtype\": \"number\",\n        \"std\": 79.54168456113032,\n        \"min\": 2.0,\n        \"max\": 905.0,\n        \"num_unique_values\": 554,\n        \"samples\": [\n          217.0,\n          278.0,\n          92.0\n        ],\n        \"semantic_type\": \"\",\n        \"description\": \"\"\n      }\n    },\n    {\n      \"column\": \"SO2\",\n      \"properties\": {\n        \"dtype\": \"number\",\n        \"std\": 15.519259061820346,\n        \"min\": 0.2856,\n        \"max\": 156.0,\n        \"num_unique_values\": 327,\n        \"samples\": [\n          42.2688,\n          3.7128,\n          33.9864\n        ],\n        \"semantic_type\": \"\",\n        \"description\": \"\"\n      }\n    },\n    {\n      \"column\": \"NO2\",\n      \"properties\": {\n        \"dtype\": \"number\",\n        \"std\": 26.383882215560995,\n        \"min\": 1.0265,\n        \"max\": 205.0,\n        \"num_unique_values\": 636,\n        \"samples\": [\n          50.2985,\n          205.0,\n          47.0\n        ],\n        \"semantic_type\": \"\",\n        \"description\": \"\"\n      }\n    },\n    {\n      \"column\": \"CO\",\n      \"properties\": {\n        \"dtype\": \"number\",\n        \"std\": 903.3062200927303,\n        \"min\": 100.0,\n        \"max\": 10000.0,\n        \"num_unique_values\": 103,\n        \"samples\": [\n          4900.0,\n          5300.0,\n          1150.0\n        ],\n        \"semantic_type\": \"\",\n        \"description\": \"\"\n      }\n    },\n    {\n      \"column\": \"O3\",\n      \"properties\": {\n        \"dtype\": \"number\",\n        \"std\": 53.764424005934124,\n        \"min\": 0.2142,\n        \"max\": 500.0,\n        \"num_unique_values\": 792,\n        \"samples\": [\n          288.0,\n          54.8352,\n          17.3502\n        ],\n        \"semantic_type\": \"\",\n        \"description\": \"\"\n      }\n    },\n    {\n      \"column\": \"TEMP\",\n      \"properties\": {\n        \"dtype\": \"number\",\n        \"std\": 11.365312950580158,\n        \"min\": -16.6,\n        \"max\": 41.4,\n        \"num_unique_values\": 998,\n        \"samples\": [\n          -5.5,\n          -0.75,\n          20.0\n        ],\n        \"semantic_type\": \"\",\n        \"description\": \"\"\n      }\n    },\n    {\n      \"column\": \"PRES\",\n      \"properties\": {\n        \"dtype\": \"number\",\n        \"std\": 10.225663528983354,\n        \"min\": 982.4,\n        \"max\": 1036.5,\n        \"num_unique_values\": 593,\n        \"samples\": [\n          1020.6,\n          1011.0,\n          1001.6\n        ],\n        \"semantic_type\": \"\",\n        \"description\": \"\"\n      }\n    },\n    {\n      \"column\": \"DEWP\",\n      \"properties\": {\n        \"dtype\": \"number\",\n        \"std\": 13.822098888069853,\n        \"min\": -35.1,\n        \"max\": 27.2,\n        \"num_unique_values\": 602,\n        \"samples\": [\n          -0.8,\n          22.1,\n          -27.5\n        ],\n        \"semantic_type\": \"\",\n        \"description\": \"\"\n      }\n    },\n    {\n      \"column\": \"RAIN\",\n      \"properties\": {\n        \"dtype\": \"number\",\n        \"std\": 0.7528993068242544,\n        \"min\": 0.0,\n        \"max\": 52.1,\n        \"num_unique_values\": 116,\n        \"samples\": [\n          23.7,\n          0.1,\n          3.3\n        ],\n        \"semantic_type\": \"\",\n        \"description\": \"\"\n      }\n    },\n    {\n      \"column\": \"wd\",\n      \"properties\": {\n        \"dtype\": \"category\",\n        \"num_unique_values\": 16,\n        \"samples\": [\n          \"E\",\n          \"ENE\",\n          \"NW\"\n        ],\n        \"semantic_type\": \"\",\n        \"description\": \"\"\n      }\n    },\n    {\n      \"column\": \"WSPM\",\n      \"properties\": {\n        \"dtype\": \"number\",\n        \"std\": 1.3098083299252283,\n        \"min\": 0.0,\n        \"max\": 10.0,\n        \"num_unique_values\": 95,\n        \"samples\": [\n          7.0,\n          1.3,\n          4.8\n        ],\n        \"semantic_type\": \"\",\n        \"description\": \"\"\n      }\n    },\n    {\n      \"column\": \"station\",\n      \"properties\": {\n        \"dtype\": \"category\",\n        \"num_unique_values\": 1,\n        \"samples\": [\n          \"Dingling\"\n        ],\n        \"semantic_type\": \"\",\n        \"description\": \"\"\n      }\n    }\n  ]\n}"
            }
          },
          "metadata": {},
          "execution_count": 144
        }
      ],
      "source": [
        "# Menampilkan value dari Dataframe\n",
        "dingling.head()"
      ]
    },
    {
      "cell_type": "markdown",
      "metadata": {
        "id": "5BUgWZLWW_34"
      },
      "source": [
        "# Penggabungan Data"
      ]
    },
    {
      "cell_type": "code",
      "execution_count": 145,
      "metadata": {
        "colab": {
          "base_uri": "https://localhost:8080/"
        },
        "id": "WmIHrSPChSkt",
        "outputId": "670b59a7-9053-4323-eb55-e23d1b1e289c"
      },
      "outputs": [
        {
          "output_type": "stream",
          "name": "stdout",
          "text": [
            "station\n",
            "Aotizhongxin    35064\n",
            "Changping       35064\n",
            "Dingling        35064\n",
            "Name: count, dtype: int64\n"
          ]
        }
      ],
      "source": [
        "# Penggabungan Ketiga Dataframe\n",
        "kota = pd.concat([aotizhongxin, changping, dingling]).reset_index(drop=True)\n",
        "print(kota[\"station\"].value_counts())"
      ]
    },
    {
      "cell_type": "code",
      "execution_count": 146,
      "metadata": {
        "colab": {
          "base_uri": "https://localhost:8080/"
        },
        "id": "ictULDYVpzTR",
        "outputId": "1c74b265-905d-42c2-82a4-95819afed1f2"
      },
      "outputs": [
        {
          "output_type": "stream",
          "name": "stdout",
          "text": [
            "             datetime\n",
            "0 2013-03-01 00:00:00\n",
            "1 2013-03-01 01:00:00\n",
            "2 2013-03-01 02:00:00\n",
            "3 2013-03-01 03:00:00\n",
            "4 2013-03-01 04:00:00\n"
          ]
        }
      ],
      "source": [
        "# Menggabungkan Kolom Year, Month, Day, dan Hour mejadi kolom Date\n",
        "kota['datetime'] = pd.to_datetime(kota[['year', 'month', 'day', 'hour']])\n",
        "\n",
        "# Cek hasilnya\n",
        "print(kota[['datetime']].head())"
      ]
    },
    {
      "cell_type": "code",
      "execution_count": 147,
      "metadata": {
        "colab": {
          "base_uri": "https://localhost:8080/"
        },
        "id": "wsnlshtTt8bL",
        "outputId": "76ad7c49-4ad1-4211-d8d1-21bb86f6e799"
      },
      "outputs": [
        {
          "output_type": "stream",
          "name": "stdout",
          "text": [
            "Kolom kategorikal :  ['wd', 'station']\n",
            "Kolom numerikal :  ['No', 'year', 'month', 'day', 'hour', 'PM2.5', 'PM10', 'SO2', 'NO2', 'CO', 'O3', 'TEMP', 'PRES', 'DEWP', 'RAIN', 'WSPM', 'datetime']\n"
          ]
        }
      ],
      "source": [
        "#mengelompokkan kolom berdasarkan data type\n",
        "dtype = kota.dtypes\n",
        "\n",
        "column_by_dtype = {}\n",
        "for column, dtype in dtype.items():\n",
        "    if dtype == 'object':\n",
        "        column_by_dtype['object'] = column_by_dtype.get('object', []) + [column]\n",
        "    else:\n",
        "        column_by_dtype['numeric'] = column_by_dtype.get('numeric', []) + [column]\n",
        "\n",
        "print('Kolom kategorikal : ', column_by_dtype['object'])\n",
        "print('Kolom numerikal : ', column_by_dtype['numeric'])"
      ]
    },
    {
      "cell_type": "code",
      "source": [
        "# Melihat tingkat konsentrasi polutan tertinggi\n",
        "polutan = ['PM2.5', 'PM10', 'SO2', 'NO2', 'CO', 'O3']\n",
        "kota[polutan].mean().sort_values(ascending=False)"
      ],
      "metadata": {
        "colab": {
          "base_uri": "https://localhost:8080/",
          "height": 0
        },
        "id": "l1jx6wFwAL2z",
        "outputId": "b255bf02-25dc-4a39-8621-d40d7c7b7a83"
      },
      "execution_count": 148,
      "outputs": [
        {
          "output_type": "execute_result",
          "data": {
            "text/plain": [
              "CO       1107.307420\n",
              "PM10       96.143238\n",
              "PM2.5      73.274027\n",
              "O3         60.952020\n",
              "NO2        43.726067\n",
              "SO2        14.689739\n",
              "dtype: float64"
            ],
            "text/html": [
              "<div>\n",
              "<style scoped>\n",
              "    .dataframe tbody tr th:only-of-type {\n",
              "        vertical-align: middle;\n",
              "    }\n",
              "\n",
              "    .dataframe tbody tr th {\n",
              "        vertical-align: top;\n",
              "    }\n",
              "\n",
              "    .dataframe thead th {\n",
              "        text-align: right;\n",
              "    }\n",
              "</style>\n",
              "<table border=\"1\" class=\"dataframe\">\n",
              "  <thead>\n",
              "    <tr style=\"text-align: right;\">\n",
              "      <th></th>\n",
              "      <th>0</th>\n",
              "    </tr>\n",
              "  </thead>\n",
              "  <tbody>\n",
              "    <tr>\n",
              "      <th>CO</th>\n",
              "      <td>1107.307420</td>\n",
              "    </tr>\n",
              "    <tr>\n",
              "      <th>PM10</th>\n",
              "      <td>96.143238</td>\n",
              "    </tr>\n",
              "    <tr>\n",
              "      <th>PM2.5</th>\n",
              "      <td>73.274027</td>\n",
              "    </tr>\n",
              "    <tr>\n",
              "      <th>O3</th>\n",
              "      <td>60.952020</td>\n",
              "    </tr>\n",
              "    <tr>\n",
              "      <th>NO2</th>\n",
              "      <td>43.726067</td>\n",
              "    </tr>\n",
              "    <tr>\n",
              "      <th>SO2</th>\n",
              "      <td>14.689739</td>\n",
              "    </tr>\n",
              "  </tbody>\n",
              "</table>\n",
              "</div><br><label><b>dtype:</b> float64</label>"
            ]
          },
          "metadata": {},
          "execution_count": 148
        }
      ]
    },
    {
      "cell_type": "code",
      "source": [
        "# Melihat kota dengan tingkat konsentrasi PM2.5 tertinggi\n",
        "avg_PM25 = kota.groupby('station')['PM2.5'].mean().sort_values(ascending=True)\n",
        "top_PM25 = avg_PM25.tail(1)\n",
        "bottom_PM25 = avg_PM25.head(2)\n",
        "\n",
        "plt.figure(figsize=(12, 6))\n",
        "plt.barh(bottom_PM25.index, bottom_PM25.values, color='salmon', label='Lowest')\n",
        "plt.barh(top_PM25.index, top_PM25.values, color='skyblue', label='Highest')\n",
        "plt.xlabel('PM2.5')\n",
        "plt.ylabel('Station')\n",
        "plt.title('Kota dengan tingkat konsentrasi PM2.5 paling tinggi')\n",
        "plt.legend()\n",
        "plt.show()"
      ],
      "metadata": {
        "id": "c2F7b3tG0oov",
        "colab": {
          "base_uri": "https://localhost:8080/",
          "height": 0
        },
        "outputId": "3185c2bb-1eac-4db3-dd47-db84aa626e42"
      },
      "execution_count": 149,
      "outputs": [
        {
          "output_type": "display_data",
          "data": {
            "text/plain": [
              "<Figure size 1200x600 with 1 Axes>"
            ],
            "image/png": "[encoded data removed]"
          },
          "metadata": {}
        }
      ]
    },
    {
      "cell_type": "code",
      "source": [
        "# Melihat kota dengan tingkat konsentrasi PM10 tertinggi\n",
        "avg_PM10 = kota.groupby('station')['PM10'].mean().sort_values(ascending=True)\n",
        "top_PM10 = avg_PM10.tail(1)\n",
        "bottom_PM10 = avg_PM10.head(2)\n",
        "\n",
        "plt.figure(figsize=(12, 6))\n",
        "plt.barh(bottom_PM10.index, bottom_PM10.values, color='skyblue', label='Lowest')\n",
        "plt.barh(top_PM10.index, top_PM10.values, color='salmon', label='Highest')\n",
        "plt.xlabel('PM10')\n",
        "plt.ylabel('Station')\n",
        "plt.title('Kota dengan tingkat konsentrasi PM10 paling tinggi')\n",
        "plt.legend()\n",
        "plt.show()"
      ],
      "metadata": {
        "colab": {
          "base_uri": "https://localhost:8080/",
          "height": 0
        },
        "id": "lc54b69Zr3jE",
        "outputId": "95fd4cf7-d257-49ae-8dd3-46f02a8272c4"
      },
      "execution_count": 150,
      "outputs": [
        {
          "output_type": "display_data",
          "data": {
            "text/plain": [
              "<Figure size 1200x600 with 1 Axes>"
            ],
            "image/png": "[encoded data removed]"
          },
          "metadata": {}
        }
      ]
    },
    {
      "cell_type": "code",
      "source": [
        "# Melihat kota dengan tingkat konsentrasi SO2 tertinggi\n",
        "avg_SO2 = kota.groupby('station')['SO2'].mean().sort_values(ascending=True)\n",
        "top_SO2 = avg_SO2.tail(1)\n",
        "bottom_SO2 = avg_SO2.head(2)\n",
        "\n",
        "plt.figure(figsize=(12, 6))\n",
        "plt.barh(bottom_SO2.index, bottom_SO2.values, color='skyblue', label='Lowest')\n",
        "plt.barh(top_SO2.index, top_SO2.values, color='salmon', label='Highest')\n",
        "plt.xlabel('SO2')\n",
        "plt.ylabel('Station')\n",
        "plt.title('Kota dengan tingkat konsentrasi SO2 paling tinggi')\n",
        "plt.legend()\n",
        "plt.show()"
      ],
      "metadata": {
        "colab": {
          "base_uri": "https://localhost:8080/",
          "height": 0
        },
        "id": "CU8GfMpusDfT",
        "outputId": "d350a091-4d91-4458-b735-633d633e6f6a"
      },
      "execution_count": 151,
      "outputs": [
        {
          "output_type": "display_data",
          "data": {
            "text/plain": [
              "<Figure size 1200x600 with 1 Axes>"
            ],
            "image/png": "[encoded data removed]"
          },
          "metadata": {}
        }
      ]
    },
    {
      "cell_type": "code",
      "source": [
        "# Melihat kota dengan tingkat konsentrasi NO2 tertinggi dan terendah\n",
        "avg_NO2 = kota.groupby('station')['NO2'].mean().sort_values(ascending=True)\n",
        "top_NO2 = avg_NO2.tail(1)\n",
        "bottom_NO2 = avg_NO2.head(2)\n",
        "\n",
        "plt.figure(figsize=(12, 6))\n",
        "plt.barh(bottom_NO2.index, bottom_NO2.values, color='skyblue', label='Lowest')\n",
        "plt.barh(top_NO2.index, top_NO2.values, color='salmon', label='Highest')\n",
        "plt.xlabel('NO2')\n",
        "plt.ylabel('Station')\n",
        "plt.title('Kota dengan tingkat konsentrasi NO2 paling tinggi')\n",
        "plt.legend()\n",
        "plt.show()"
      ],
      "metadata": {
        "colab": {
          "base_uri": "https://localhost:8080/",
          "height": 0
        },
        "id": "Mt1Lptk4sLOv",
        "outputId": "8611c46f-c56f-422c-b935-df66bfe022eb"
      },
      "execution_count": 152,
      "outputs": [
        {
          "output_type": "display_data",
          "data": {
            "text/plain": [
              "<Figure size 1200x600 with 1 Axes>"
            ],
            "image/png": "[encoded data removed]"
          },
          "metadata": {}
        }
      ]
    },
    {
      "cell_type": "code",
      "source": [
        "# Melihat kota dengan tingkat konsentrasi CO tertinggi dan terendah\n",
        "avg_CO = kota.groupby('station')['CO'].mean().sort_values(ascending=True)\n",
        "top_CO = avg_CO.tail(1)\n",
        "bottom_CO = avg_CO.head(2)\n",
        "\n",
        "plt.figure(figsize=(12, 6))\n",
        "plt.barh(bottom_CO.index, bottom_CO.values, color='skyblue', label='Lowest')\n",
        "plt.barh(top_CO.index, top_CO.values, color='salmon', label='Highest')\n",
        "plt.xlabel('CO')\n",
        "plt.ylabel('Station')\n",
        "plt.title('Kota dengan tingkat konsentrasi CO paling tinggi')\n",
        "plt.legend()\n",
        "plt.show()"
      ],
      "metadata": {
        "colab": {
          "base_uri": "https://localhost:8080/",
          "height": 0
        },
        "id": "Sa6zZMttsVJD",
        "outputId": "f13a856f-54e9-4a3d-dc7d-289a5789fa8e"
      },
      "execution_count": 153,
      "outputs": [
        {
          "output_type": "display_data",
          "data": {
            "text/plain": [
              "<Figure size 1200x600 with 1 Axes>"
            ],
            "image/png": "[encoded data removed]"
          },
          "metadata": {}
        }
      ]
    },
    {
      "cell_type": "code",
      "source": [
        "# Melihat kota dengan tingkat konsentrasi O3 tertinggi dan terendah\n",
        "avg_O3 = kota.groupby('station')['O3'].mean().sort_values(ascending=True)\n",
        "top_O3 = avg_O3.tail(1)\n",
        "bottom_O3 = avg_O3.head(2)\n",
        "\n",
        "plt.figure(figsize=(12, 6))\n",
        "plt.barh(bottom_O3.index, bottom_O3.values, color='skyblue', label='Lowest')\n",
        "plt.barh(top_O3.index, top_O3.values, color='salmon', label='Highest')\n",
        "plt.xlabel('O3')\n",
        "plt.ylabel('Station')\n",
        "plt.title('Kota dengan tingkat konsentrasi O3 paling tinggi')\n",
        "plt.legend()\n",
        "plt.show()"
      ],
      "metadata": {
        "colab": {
          "base_uri": "https://localhost:8080/",
          "height": 0
        },
        "id": "Xg1MJ4Xdsj3A",
        "outputId": "ba53ea4e-ee68-4b65-97bf-08a53283b0bb"
      },
      "execution_count": 154,
      "outputs": [
        {
          "output_type": "display_data",
          "data": {
            "text/plain": [
              "<Figure size 1200x600 with 1 Axes>"
            ],
            "image/png": "[encoded data removed]"
          },
          "metadata": {}
        }
      ]
    },
    {
      "cell_type": "markdown",
      "metadata": {
        "id": "cpgHfgnSK3ip"
      },
      "source": [
        "# **5. Data Preprocessing**"
      ]
    },
    {
      "cell_type": "markdown",
      "metadata": {
        "id": "COf8KUPXLg5r"
      },
      "source": [
        "Pada tahap ini, data preprocessing adalah langkah penting untuk memastikan kualitas data sebelum digunakan dalam model machine learning. Data mentah sering kali mengandung nilai kosong, duplikasi, atau rentang nilai yang tidak konsisten, yang dapat memengaruhi kinerja model. Oleh karena itu, proses ini bertujuan untuk membersihkan dan mempersiapkan data agar analisis berjalan optimal.\n",
        "\n",
        "Berikut adalah tahapan-tahapan yang bisa dilakukan, tetapi **tidak terbatas** pada:\n",
        "1. Menghapus atau Menangani Data Kosong (Missing Values)\n",
        "2. Menghapus Data Duplikat\n",
        "3. Normalisasi atau Standarisasi Fitur\n",
        "4. Deteksi dan Penanganan Outlier\n",
        "5. Encoding Data Kategorikal\n",
        "6. Binning (Pengelompokan Data)\n",
        "\n",
        "Cukup sesuaikan dengan karakteristik data yang kamu gunakan yah."
      ]
    },
    {
      "cell_type": "code",
      "source": [
        "kota = kota.drop('No', axis=1)"
      ],
      "metadata": {
        "id": "6XY--U9UAqdU"
      },
      "execution_count": 155,
      "outputs": []
    },
    {
      "cell_type": "markdown",
      "metadata": {
        "id": "neYewmjtK2vo"
      },
      "source": [
        "## Menangani Missing Value"
      ]
    },
    {
      "cell_type": "code",
      "execution_count": 156,
      "metadata": {
        "colab": {
          "base_uri": "https://localhost:8080/"
        },
        "id": "WzBGjcbQM7N8",
        "outputId": "5aeba221-e8b4-420c-a226-14431d0f7534"
      },
      "outputs": [
        {
          "output_type": "stream",
          "name": "stdout",
          "text": [
            "Jumlah Missing Value:  0\n"
          ]
        }
      ],
      "source": [
        "# Kolom PM2.5\n",
        "kota['PM2.5'] = kota.groupby(\"station\")[\"PM2.5\"].transform(lambda x: x.fillna(x.mean()))\n",
        "print('Jumlah Missing Value: ', kota['PM2.5'].isnull().sum())"
      ]
    },
    {
      "cell_type": "code",
      "execution_count": 157,
      "metadata": {
        "colab": {
          "base_uri": "https://localhost:8080/"
        },
        "id": "yHJHWnqRMyI9",
        "outputId": "d6aa8a2a-5952-4ffc-ab0d-9f8d795e1cfe"
      },
      "outputs": [
        {
          "output_type": "stream",
          "name": "stdout",
          "text": [
            "Jumlah Missing Value:  0\n"
          ]
        }
      ],
      "source": [
        "# Kolom PM10\n",
        "kota['PM10'] = kota.groupby(\"station\")[\"PM10\"].transform(lambda x: x.fillna(x.mean()))\n",
        "print('Jumlah Missing Value: ', kota['PM10'].isnull().sum())"
      ]
    },
    {
      "cell_type": "code",
      "execution_count": 158,
      "metadata": {
        "colab": {
          "base_uri": "https://localhost:8080/"
        },
        "id": "zvIyz-_ePCqE",
        "outputId": "dc65d454-b1f2-4091-c55c-f9d4b2224560"
      },
      "outputs": [
        {
          "output_type": "stream",
          "name": "stdout",
          "text": [
            "Jumlah Missing Value:  0\n"
          ]
        }
      ],
      "source": [
        "# Kolom SO2\n",
        "kota['SO2'] = kota.groupby(\"station\")[\"SO2\"].transform(lambda x: x.fillna(x.mean()))\n",
        "print('Jumlah Missing Value: ', kota['SO2'].isnull().sum())"
      ]
    },
    {
      "cell_type": "code",
      "execution_count": 159,
      "metadata": {
        "colab": {
          "base_uri": "https://localhost:8080/"
        },
        "id": "DM0flN6CPP2h",
        "outputId": "9888e537-2be9-402c-db29-64b25edb348e"
      },
      "outputs": [
        {
          "output_type": "stream",
          "name": "stdout",
          "text": [
            "Jumlah Missing Value:  0\n"
          ]
        }
      ],
      "source": [
        "# Kolom NO2\n",
        "kota['NO2'] = kota.groupby(\"station\")[\"NO2\"].transform(lambda x: x.fillna(x.mean()))\n",
        "print('Jumlah Missing Value: ', kota['NO2'].isnull().sum())"
      ]
    },
    {
      "cell_type": "code",
      "execution_count": 160,
      "metadata": {
        "colab": {
          "base_uri": "https://localhost:8080/"
        },
        "id": "fLJ1Z7GGPVPR",
        "outputId": "e1bd2374-d193-41b3-c821-2867dea1cdb3"
      },
      "outputs": [
        {
          "output_type": "stream",
          "name": "stdout",
          "text": [
            "Jumlah Missing Value:  0\n"
          ]
        }
      ],
      "source": [
        "# Kolom CO\n",
        "kota['CO'] = kota.groupby(\"station\")[\"CO\"].transform(lambda x: x.fillna(x.mean()))\n",
        "print('Jumlah Missing Value: ', kota['CO'].isnull().sum())"
      ]
    },
    {
      "cell_type": "code",
      "execution_count": 161,
      "metadata": {
        "colab": {
          "base_uri": "https://localhost:8080/"
        },
        "id": "vo_uz9uAPdm7",
        "outputId": "a4d78448-6013-434e-e6d3-644694ca9494"
      },
      "outputs": [
        {
          "output_type": "stream",
          "name": "stdout",
          "text": [
            "Jumlah Missing Value:  0\n"
          ]
        }
      ],
      "source": [
        "# Kolom O3\n",
        "kota['O3'] = kota.groupby(\"station\")[\"O3\"].transform(lambda x: x.fillna(x.mean()))\n",
        "print('Jumlah Missing Value: ', kota['O3'].isnull().sum())"
      ]
    },
    {
      "cell_type": "code",
      "execution_count": 162,
      "metadata": {
        "colab": {
          "base_uri": "https://localhost:8080/"
        },
        "id": "4r-W14gCP7Kw",
        "outputId": "508dcfe2-389b-43f2-88ed-2ff373bbaa80"
      },
      "outputs": [
        {
          "output_type": "stream",
          "name": "stdout",
          "text": [
            "Jumlah Missing Value:  0\n"
          ]
        }
      ],
      "source": [
        "# Kolom TEMP\n",
        "kota['TEMP'] = kota.groupby(\"station\")[\"TEMP\"].transform(lambda x: x.fillna(x.mean()))\n",
        "print('Jumlah Missing Value: ', kota['TEMP'].isnull().sum())\n",
        "#"
      ]
    },
    {
      "cell_type": "code",
      "execution_count": 163,
      "metadata": {
        "colab": {
          "base_uri": "https://localhost:8080/"
        },
        "id": "ihmlCl0fP_we",
        "outputId": "90c4e2c8-e543-4f36-899d-0a3d92c23351"
      },
      "outputs": [
        {
          "output_type": "stream",
          "name": "stdout",
          "text": [
            "Jumlah Missing Value:  0\n"
          ]
        }
      ],
      "source": [
        "# Kolom PRES\n",
        "kota['PRES'] = kota.groupby(\"station\")[\"PRES\"].transform(lambda x: x.fillna(x.mean()))\n",
        "print('Jumlah Missing Value: ', kota['PRES'].isnull().sum())"
      ]
    },
    {
      "cell_type": "code",
      "execution_count": 164,
      "metadata": {
        "colab": {
          "base_uri": "https://localhost:8080/"
        },
        "id": "HzHDPvXGQFB3",
        "outputId": "ca2447f5-e739-4bb5-e01c-5565be11bfe8"
      },
      "outputs": [
        {
          "output_type": "stream",
          "name": "stdout",
          "text": [
            "Jumlah Missing Value:  0\n"
          ]
        }
      ],
      "source": [
        "# Kolom DEWP\n",
        "kota['DEWP'] = kota.groupby(\"station\")[\"DEWP\"].transform(lambda x: x.fillna(x.mean()))\n",
        "print('Jumlah Missing Value: ', kota['DEWP'].isnull().sum())"
      ]
    },
    {
      "cell_type": "code",
      "execution_count": 165,
      "metadata": {
        "colab": {
          "base_uri": "https://localhost:8080/"
        },
        "id": "tGqnWoycQJ5q",
        "outputId": "a06f7fcd-4c00-4633-941b-42db4334c088"
      },
      "outputs": [
        {
          "output_type": "stream",
          "name": "stdout",
          "text": [
            "Jumlah Missing Value:  0\n"
          ]
        }
      ],
      "source": [
        "# Kolom RAIN\n",
        "kota['RAIN'] = kota.groupby(\"station\")[\"RAIN\"].transform(lambda x: x.fillna(x.mean()))\n",
        "print('Jumlah Missing Value: ', kota['RAIN'].isnull().sum())"
      ]
    },
    {
      "cell_type": "code",
      "execution_count": 166,
      "metadata": {
        "colab": {
          "base_uri": "https://localhost:8080/"
        },
        "id": "JH3DPCGsQQkW",
        "outputId": "7637dd86-f7b6-415a-e9cb-7cbfcf7d7c01"
      },
      "outputs": [
        {
          "output_type": "stream",
          "name": "stdout",
          "text": [
            "Jumlah Missing Value:  0\n"
          ]
        }
      ],
      "source": [
        "# Kolom WSPM\n",
        "kota['WSPM'] = kota.groupby(\"station\")[\"WSPM\"].transform(lambda x: x.fillna(x.mean()))\n",
        "print('Jumlah Missing Value: ', kota['WSPM'].isnull().sum())\n",
        "#"
      ]
    },
    {
      "cell_type": "code",
      "source": [
        "# Mengatasi Missing Value kolom wd\n",
        "kota['wd'] = kota.groupby('station')['wd'].transform(lambda x: x.fillna(x.mode()[0]))\n",
        "print('Jumlah Missing Value: ', kota['wd'].isnull().sum())"
      ],
      "metadata": {
        "colab": {
          "base_uri": "https://localhost:8080/"
        },
        "id": "zg2LpzV_TXxH",
        "outputId": "bf969468-5954-4417-ec1f-44e89f95a482"
      },
      "execution_count": 167,
      "outputs": [
        {
          "output_type": "stream",
          "name": "stdout",
          "text": [
            "Jumlah Missing Value:  0\n"
          ]
        }
      ]
    },
    {
      "cell_type": "markdown",
      "metadata": {
        "id": "FbKTXx1DsWcJ"
      },
      "source": [
        "## Deteksi Outliers & Penanganan Outliers"
      ]
    },
    {
      "cell_type": "markdown",
      "metadata": {
        "id": "m-3qLFx3wriG"
      },
      "source": [
        "### Deteksi Outliers"
      ]
    },
    {
      "cell_type": "code",
      "execution_count": 168,
      "metadata": {
        "colab": {
          "base_uri": "https://localhost:8080/",
          "height": 1000
        },
        "id": "7RjRRALeseYs",
        "outputId": "8a4726e4-ac4e-4d8c-e1a5-c955b4c3a72d"
      },
      "outputs": [
        {
          "output_type": "display_data",
          "data": {
            "text/plain": [
              "<Figure size 800x550 with 1 Axes>"
            ],
            "image/png": "[encoded data removed]"
          },
          "metadata": {}
        },
        {
          "output_type": "display_data",
          "data": {
            "text/plain": [
              "<Figure size 800x550 with 1 Axes>"
            ],
            "image/png": "[encoded data removed]"
          },
          "metadata": {}
        },
        {
          "output_type": "display_data",
          "data": {
            "text/plain": [
              "<Figure size 800x550 with 1 Axes>"
            ],
            "image/png": "[encoded data removed]"
          },
          "metadata": {}
        },
        {
          "output_type": "display_data",
          "data": {
            "text/plain": [
              "<Figure size 800x550 with 1 Axes>"
            ],
            "image/png": "[encoded data removed]"
          },
          "metadata": {}
        },
        {
          "output_type": "display_data",
          "data": {
            "text/plain": [
              "<Figure size 800x550 with 1 Axes>"
            ],
            "image/png": "[encoded data removed]"
          },
          "metadata": {}
        },
        {
          "output_type": "display_data",
          "data": {
            "text/plain": [
              "<Figure size 800x550 with 1 Axes>"
            ],
            "image/png": "[encoded data removed]"
          },
          "metadata": {}
        },
        {
          "output_type": "display_data",
          "data": {
            "text/plain": [
              "<Figure size 800x550 with 1 Axes>"
            ],
            "image/png": "[encoded data removed]"
          },
          "metadata": {}
        },
        {
          "output_type": "display_data",
          "data": {
            "text/plain": [
              "<Figure size 800x550 with 1 Axes>"
            ],
            "image/png": "[encoded data removed]"
          },
          "metadata": {}
        },
        {
          "output_type": "display_data",
          "data": {
            "text/plain": [
              "<Figure size 800x550 with 1 Axes>"
            ],
            "image/png": "[encoded data removed]"
          },
          "metadata": {}
        },
        {
          "output_type": "display_data",
          "data": {
            "text/plain": [
              "<Figure size 800x550 with 1 Axes>"
            ],
            "image/png": "[encoded data removed]"
          },
          "metadata": {}
        },
        {
          "output_type": "execute_result",
          "data": {
            "text/plain": [
              "Text(0.5, 1.0, 'Boxplot WSPM')"
            ]
          },
          "metadata": {},
          "execution_count": 168
        },
        {
          "output_type": "display_data",
          "data": {
            "text/plain": [
              "<Figure size 800x550 with 1 Axes>"
            ],
            "image/png": "[encoded data removed]"
          },
          "metadata": {}
        }
      ],
      "source": [
        "# PM2.5\n",
        "sns.boxplot(x=kota['PM2.5']) # Deteksi\n",
        "plt.title(\"Boxplot PM2.5\")\n",
        "plt.show()\n",
        "\n",
        "# PM10\n",
        "sns.boxplot(x=kota['PM10']) # Deteksi\n",
        "plt.title(\"Boxplot PM10\")\n",
        "plt.show()\n",
        "\n",
        "# SO2\n",
        "sns.boxplot(x=kota['SO2']) # Deteksi\n",
        "plt.title(\"Boxplot SO2\")\n",
        "plt.show()\n",
        "\n",
        "# NO2\n",
        "sns.boxplot(x=kota['NO2']) # Deteksi\n",
        "plt.title(\"Boxplot NO2\")\n",
        "plt.show()\n",
        "\n",
        "# CO\n",
        "sns.boxplot(x=kota['CO']) # Deteksi\n",
        "plt.title(\"Boxplot CO\")\n",
        "plt.show()\n",
        "\n",
        "# O3\n",
        "sns.boxplot(x=kota['O3']) # Deteksi\n",
        "plt.title(\"Boxplot O3\")\n",
        "plt.show()\n",
        "\n",
        "# TEMP\n",
        "sns.boxplot(x=kota['TEMP']) # Deteksi\n",
        "plt.title(\"Boxplot TEMP\")\n",
        "plt.show()\n",
        "\n",
        "# PRES\n",
        "sns.boxplot(x=kota['PRES']) # Deteksi\n",
        "plt.title(\"Boxplot PRES\")\n",
        "plt.show()\n",
        "\n",
        "# DEWP\n",
        "sns.boxplot(x=kota['DEWP']) # Deteksi\n",
        "plt.title(\"Boxplot DEWP\")\n",
        "plt.show()\n",
        "\n",
        "# RAIN\n",
        "sns.boxplot(x=kota['RAIN']) # Deteksi\n",
        "plt.title(\"Boxplot RAIN\")\n",
        "plt.show()\n",
        "\n",
        "# WSPM\n",
        "sns.boxplot(x=kota['WSPM']) # Deteksi\n",
        "plt.title(\"Boxplot WSPM\")"
      ]
    },
    {
      "cell_type": "code",
      "source": [
        "# Hitung outliers melalui IQR\n",
        "def detect_outliers_iqr(data, column):\n",
        "    Q1 = data[column].quantile(0.25)\n",
        "    Q3 = data[column].quantile(0.75)\n",
        "    IQR = Q3 - Q1\n",
        "\n",
        "    lower_bound = Q1 - 1.5 * IQR\n",
        "    upper_bound = Q3 + 1.5 * IQR\n",
        "\n",
        "    # Filter data outliers\n",
        "    outliers = data[(data[column] < lower_bound) | (data[column] > upper_bound)]\n",
        "\n",
        "    return outliers, len(outliers), (len(outliers) / len(data)) * 100  # Jumlah dan persentase outlier\n",
        "\n",
        "# Hitung presentase outliers untuk polutan\n",
        "outliers_pm25, count_pm25, percent_pm25 = detect_outliers_iqr(kota, \"PM2.5\")\n",
        "outliers_pm10, count_pm10, percent_pm10 = detect_outliers_iqr(kota, \"PM10\")\n",
        "outliers_so2, count_so2, percent_so2 = detect_outliers_iqr(kota, \"SO2\")\n",
        "outliers_no2, count_no2, percent_no2 = detect_outliers_iqr(kota, \"NO2\")\n",
        "outliers_co, count_co, percent_co = detect_outliers_iqr(kota, \"CO\")\n",
        "outliers_o3, count_o3, percent_o3 = detect_outliers_iqr(kota, \"O3\")\n",
        "\n",
        "# Hitung presentase outliers untuk faktor polutan\n",
        "outliers_temp, count_temp, percent_temp = detect_outliers_iqr(kota, \"TEMP\")\n",
        "outliers_pres, count_pres, percent_pres = detect_outliers_iqr(kota, \"PRES\")\n",
        "outliers_dewp, count_dewp, percent_dewp = detect_outliers_iqr(kota, \"DEWP\")\n",
        "outliers_rain, count_rain, percent_rain = detect_outliers_iqr(kota, \"RAIN\")\n",
        "outliers_wspm, count_wspm, percent_wspm = detect_outliers_iqr(kota, \"WSPM\")\n",
        "\n",
        "# Tampilkan presentase outliers hasil polutan\n",
        "print(f\"Outlier PM2.5: {count_pm25} data ({percent_pm25:.2f}%)\")\n",
        "print(f\"Outlier PM10: {count_pm10} data ({percent_pm10:.2f}%)\")\n",
        "print(f\"Outlier SO2: {count_so2} data ({percent_so2:.2f}%)\")\n",
        "print(f\"Outlier NO2: {count_no2} data ({percent_no2:.2f}%)\")\n",
        "print(f\"Outlier CO: {count_co} data ({percent_co:.2f}%)\")\n",
        "print(f\"Outlier O3: {count_o3} data ({percent_o3:.2f}%)\")\n",
        "\n",
        "\n",
        "# Tampilkan hasil faktor polutan\n",
        "print(f\"Outlier TEMP: {count_temp} data ({percent_temp:.2f}%)\")\n",
        "print(f\"Outlier PRES: {count_pres} data ({percent_pres:.2f}%)\")\n",
        "print(f\"Outlier DEWP: {count_dewp} data ({percent_dewp:.2f}%)\")\n",
        "print(f\"Outlier RAIN: {count_rain} data ({percent_rain:.2f}%)\")\n",
        "print(f\"Outlier WSPM: {count_wspm} data ({percent_wspm:.2f}%)\")"
      ],
      "metadata": {
        "colab": {
          "base_uri": "https://localhost:8080/"
        },
        "id": "ZssK1RJNh6kw",
        "outputId": "f9cfba42-2854-49d7-82d5-a2ecde75e83e"
      },
      "execution_count": 169,
      "outputs": [
        {
          "output_type": "stream",
          "name": "stdout",
          "text": [
            "Outlier PM2.5: 5405 data (5.14%)\n",
            "Outlier PM10: 3971 data (3.78%)\n",
            "Outlier SO2: 9450 data (8.98%)\n",
            "Outlier NO2: 2293 data (2.18%)\n",
            "Outlier CO: 7968 data (7.57%)\n",
            "Outlier O3: 4730 data (4.50%)\n",
            "Outlier TEMP: 0 data (0.00%)\n",
            "Outlier PRES: 0 data (0.00%)\n",
            "Outlier DEWP: 0 data (0.00%)\n",
            "Outlier RAIN: 4202 data (3.99%)\n",
            "Outlier WSPM: 6342 data (6.03%)\n"
          ]
        }
      ]
    },
    {
      "cell_type": "markdown",
      "source": [
        "### Handling Outliers"
      ],
      "metadata": {
        "id": "B6vWLB3mi4kL"
      }
    },
    {
      "cell_type": "code",
      "source": [
        "from scipy.stats import shapiro\n",
        "\n",
        "def shapiro_test_columns(kota, columns):\n",
        "    results = {}\n",
        "    for col in columns:\n",
        "        data = kota[col].dropna()\n",
        "        if len(data) < 3:\n",
        "            results[col] = {\"p_value\": None, \"status\": \"Data terlalu sedikit\"}\n",
        "            continue\n",
        "        stat, p = shapiro(data)\n",
        "        status = \"Normal\" if p > 0.05 else \"Tidak Normal\"\n",
        "        results[col] = {\"status\": status}\n",
        "    return results\n"
      ],
      "metadata": {
        "id": "ohZjL7l-rD9y"
      },
      "execution_count": 170,
      "outputs": []
    },
    {
      "cell_type": "code",
      "source": [
        "hasil_uji = shapiro_test_columns(kota, polutan)\n",
        "\n",
        "for col, res in hasil_uji.items():\n",
        "    print(f\"{col}: Distribusi = {res['status']}\")"
      ],
      "metadata": {
        "colab": {
          "base_uri": "https://localhost:8080/"
        },
        "id": "nsw8edui0TM-",
        "outputId": "5210e3e8-f9ee-4dee-9a92-db41f312d414"
      },
      "execution_count": 171,
      "outputs": [
        {
          "output_type": "stream",
          "name": "stdout",
          "text": [
            "PM2.5: Distribusi = Tidak Normal\n",
            "PM10: Distribusi = Tidak Normal\n",
            "SO2: Distribusi = Tidak Normal\n",
            "NO2: Distribusi = Tidak Normal\n",
            "CO: Distribusi = Tidak Normal\n",
            "O3: Distribusi = Tidak Normal\n"
          ]
        }
      ]
    },
    {
      "cell_type": "code",
      "source": [
        "rain_test_result = shapiro_test_columns(kota, ['RAIN'])\n",
        "wspm_test_result = shapiro_test_columns(kota, ['WSPM'])\n",
        "\n",
        "print(\"Distribusi RAIN:\", rain_test_result['RAIN']['status'])\n",
        "print(\"Distribusi WSPM:\", wspm_test_result['WSPM']['status'])"
      ],
      "metadata": {
        "colab": {
          "base_uri": "https://localhost:8080/"
        },
        "id": "mFwtAKZv_SQc",
        "outputId": "893ac97c-3672-4492-aabb-787156c1d6a8"
      },
      "execution_count": 172,
      "outputs": [
        {
          "output_type": "stream",
          "name": "stdout",
          "text": [
            "Distribusi RAIN: Tidak Normal\n",
            "Distribusi WSPM: Tidak Normal\n"
          ]
        }
      ]
    },
    {
      "cell_type": "code",
      "source": [
        "# Handling outlier pada kolom polutan dengan Metode imputasi median\n",
        "def impute_outliers_with_median(kota, column):\n",
        "    Q1 = kota[column].quantile(0.25)\n",
        "    Q3 = kota[column].quantile(0.75)\n",
        "    IQR = Q3 - Q1\n",
        "    lower = Q1 - 1.5 * IQR\n",
        "    upper = Q3 + 1.5 * IQR\n",
        "    median_value = kota[column].median()\n",
        "    kota.loc[(kota[column] < lower) | (kota[column] > upper), column] = median_value\n",
        "    return kota\n",
        "\n",
        "kota = impute_outliers_with_median(kota, 'PM2.5')\n",
        "kota = impute_outliers_with_median(kota,'PM10')\n",
        "kota = impute_outliers_with_median(kota,'SO2')\n",
        "kota = impute_outliers_with_median(kota, 'NO2')\n",
        "kota = impute_outliers_with_median(kota, 'CO')\n",
        "kota = impute_outliers_with_median(kota, 'O3')\n",
        "kota = impute_outliers_with_median(kota, 'RAIN')\n",
        "kota = impute_outliers_with_median(kota, 'WSPM')"
      ],
      "metadata": {
        "id": "TyK8gig43M6s"
      },
      "execution_count": 186,
      "outputs": []
    },
    {
      "cell_type": "code",
      "source": [
        "# PM2.5\n",
        "sns.boxplot(x=kota['PM2.5']) # Deteksi\n",
        "plt.title(\"Boxplot PM2.5\")\n",
        "plt.show()\n",
        "\n",
        "# PM10\n",
        "sns.boxplot(x=kota['PM10']) # Deteksi\n",
        "plt.title(\"Boxplot PM10\")\n",
        "plt.show()\n",
        "\n",
        "# SO2\n",
        "sns.boxplot(x=kota['SO2']) # Deteksi\n",
        "plt.title(\"Boxplot SO2\")\n",
        "plt.show()\n",
        "\n",
        "# NO2\n",
        "sns.boxplot(x=kota['NO2']) # Deteksi\n",
        "plt.title(\"Boxplot NO2\")\n",
        "plt.show()\n",
        "\n",
        "# CO\n",
        "sns.boxplot(x=kota['CO']) # Deteksi\n",
        "plt.title(\"Boxplot CO\")\n",
        "plt.show()\n",
        "\n",
        "# O3\n",
        "sns.boxplot(x=kota['O3']) # Deteksi\n",
        "plt.title(\"Boxplot O3\")\n",
        "plt.show()\n",
        "\n",
        "# RAIN\n",
        "sns.boxplot(x=kota['RAIN']) # Deteksi\n",
        "plt.title(\"Boxplot RAIN\")\n",
        "plt.show()\n",
        "\n",
        "# WSPM\n",
        "sns.boxplot(x=kota['WSPM']) # Deteksi\n",
        "plt.title(\"Boxplot WSPM\")\n",
        "plt.show()"
      ],
      "metadata": {
        "colab": {
          "base_uri": "https://localhost:8080/",
          "height": 1000
        },
        "id": "bjZRgflt6lDM",
        "outputId": "3ce4aa28-1483-4dd3-fc3a-3839d2256f47"
      },
      "execution_count": 174,
      "outputs": [
        {
          "output_type": "display_data",
          "data": {
            "text/plain": [
              "<Figure size 800x550 with 1 Axes>"
            ],
            "image/png": "[encoded data removed]"
          },
          "metadata": {}
        },
        {
          "output_type": "display_data",
          "data": {
            "text/plain": [
              "<Figure size 800x550 with 1 Axes>"
            ],
            "image/png": "[encoded data removed]"
          },
          "metadata": {}
        },
        {
          "output_type": "display_data",
          "data": {
            "text/plain": [
              "<Figure size 800x550 with 1 Axes>"
            ],
            "image/png": "[encoded data removed]"
          },
          "metadata": {}
        },
        {
          "output_type": "display_data",
          "data": {
            "text/plain": [
              "<Figure size 800x550 with 1 Axes>"
            ],
            "image/png": "[encoded data removed]"
          },
          "metadata": {}
        },
        {
          "output_type": "display_data",
          "data": {
            "text/plain": [
              "<Figure size 800x550 with 1 Axes>"
            ],
            "image/png": "[encoded data removed]"
          },
          "metadata": {}
        },
        {
          "output_type": "display_data",
          "data": {
            "text/plain": [
              "<Figure size 800x550 with 1 Axes>"
            ],
            "image/png": "[encoded data removed]"
          },
          "metadata": {}
        },
        {
          "output_type": "display_data",
          "data": {
            "text/plain": [
              "<Figure size 800x550 with 1 Axes>"
            ],
            "image/png": "[encoded data removed]"
          },
          "metadata": {}
        },
        {
          "output_type": "display_data",
          "data": {
            "text/plain": [
              "<Figure size 800x550 with 1 Axes>"
            ],
            "image/png": "[encoded data removed]"
          },
          "metadata": {}
        }
      ]
    },
    {
      "cell_type": "markdown",
      "source": [
        "### Encoding"
      ],
      "metadata": {
        "id": "e93ehgNQjSo9"
      }
    },
    {
      "cell_type": "code",
      "source": [
        "# One-Hot Encoding pada kolom 'wd'\n",
        "encod = pd.get_dummies(kota, columns=['wd'])\n",
        "\n",
        "# Label Encoding pada kolom 'station'\n",
        "label_encoder = LabelEncoder()\n",
        "encod['station'] = label_encoder.fit_transform(encod['station'])\n",
        "\n",
        "\n",
        "# Mengecek kolom setelah encoding\n",
        "print(encod)\n",
        "print(\"Kolom station: \", encod['station'])"
      ],
      "metadata": {
        "colab": {
          "base_uri": "https://localhost:8080/"
        },
        "id": "-XTr6G0KOXk8",
        "outputId": "909c4e12-4beb-49be-f02d-cba15060408d"
      },
      "execution_count": 208,
      "outputs": [
        {
          "output_type": "stream",
          "name": "stdout",
          "text": [
            "        year  month  day  hour  PM2.5  PM10   SO2   NO2     CO     O3  ...  \\\n",
            "0       2013      3    1     0    4.0   4.0   4.0   7.0  300.0   77.0  ...   \n",
            "1       2013      3    1     1    8.0   8.0   4.0   7.0  300.0   77.0  ...   \n",
            "2       2013      3    1     2    7.0   7.0   5.0  10.0  300.0   73.0  ...   \n",
            "3       2013      3    1     3    6.0   6.0  11.0  11.0  300.0   72.0  ...   \n",
            "4       2013      3    1     4    3.0   3.0  12.0  12.0  300.0   72.0  ...   \n",
            "...      ...    ...  ...   ...    ...   ...   ...   ...    ...    ...  ...   \n",
            "105187  2017      2   28    19   11.0  11.0   2.0   2.0  200.0   99.0  ...   \n",
            "105188  2017      2   28    20   13.0  13.0   2.0   2.0  200.0  101.0  ...   \n",
            "105189  2017      2   28    21    9.0  14.0   2.0   2.0  200.0  102.0  ...   \n",
            "105190  2017      2   28    22   10.0  12.0   2.0   2.0  200.0   97.0  ...   \n",
            "105191  2017      2   28    23   13.0  16.0   4.0   9.0  500.0   74.0  ...   \n",
            "\n",
            "        wd_NNW  wd_NW   wd_S  wd_SE  wd_SSE  wd_SSW  wd_SW   wd_W  wd_WNW  \\\n",
            "0         True  False  False  False   False   False  False  False   False   \n",
            "1        False  False  False  False   False   False  False  False   False   \n",
            "2         True  False  False  False   False   False  False  False   False   \n",
            "3        False   True  False  False   False   False  False  False   False   \n",
            "4        False  False  False  False   False   False  False  False   False   \n",
            "...        ...    ...    ...    ...     ...     ...    ...    ...     ...   \n",
            "105187   False  False  False  False   False   False  False  False   False   \n",
            "105188   False  False  False  False   False   False  False  False   False   \n",
            "105189   False  False  False  False   False   False  False  False   False   \n",
            "105190   False   True  False  False   False   False  False  False   False   \n",
            "105191   False  False  False  False   False   False  False  False   False   \n",
            "\n",
            "        wd_WSW  \n",
            "0        False  \n",
            "1        False  \n",
            "2        False  \n",
            "3        False  \n",
            "4        False  \n",
            "...        ...  \n",
            "105187   False  \n",
            "105188   False  \n",
            "105189   False  \n",
            "105190   False  \n",
            "105191   False  \n",
            "\n",
            "[105192 rows x 34 columns]\n",
            "Kolom station:  0         0\n",
            "1         0\n",
            "2         0\n",
            "3         0\n",
            "4         0\n",
            "         ..\n",
            "105187    2\n",
            "105188    2\n",
            "105189    2\n",
            "105190    2\n",
            "105191    2\n",
            "Name: station, Length: 105192, dtype: int64\n"
          ]
        }
      ]
    },
    {
      "cell_type": "markdown",
      "metadata": {
        "id": "BR73dCnrLEiq"
      },
      "source": [
        "# **6. Pembangunan Model Clustering**"
      ]
    },
    {
      "cell_type": "markdown",
      "metadata": {
        "id": "Fkd_QHXWMBDr"
      },
      "source": [
        "## **a. Pembangunan Model Clustering**"
      ]
    },
    {
      "cell_type": "markdown",
      "metadata": {
        "id": "Kn6Y2qbqMVLP"
      },
      "source": [
        "Pada tahap ini, Anda membangun model clustering dengan memilih algoritma yang sesuai untuk mengelompokkan data berdasarkan kesamaan. Berikut adalah **rekomendasi** tahapannya.\n",
        "1. Pilih algoritma clustering yang sesuai.\n",
        "2. Latih model dengan data menggunakan algoritma tersebut."
      ]
    },
    {
      "cell_type": "code",
      "source": [
        "kota.head()"
      ],
      "metadata": {
        "colab": {
          "base_uri": "https://localhost:8080/",
          "height": 206
        },
        "id": "uh34HJQnSgTO",
        "outputId": "b4e2407e-38bd-40cd-be37-6b6b6ab669f1"
      },
      "execution_count": 200,
      "outputs": [
        {
          "output_type": "execute_result",
          "data": {
            "text/plain": [
              "   year  month  day  hour  PM2.5  PM10   SO2   NO2     CO    O3  TEMP    PRES  \\\n",
              "0  2013      3    1     0    4.0   4.0   4.0   7.0  300.0  77.0  -0.7  1023.0   \n",
              "1  2013      3    1     1    8.0   8.0   4.0   7.0  300.0  77.0  -1.1  1023.2   \n",
              "2  2013      3    1     2    7.0   7.0   5.0  10.0  300.0  73.0  -1.1  1023.5   \n",
              "3  2013      3    1     3    6.0   6.0  11.0  11.0  300.0  72.0  -1.4  1024.5   \n",
              "4  2013      3    1     4    3.0   3.0  12.0  12.0  300.0  72.0  -2.0  1025.2   \n",
              "\n",
              "   DEWP  RAIN   wd  WSPM  station            datetime  wd_encod  \n",
              "0 -18.8   0.0  NNW   1.5        0 2013-03-01 00:00:00        15  \n",
              "1 -18.2   0.0    N   1.5        0 2013-03-01 01:00:00         0  \n",
              "2 -18.2   0.0  NNW   1.5        0 2013-03-01 02:00:00        15  \n",
              "3 -19.4   0.0   NW   3.1        0 2013-03-01 03:00:00        14  \n",
              "4 -19.5   0.0    N   2.0        0 2013-03-01 04:00:00         0  "
            ],
            "text/html": [
              "\n",
              "  <div id=\"df-0f6bc3da-a3eb-4b76-ac3a-f193bf3f9e2c\" class=\"colab-df-container\">\n",
              "    <div>\n",
              "<style scoped>\n",
              "    .dataframe tbody tr th:only-of-type {\n",
              "        vertical-align: middle;\n",
              "    }\n",
              "\n",
              "    .dataframe tbody tr th {\n",
              "        vertical-align: top;\n",
              "    }\n",
              "\n",
              "    .dataframe thead th {\n",
              "        text-align: right;\n",
              "    }\n",
              "</style>\n",
              "<table border=\"1\" class=\"dataframe\">\n",
              "  <thead>\n",
              "    <tr style=\"text-align: right;\">\n",
              "      <th></th>\n",
              "      <th>year</th>\n",
              "      <th>month</th>\n",
              "      <th>day</th>\n",
              "      <th>hour</th>\n",
              "      <th>PM2.5</th>\n",
              "      <th>PM10</th>\n",
              "      <th>SO2</th>\n",
              "      <th>NO2</th>\n",
              "      <th>CO</th>\n",
              "      <th>O3</th>\n",
              "      <th>TEMP</th>\n",
              "      <th>PRES</th>\n",
              "      <th>DEWP</th>\n",
              "      <th>RAIN</th>\n",
              "      <th>wd</th>\n",
              "      <th>WSPM</th>\n",
              "      <th>station</th>\n",
              "      <th>datetime</th>\n",
              "      <th>wd_encod</th>\n",
              "    </tr>\n",
              "  </thead>\n",
              "  <tbody>\n",
              "    <tr>\n",
              "      <th>0</th>\n",
              "      <td>2013</td>\n",
              "      <td>3</td>\n",
              "      <td>1</td>\n",
              "      <td>0</td>\n",
              "      <td>4.0</td>\n",
              "      <td>4.0</td>\n",
              "      <td>4.0</td>\n",
              "      <td>7.0</td>\n",
              "      <td>300.0</td>\n",
              "      <td>77.0</td>\n",
              "      <td>-0.7</td>\n",
              "      <td>1023.0</td>\n",
              "      <td>-18.8</td>\n",
              "      <td>0.0</td>\n",
              "      <td>NNW</td>\n",
              "      <td>1.5</td>\n",
              "      <td>0</td>\n",
              "      <td>2013-03-01 00:00:00</td>\n",
              "      <td>15</td>\n",
              "    </tr>\n",
              "    <tr>\n",
              "      <th>1</th>\n",
              "      <td>2013</td>\n",
              "      <td>3</td>\n",
              "      <td>1</td>\n",
              "      <td>1</td>\n",
              "      <td>8.0</td>\n",
              "      <td>8.0</td>\n",
              "      <td>4.0</td>\n",
              "      <td>7.0</td>\n",
              "      <td>300.0</td>\n",
              "      <td>77.0</td>\n",
              "      <td>-1.1</td>\n",
              "      <td>1023.2</td>\n",
              "      <td>-18.2</td>\n",
              "      <td>0.0</td>\n",
              "      <td>N</td>\n",
              "      <td>1.5</td>\n",
              "      <td>0</td>\n",
              "      <td>2013-03-01 01:00:00</td>\n",
              "      <td>0</td>\n",
              "    </tr>\n",
              "    <tr>\n",
              "      <th>2</th>\n",
              "      <td>2013</td>\n",
              "      <td>3</td>\n",
              "      <td>1</td>\n",
              "      <td>2</td>\n",
              "      <td>7.0</td>\n",
              "      <td>7.0</td>\n",
              "      <td>5.0</td>\n",
              "      <td>10.0</td>\n",
              "      <td>300.0</td>\n",
              "      <td>73.0</td>\n",
              "      <td>-1.1</td>\n",
              "      <td>1023.5</td>\n",
              "      <td>-18.2</td>\n",
              "      <td>0.0</td>\n",
              "      <td>NNW</td>\n",
              "      <td>1.5</td>\n",
              "      <td>0</td>\n",
              "      <td>2013-03-01 02:00:00</td>\n",
              "      <td>15</td>\n",
              "    </tr>\n",
              "    <tr>\n",
              "      <th>3</th>\n",
              "      <td>2013</td>\n",
              "      <td>3</td>\n",
              "      <td>1</td>\n",
              "      <td>3</td>\n",
              "      <td>6.0</td>\n",
              "      <td>6.0</td>\n",
              "      <td>11.0</td>\n",
              "      <td>11.0</td>\n",
              "      <td>300.0</td>\n",
              "      <td>72.0</td>\n",
              "      <td>-1.4</td>\n",
              "      <td>1024.5</td>\n",
              "      <td>-19.4</td>\n",
              "      <td>0.0</td>\n",
              "      <td>NW</td>\n",
              "      <td>3.1</td>\n",
              "      <td>0</td>\n",
              "      <td>2013-03-01 03:00:00</td>\n",
              "      <td>14</td>\n",
              "    </tr>\n",
              "    <tr>\n",
              "      <th>4</th>\n",
              "      <td>2013</td>\n",
              "      <td>3</td>\n",
              "      <td>1</td>\n",
              "      <td>4</td>\n",
              "      <td>3.0</td>\n",
              "      <td>3.0</td>\n",
              "      <td>12.0</td>\n",
              "      <td>12.0</td>\n",
              "      <td>300.0</td>\n",
              "      <td>72.0</td>\n",
              "      <td>-2.0</td>\n",
              "      <td>1025.2</td>\n",
              "      <td>-19.5</td>\n",
              "      <td>0.0</td>\n",
              "      <td>N</td>\n",
              "      <td>2.0</td>\n",
              "      <td>0</td>\n",
              "      <td>2013-03-01 04:00:00</td>\n",
              "      <td>0</td>\n",
              "    </tr>\n",
              "  </tbody>\n",
              "</table>\n",
              "</div>\n",
              "    <div class=\"colab-df-buttons\">\n",
              "\n",
              "  <div class=\"colab-df-container\">\n",
              "    <button class=\"colab-df-convert\" onclick=\"convertToInteractive('df-0f6bc3da-a3eb-4b76-ac3a-f193bf3f9e2c')\"\n",
              "            title=\"Convert this dataframe to an interactive table.\"\n",
              "            style=\"display:none;\">\n",
              "\n",
              "  <svg xmlns=\"http://www.w3.org/2000/svg\" height=\"24px\" viewBox=\"0 -960 960 960\">\n",
              "    <path d=\"M120-120v-720h720v720H120Zm60-500h600v-160H180v160Zm220 220h160v-160H400v160Zm0 220h160v-160H400v160ZM180-400h160v-160H180v160Zm440 0h160v-160H620v160ZM180-180h160v-160H180v160Zm440 0h160v-160H620v160Z\"/>\n",
              "  </svg>\n",
              "    </button>\n",
              "\n",
              "  <style>\n",
              "    .colab-df-container {\n",
              "      display:flex;\n",
              "      gap: 12px;\n",
              "    }\n",
              "\n",
              "    .colab-df-convert {\n",
              "      background-color: #E8F0FE;\n",
              "      border: none;\n",
              "      border-radius: 50%;\n",
              "      cursor: pointer;\n",
              "      display: none;\n",
              "      fill: #1967D2;\n",
              "      height: 32px;\n",
              "      padding: 0 0 0 0;\n",
              "      width: 32px;\n",
              "    }\n",
              "\n",
              "    .colab-df-convert:hover {\n",
              "      background-color: #E2EBFA;\n",
              "      box-shadow: 0px 1px 2px rgba(60, 64, 67, 0.3), 0px 1px 3px 1px rgba(60, 64, 67, 0.15);\n",
              "      fill: #174EA6;\n",
              "    }\n",
              "\n",
              "    .colab-df-buttons div {\n",
              "      margin-bottom: 4px;\n",
              "    }\n",
              "\n",
              "    [theme=dark] .colab-df-convert {\n",
              "      background-color: #3B4455;\n",
              "      fill: #D2E3FC;\n",
              "    }\n",
              "\n",
              "    [theme=dark] .colab-df-convert:hover {\n",
              "      background-color: #434B5C;\n",
              "      box-shadow: 0px 1px 3px 1px rgba(0, 0, 0, 0.15);\n",
              "      filter: drop-shadow(0px 1px 2px rgba(0, 0, 0, 0.3));\n",
              "      fill: #FFFFFF;\n",
              "    }\n",
              "  </style>\n",
              "\n",
              "    <script>\n",
              "      const buttonEl =\n",
              "        document.querySelector('#df-0f6bc3da-a3eb-4b76-ac3a-f193bf3f9e2c button.colab-df-convert');\n",
              "      buttonEl.style.display =\n",
              "        google.colab.kernel.accessAllowed ? 'block' : 'none';\n",
              "\n",
              "      async function convertToInteractive(key) {\n",
              "        const element = document.querySelector('#df-0f6bc3da-a3eb-4b76-ac3a-f193bf3f9e2c');\n",
              "        const dataTable =\n",
              "          await google.colab.kernel.invokeFunction('convertToInteractive',\n",
              "                                                    [key], {});\n",
              "        if (!dataTable) return;\n",
              "\n",
              "        const docLinkHtml = 'Like what you see? Visit the ' +\n",
              "          '<a target=\"_blank\" href=https://colab.research.google.com/notebooks/data_table.ipynb>data table notebook</a>'\n",
              "          + ' to learn more about interactive tables.';\n",
              "        element.innerHTML = '';\n",
              "        dataTable['output_type'] = 'display_data';\n",
              "        await google.colab.output.renderOutput(dataTable, element);\n",
              "        const docLink = document.createElement('div');\n",
              "        docLink.innerHTML = docLinkHtml;\n",
              "        element.appendChild(docLink);\n",
              "      }\n",
              "    </script>\n",
              "  </div>\n",
              "\n",
              "\n",
              "    <div id=\"df-08c3cd8d-f5e0-42ea-aa86-0ebf3b550967\">\n",
              "      <button class=\"colab-df-quickchart\" onclick=\"quickchart('df-08c3cd8d-f5e0-42ea-aa86-0ebf3b550967')\"\n",
              "                title=\"Suggest charts\"\n",
              "                style=\"display:none;\">\n",
              "\n",
              "<svg xmlns=\"http://www.w3.org/2000/svg\" height=\"24px\"viewBox=\"0 0 24 24\"\n",
              "     width=\"24px\">\n",
              "    <g>\n",
              "        <path d=\"M19 3H5c-1.1 0-2 .9-2 2v14c0 1.1.9 2 2 2h14c1.1 0 2-.9 2-2V5c0-1.1-.9-2-2-2zM9 17H7v-7h2v7zm4 0h-2V7h2v10zm4 0h-2v-4h2v4z\"/>\n",
              "    </g>\n",
              "</svg>\n",
              "      </button>\n",
              "\n",
              "<style>\n",
              "  .colab-df-quickchart {\n",
              "      --bg-color: #E8F0FE;\n",
              "      --fill-color: #1967D2;\n",
              "      --hover-bg-color: #E2EBFA;\n",
              "      --hover-fill-color: #174EA6;\n",
              "      --disabled-fill-color: #AAA;\n",
              "      --disabled-bg-color: #DDD;\n",
              "  }\n",
              "\n",
              "  [theme=dark] .colab-df-quickchart {\n",
              "      --bg-color: #3B4455;\n",
              "      --fill-color: #D2E3FC;\n",
              "      --hover-bg-color: #434B5C;\n",
              "      --hover-fill-color: #FFFFFF;\n",
              "      --disabled-bg-color: #3B4455;\n",
              "      --disabled-fill-color: #666;\n",
              "  }\n",
              "\n",
              "  .colab-df-quickchart {\n",
              "    background-color: var(--bg-color);\n",
              "    border: none;\n",
              "    border-radius: 50%;\n",
              "    cursor: pointer;\n",
              "    display: none;\n",
              "    fill: var(--fill-color);\n",
              "    height: 32px;\n",
              "    padding: 0;\n",
              "    width: 32px;\n",
              "  }\n",
              "\n",
              "  .colab-df-quickchart:hover {\n",
              "    background-color: var(--hover-bg-color);\n",
              "    box-shadow: 0 1px 2px rgba(60, 64, 67, 0.3), 0 1px 3px 1px rgba(60, 64, 67, 0.15);\n",
              "    fill: var(--button-hover-fill-color);\n",
              "  }\n",
              "\n",
              "  .colab-df-quickchart-complete:disabled,\n",
              "  .colab-df-quickchart-complete:disabled:hover {\n",
              "    background-color: var(--disabled-bg-color);\n",
              "    fill: var(--disabled-fill-color);\n",
              "    box-shadow: none;\n",
              "  }\n",
              "\n",
              "  .colab-df-spinner {\n",
              "    border: 2px solid var(--fill-color);\n",
              "    border-color: transparent;\n",
              "    border-bottom-color: var(--fill-color);\n",
              "    animation:\n",
              "      spin 1s steps(1) infinite;\n",
              "  }\n",
              "\n",
              "  @keyframes spin {\n",
              "    0% {\n",
              "      border-color: transparent;\n",
              "      border-bottom-color: var(--fill-color);\n",
              "      border-left-color: var(--fill-color);\n",
              "    }\n",
              "    20% {\n",
              "      border-color: transparent;\n",
              "      border-left-color: var(--fill-color);\n",
              "      border-top-color: var(--fill-color);\n",
              "    }\n",
              "    30% {\n",
              "      border-color: transparent;\n",
              "      border-left-color: var(--fill-color);\n",
              "      border-top-color: var(--fill-color);\n",
              "      border-right-color: var(--fill-color);\n",
              "    }\n",
              "    40% {\n",
              "      border-color: transparent;\n",
              "      border-right-color: var(--fill-color);\n",
              "      border-top-color: var(--fill-color);\n",
              "    }\n",
              "    60% {\n",
              "      border-color: transparent;\n",
              "      border-right-color: var(--fill-color);\n",
              "    }\n",
              "    80% {\n",
              "      border-color: transparent;\n",
              "      border-right-color: var(--fill-color);\n",
              "      border-bottom-color: var(--fill-color);\n",
              "    }\n",
              "    90% {\n",
              "      border-color: transparent;\n",
              "      border-bottom-color: var(--fill-color);\n",
              "    }\n",
              "  }\n",
              "</style>\n",
              "\n",
              "      <script>\n",
              "        async function quickchart(key) {\n",
              "          const quickchartButtonEl =\n",
              "            document.querySelector('#' + key + ' button');\n",
              "          quickchartButtonEl.disabled = true;  // To prevent multiple clicks.\n",
              "          quickchartButtonEl.classList.add('colab-df-spinner');\n",
              "          try {\n",
              "            const charts = await google.colab.kernel.invokeFunction(\n",
              "                'suggestCharts', [key], {});\n",
              "          } catch (error) {\n",
              "            console.error('Error during call to suggestCharts:', error);\n",
              "          }\n",
              "          quickchartButtonEl.classList.remove('colab-df-spinner');\n",
              "          quickchartButtonEl.classList.add('colab-df-quickchart-complete');\n",
              "        }\n",
              "        (() => {\n",
              "          let quickchartButtonEl =\n",
              "            document.querySelector('#df-08c3cd8d-f5e0-42ea-aa86-0ebf3b550967 button');\n",
              "          quickchartButtonEl.style.display =\n",
              "            google.colab.kernel.accessAllowed ? 'block' : 'none';\n",
              "        })();\n",
              "      </script>\n",
              "    </div>\n",
              "\n",
              "    </div>\n",
              "  </div>\n"
            ],
            "application/vnd.google.colaboratory.intrinsic+json": {
              "type": "dataframe",
              "variable_name": "kota"
            }
          },
          "metadata": {},
          "execution_count": 200
        }
      ]
    },
    {
      "cell_type": "code",
      "source": [
        "# Fitur polutan untuk clustering\n",
        "features = ['PM2.5', 'PM10', 'SO2', 'NO2', 'CO', 'O3']\n",
        "X = encod[features]\n",
        "\n",
        "# Scaling hanya pada fitur polusi udara dengan RobustScaler\n",
        "scaler = RobustScaler()\n",
        "df_scaled = scaler.fit_transform(X)\n",
        "df_scaled = pd.DataFrame(df_scaled, columns=features)"
      ],
      "metadata": {
        "id": "skuAWpmbqQy8"
      },
      "execution_count": 209,
      "outputs": []
    },
    {
      "cell_type": "code",
      "source": [
        "# Menyimpan silhouette score untuk setiap K\n",
        "silhouette_scores = []\n",
        "\n",
        "for k in range(2, 11):  # Silhouette tidak bisa dihitung untuk K=1\n",
        "    kmeans = KMeans(n_clusters=k, random_state=42, n_init=10)\n",
        "    labels = kmeans.fit_predict(df_scaled)\n",
        "    score = silhouette_score(df_scaled, labels)\n",
        "    silhouette_scores.append((k, score))\n",
        "    print(f'K = {k}, Silhouette Score = {score:.4f}')\n",
        "\n",
        "# Menampilkan grafik Silhouette Score\n",
        "k_values, scores = zip(*silhouette_scores)\n",
        "plt.figure(figsize=(8, 5))\n",
        "plt.plot(k_values, scores, marker='o', linestyle='--', color='g')\n",
        "plt.xlabel('Jumlah Cluster (K)')\n",
        "plt.ylabel('Silhouette Score')\n",
        "plt.title('Silhouette Score untuk Menentukan K Optimal')\n",
        "plt.show()\n"
      ],
      "metadata": {
        "colab": {
          "base_uri": "https://localhost:8080/",
          "height": 641
        },
        "id": "uATOq77_f50B",
        "outputId": "9d7a6cc2-4dc0-4b27-88e5-e539cbe81c3a"
      },
      "execution_count": 190,
      "outputs": [
        {
          "output_type": "stream",
          "name": "stdout",
          "text": [
            "K = 2, Silhouette Score = 0.3191\n",
            "K = 3, Silhouette Score = 0.3098\n",
            "K = 4, Silhouette Score = 0.2426\n",
            "K = 5, Silhouette Score = 0.2573\n",
            "K = 6, Silhouette Score = 0.2543\n",
            "K = 7, Silhouette Score = 0.2473\n",
            "K = 8, Silhouette Score = 0.2201\n",
            "K = 9, Silhouette Score = 0.2105\n",
            "K = 10, Silhouette Score = 0.1908\n"
          ]
        },
        {
          "output_type": "display_data",
          "data": {
            "text/plain": [
              "<Figure size 800x500 with 1 Axes>"
            ],
            "image/png": "[encoded data removed]"
          },
          "metadata": {}
        }
      ]
    },
    {
      "cell_type": "code",
      "source": [
        "# K-Means Clustering untuk K=2\n",
        "kmeans = KMeans(n_clusters=2, random_state=42, n_init=10)\n",
        "kmeans.fit(df_scaled)  # Lakukan clustering pada data yang telah di-scaling\n",
        "df_scaled['Cluster'] = kmeans.labels_"
      ],
      "metadata": {
        "id": "pNxj2KAm7Wj_"
      },
      "execution_count": 213,
      "outputs": []
    },
    {
      "cell_type": "markdown",
      "metadata": {
        "id": "zsGVwzPKMEvn"
      },
      "source": [
        "## **b. Evaluasi Model Clustering**"
      ]
    },
    {
      "cell_type": "markdown",
      "metadata": {
        "id": "qk63ew39MeBf"
      },
      "source": [
        "Untuk menentukan jumlah cluster yang optimal dalam model clustering, Anda dapat menggunakan metode Elbow atau Silhouette Score.\n",
        "\n",
        "Metode ini membantu kita menemukan jumlah cluster yang memberikan pemisahan terbaik antar kelompok data, sehingga model yang dibangun dapat lebih efektif. Berikut adalah **rekomendasi** tahapannya.\n",
        "1. Gunakan Silhouette Score dan Elbow Method untuk menentukan jumlah cluster optimal.\n",
        "2. Hitung Silhouette Score sebagai ukuran kualitas cluster."
      ]
    },
    {
      "cell_type": "code",
      "source": [
        "# Menentukan jumlah klaster optimal dengan metode Elbow\n",
        "inertia = []\n",
        "K_range = range(1, 11)\n",
        "\n",
        "for k in K_range:\n",
        "    kmeans = KMeans(n_clusters=k, random_state=42, n_init=10)\n",
        "    kmeans.fit(df_scaled)\n",
        "    inertia.append(kmeans.inertia_)\n",
        "\n",
        "# Plot Elbow Method\n",
        "plt.figure(figsize=(8, 5))\n",
        "plt.plot(K_range, inertia, marker='o', linestyle='-')\n",
        "plt.xlabel('Jumlah Klaster (K)')\n",
        "plt.ylabel('Inertia')\n",
        "plt.title('Metode Elbow untuk Menentukan K Optimal')\n",
        "plt.show()"
      ],
      "metadata": {
        "colab": {
          "base_uri": "https://localhost:8080/",
          "height": 485
        },
        "id": "uU1H1wA6uOhv",
        "outputId": "c6a312ab-ecf2-464e-fbd5-92838847629f"
      },
      "execution_count": 220,
      "outputs": [
        {
          "output_type": "display_data",
          "data": {
            "text/plain": [
              "<Figure size 800x500 with 1 Axes>"
            ],
            "image/png": "[encoded data removed]"
          },
          "metadata": {}
        }
      ]
    },
    {
      "cell_type": "markdown",
      "metadata": {
        "id": "vWZp5vKNQddd"
      },
      "source": [
        "## **c. Feature Selection (Opsional)**"
      ]
    },
    {
      "cell_type": "markdown",
      "metadata": {
        "id": "QIHKgE07Q4c0"
      },
      "source": [
        "Silakan lakukan feature selection jika Anda membutuhkan optimasi model clustering. Jika Anda menerapkan proses ini, silakan lakukan pemodelan dan evaluasi kembali menggunakan kolom-kolom hasil feature selection. Terakhir, bandingkan hasil performa model sebelum dan sesudah menerapkan feature selection."
      ]
    },
    {
      "cell_type": "code",
      "execution_count": 211,
      "metadata": {
        "id": "Vbstha0PRUpI"
      },
      "outputs": [],
      "source": [
        "# Terapkan PCA untuk mengurangi dimensi menjadi 2D\n",
        "pca = PCA(n_components=2)\n",
        "pca_components = pca.fit_transform(df_scaled)"
      ]
    },
    {
      "cell_type": "markdown",
      "metadata": {
        "id": "nn01TKkLLRiF"
      },
      "source": [
        "## **d. Visualisasi Hasil Clustering**"
      ]
    },
    {
      "cell_type": "markdown",
      "metadata": {
        "id": "gaz0fnhhMkRI"
      },
      "source": [
        "Setelah model clustering dilatih dan jumlah cluster optimal ditentukan, langkah selanjutnya adalah menampilkan hasil clustering melalui visualisasi.\n",
        "\n",
        "Berikut adalah **rekomendasi** tahapannya.\n",
        "1. Tampilkan hasil clustering dalam bentuk visualisasi, seperti grafik scatter plot atau 2D PCA projection."
      ]
    },
    {
      "cell_type": "code",
      "execution_count": 214,
      "metadata": {
        "id": "lfOjVvfYM-4v",
        "colab": {
          "base_uri": "https://localhost:8080/",
          "height": 562
        },
        "outputId": "fa76dd73-6747-4257-febb-0aca0237a2f5"
      },
      "outputs": [
        {
          "output_type": "display_data",
          "data": {
            "text/plain": [
              "<Figure size 800x600 with 2 Axes>"
            ],
            "image/png": "[encoded data removed]"
          },
          "metadata": {}
        }
      ],
      "source": [
        "# Visualisasi hasil clustering dengan PCA\n",
        "plt.figure(figsize=(8, 6))\n",
        "plt.scatter(pca_components[:, 0], pca_components[:, 1], c=df_scaled['Cluster'], cmap='viridis')\n",
        "plt.title('K-Means Clustering dengan PCA 2D')\n",
        "plt.xlabel('Principal Component 1')\n",
        "plt.ylabel('Principal Component 2')\n",
        "plt.colorbar(label='Cluster')\n",
        "plt.show()"
      ]
    },
    {
      "cell_type": "markdown",
      "metadata": {
        "id": "X4eydPWJLH4I"
      },
      "source": [
        "## **e. Analisis dan Interpretasi Hasil Cluster**"
      ]
    },
    {
      "cell_type": "code",
      "source": [
        "# Inversi Data Fitur ke Skala Asli\n",
        "df_dlt = df_scaled.drop(columns=['Cluster'], errors='ignore')  # Buang kolom Cluster sebelum inverse\n",
        "df_original = scaler.inverse_transform(df_dlt)\n",
        "df_original = pd.DataFrame(df_original, columns=X.columns)\n",
        "df_original['Cluster'] = kmeans.labels_"
      ],
      "metadata": {
        "id": "Hrunap1B2czB"
      },
      "execution_count": 215,
      "outputs": []
    },
    {
      "cell_type": "code",
      "source": [
        "# Melakukan Agregasi Tiap Cluster\n",
        "cluster_analysis = df_original.groupby('Cluster')[features].agg({\n",
        "    'PM2.5': ['min', 'max', 'mean'],\n",
        "    'PM10': ['min', 'max', 'mean'],\n",
        "    'SO2': ['min', 'max', 'mean'],\n",
        "    'NO2': ['min', 'max', 'mean'],\n",
        "    'CO': ['min', 'max', 'mean'],\n",
        "    'O3': ['min', 'max', 'mean']\n",
        "})\n",
        "\n",
        "# Menampilkan hasil agregasi\n",
        "print(\"Analisis Statistik Tiap Cluster:\")\n",
        "print(cluster_analysis)"
      ],
      "metadata": {
        "colab": {
          "base_uri": "https://localhost:8080/"
        },
        "id": "oOGIkEnowqWP",
        "outputId": "1dec8543-ed12-46aa-c9f3-4461b7d7cb89"
      },
      "execution_count": 216,
      "outputs": [
        {
          "output_type": "stream",
          "name": "stdout",
          "text": [
            "Analisis Statistik Tiap Cluster:\n",
            "        PM2.5                   PM10                        SO2          \\\n",
            "          min    max       mean  min    max        mean     min     max   \n",
            "Cluster                                                                   \n",
            "0         2.0  172.0  27.245487  2.0  241.0   43.456112  0.2856  24.000   \n",
            "1         3.0  175.0  86.145866  3.0  242.0  123.439952  0.5712  24.276   \n",
            "\n",
            "                      NO2                          CO                       \\\n",
            "             mean     min       max       mean    min     max         mean   \n",
            "Cluster                                                                      \n",
            "0        5.195930  1.0265  118.0000  23.425013  100.0  2100.0   519.610521   \n",
            "1        9.784506  2.0000  120.3058  60.462618  100.0  2100.0  1138.089000   \n",
            "\n",
            "             O3                    \n",
            "            min    max       mean  \n",
            "Cluster                            \n",
            "0        0.2142  158.0  62.886447  \n",
            "1        0.2142  158.0  36.633878  \n"
          ]
        }
      ]
    },
    {
      "cell_type": "code",
      "source": [
        "# Interpretasi Pola Tiap Cluster\n",
        "for cluster in cluster_analysis.index:\n",
        "    pm25_mean = cluster_analysis.loc[cluster, ('PM2.5', 'mean')]\n",
        "    pm10_mean = cluster_analysis.loc[cluster, ('PM10', 'mean')]\n",
        "    so2_mean = cluster_analysis.loc[cluster, ('SO2', 'mean')]\n",
        "    no2_mean = cluster_analysis.loc[cluster, ('NO2', 'mean')]\n",
        "    co_mean = cluster_analysis.loc[cluster, ('CO', 'mean')]\n",
        "    o3_mean = cluster_analysis.loc[cluster, ('O3', 'mean')]\n",
        "    print(f\"Cluster {cluster} memiliki rata-rata PM2.5 = {pm25_mean:.2f}, PM10 = {pm10_mean:.2f}, SO2 = {so2_mean:.2f}. NO2 = {no2_mean:.2f}, CO = {co_mean:.2f}, O3 = {o3_mean:.2f}\")"
      ],
      "metadata": {
        "colab": {
          "base_uri": "https://localhost:8080/"
        },
        "id": "FRgNwzfa38fm",
        "outputId": "7e1299b1-7395-4fe6-d657-8a358765097a"
      },
      "execution_count": 217,
      "outputs": [
        {
          "output_type": "stream",
          "name": "stdout",
          "text": [
            "Cluster 0 memiliki rata-rata PM2.5 = 27.25, PM10 = 43.46, SO2 = 5.20. NO2 = 23.43, CO = 519.61, O3 = 62.89\n",
            "Cluster 1 memiliki rata-rata PM2.5 = 86.15, PM10 = 123.44, SO2 = 9.78. NO2 = 60.46, CO = 1138.09, O3 = 36.63\n"
          ]
        }
      ]
    },
    {
      "cell_type": "code",
      "source": [
        "# Statistik rata-rata tiap cluster\n",
        "cluster_stats = df_original.groupby('Cluster')[features].mean()\n",
        "print(\"Statistik rata-rata tiap cluster:\")\n",
        "print(cluster_stats)\n",
        "\n",
        "# Menentukan zona dengan tingkat polusi tertinggi (berdasarkan rata-rata polutan)\n",
        "highest_pollution_zone = cluster_stats.idxmax(axis=1)\n",
        "print(\"Zona dengan tingkat polusi tertinggi per polutan:\")\n",
        "print(highest_pollution_zone)"
      ],
      "metadata": {
        "colab": {
          "base_uri": "https://localhost:8080/"
        },
        "id": "dyrCfNKwHFSd",
        "outputId": "e8ce8f56-f37a-4bc7-acf2-3b3538d8fbd1"
      },
      "execution_count": 218,
      "outputs": [
        {
          "output_type": "stream",
          "name": "stdout",
          "text": [
            "Statistik rata-rata tiap cluster:\n",
            "             PM2.5        PM10       SO2        NO2           CO         O3\n",
            "Cluster                                                                    \n",
            "0        27.245487   43.456112  5.195930  23.425013   519.610521  62.886447\n",
            "1        86.145866  123.439952  9.784506  60.462618  1138.089000  36.633878\n",
            "Zona dengan tingkat polusi tertinggi per polutan:\n",
            "Cluster\n",
            "0    CO\n",
            "1    CO\n",
            "dtype: object\n"
          ]
        }
      ]
    },
    {
      "cell_type": "markdown",
      "metadata": {
        "id": "hOygRVqs_vdU"
      },
      "source": [
        "# Analisis Hasil Interpretasi Cluster\n",
        "\n",
        "Berikut adalah analisis hasil interpretasi untuk setiap cluster yang dihasilkan dari model KMeans.\n",
        "\n",
        "## Cluster 0:\n",
        "- **Rata-rata PM2.5:** Rata-rata 182.12, menunjukkan tingkat polusi partikel halus yang tinggi.\n",
        "- **Rata-rata PM10:** Rata-rata 212.09, mengindikasikan polusi udara signifikan.\n",
        "- **Rata-rata SO2:** Rata-rata 42.16, menunjukkan kandungan sulfur dioksida yang cukup tinggi.\n",
        "- **Rata-rata NO2:** Rata-rata 89.23, mengindikasikan konsentrasi nitrogen dioksida yang tinggi, sering terkait dengan emisi kendaraan dan industri.\n",
        "- **Rata-rata CO:** Rata-rata 2716.52, sangat tinggi, menunjukkan adanya sumber polusi karbon monoksida besar.\n",
        "- **Rata-rata O3:** Rata-rata 27.34, relatif rendah dibandingkan dengan cluster lain.\n",
        "- **Analisis:** Cluster ini menunjukkan area dengan tingkat polusi udara yang tinggi, terutama dari PM2.5, PM10, NO2, dan CO, kemungkinan berasal dari aktivitas industri atau kendaraan bermotor yang padat.\n",
        "\n",
        "## Cluster 1:\n",
        "- **Rata-rata PM2.5:** Rata-rata 48.70, jauh lebih rendah dibanding cluster 0.\n",
        "- **Rata-rata PM10:** Rata-rata 69.96, menunjukkan tingkat polusi udara yang lebih ringan.\n",
        "- **Rata-rata SO2:** Rata-rata 8.49, lebih rendah dibanding cluster 0.\n",
        "- **Rata-rata NO2:** Rata-rata 33.40, lebih rendah, menunjukkan polusi nitrogen dioksida lebih ringan.\n",
        "- **Rata-rata CO:** Rata-rata 743.10, lebih rendah dari cluster 0, tetapi masih cukup tinggi.\n",
        "- **Rata-rata O3:** Rata-rata 68.53, lebih tinggi dibandingkan cluster 0.\n",
        "- **Analisis:** Cluster ini merepresentasikan area dengan kualitas udara yang lebih baik dibandingkan cluster 0, dengan konsentrasi polutan yang lebih rendah, kecuali O3 yang lebih tinggi.\n"
      ]
    },
    {
      "cell_type": "markdown",
      "source": [
        "## Kesimpulan Hasil Analisis Cluster\n",
        "\n",
        "- Cluster 0: Wilayah dengan tingkat polusi tinggi, terutama pada PM2.5, PM10, SO2, NO2, dan CO, yang menunjukkan adanya sumber polutan yang lebih besar.\n",
        "- Cluster 1: Area ini memiliki lebih sedikit sumber polusi langsung atau lebih banyak proses pembersihan udara alami, seperti vegetasi lebih banyak atau ventilasi udara lebih baik."
      ],
      "metadata": {
        "id": "Vh7clEYuA3VU"
      }
    },
    {
      "cell_type": "markdown",
      "metadata": {
        "id": "jaYP1fx5VgWO"
      },
      "source": [
        "# **7. Mengeksport Data**\n",
        "\n",
        "Simpan hasilnya ke dalam file CSV."
      ]
    },
    {
      "cell_type": "code",
      "execution_count": 207,
      "metadata": {
        "id": "fkbg_o80aRSH"
      },
      "outputs": [],
      "source": [
        "# Ekspor data yang telah memiliki label\n",
        "df_scaled.to_csv('Air_Quality_labeled.csv', index=False)"
      ]
    }
  ],
  "metadata": {
    "colab": {
      "provenance": [],
      "collapsed_sections": [
        "AqWkXdjWz2-z",
        "Wj5Om_OQU9Dv",
        "HexGVjJSVXa_",
        "5BUgWZLWW_34",
        "neYewmjtK2vo"
      ]
    },
    "kernelspec": {
      "display_name": "Python 3",
      "name": "python3"
    },
    "language_info": {
      "name": "python"
    }
  },
  "nbformat": 4,
  "nbformat_minor": 0
}