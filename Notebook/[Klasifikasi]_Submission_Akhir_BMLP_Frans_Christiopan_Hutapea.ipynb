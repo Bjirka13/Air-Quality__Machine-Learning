{
  "cells": [
    {
      "cell_type": "markdown",
      "metadata": {
        "id": "fKADPWcFKlj3"
      },
      "source": [
        "# **1. Import Library**"
      ]
    },
    {
      "cell_type": "markdown",
      "metadata": {
        "id": "LgA3ERnVn84N"
      },
      "source": [
        "Pada tahap ini, Anda perlu mengimpor beberapa pustaka (library) Python yang dibutuhkan untuk analisis data dan pembangunan model machine learning."
      ]
    },
    {
      "cell_type": "code",
      "execution_count": 1,
      "metadata": {
        "id": "BlmvjLY9M4Yj"
      },
      "outputs": [],
      "source": [
        "import pandas as pd\n",
        "import numpy as np\n",
        "import matplotlib.pyplot as plt\n",
        "import seaborn as sns\n",
        "from sklearn.preprocessing import StandardScaler\n",
        "from sklearn.model_selection import train_test_split\n",
        "from sklearn.linear_model import LogisticRegression\n",
        "from sklearn.tree import DecisionTreeClassifier\n",
        "from sklearn.ensemble import RandomForestClassifier\n",
        "from sklearn.neighbors import KNeighborsClassifier\n",
        "from sklearn.svm import SVC\n",
        "from sklearn.metrics import accuracy_score, classification_report, confusion_matrix\n",
        "from sklearn.model_selection import GridSearchCV, RandomizedSearchCV\n",
        "from sklearn import svm"
      ]
    },
    {
      "cell_type": "code",
      "execution_count": 2,
      "metadata": {
        "colab": {
          "base_uri": "https://localhost:8080/"
        },
        "id": "yq-Z4RcTSly9",
        "outputId": "c0f4ad51-ee21-4216-c8e9-01d5482575ad"
      },
      "outputs": [
        {
          "output_type": "stream",
          "name": "stdout",
          "text": [
            "Mounted at /content/drive\n"
          ]
        }
      ],
      "source": [
        "from google.colab import drive\n",
        "drive.mount('/content/drive')"
      ]
    },
    {
      "cell_type": "markdown",
      "metadata": {
        "id": "f3YIEnAFKrKL"
      },
      "source": [
        "# **2. Memuat Dataset dari Hasil Clustering**"
      ]
    },
    {
      "cell_type": "markdown",
      "metadata": {
        "id": "Ey3ItwTen_7E"
      },
      "source": [
        "Memuat dataset hasil clustering dari file CSV ke dalam variabel DataFrame."
      ]
    },
    {
      "cell_type": "code",
      "execution_count": 3,
      "metadata": {
        "colab": {
          "base_uri": "https://localhost:8080/",
          "height": 206
        },
        "id": "GHCGNTyrM5fS",
        "outputId": "b9ff205a-7394-4a51-b8d3-52986b4f96eb"
      },
      "outputs": [
        {
          "output_type": "execute_result",
          "data": {
            "text/plain": [
              "      PM2.5      PM10       SO2       NO2        CO        O3   TEMP  \\\n",
              "0 -0.554217 -0.693069 -0.195111 -0.636364 -0.555556  0.369231 -0.765   \n",
              "1 -0.506024 -0.653465 -0.195111 -0.636364 -0.555556  0.369231 -0.785   \n",
              "2 -0.518072 -0.663366 -0.130074 -0.568182 -0.555556  0.307692 -0.785   \n",
              "3 -0.530120 -0.673267  0.260147 -0.545455 -0.555556  0.292308 -0.800   \n",
              "4 -0.566265 -0.702970  0.325184 -0.522727 -0.555556  0.292308 -0.830   \n",
              "\n",
              "       PRES      DEWP  RAIN      WSPM  Cluster  \n",
              "0  0.851190 -0.880165   0.0  2.230769        1  \n",
              "1  0.863095 -0.855372   0.0  2.461538        1  \n",
              "2  0.880952 -0.855372   0.0  3.153846        1  \n",
              "3  0.940476 -0.904959   0.0  1.230769        1  \n",
              "4  0.982143 -0.909091   0.0  0.384615        1  "
            ],
            "text/html": [
              "\n",
              "  <div id=\"df-083e5ce0-f154-4506-8bbb-e5b8757c544f\" class=\"colab-df-container\">\n",
              "    <div>\n",
              "<style scoped>\n",
              "    .dataframe tbody tr th:only-of-type {\n",
              "        vertical-align: middle;\n",
              "    }\n",
              "\n",
              "    .dataframe tbody tr th {\n",
              "        vertical-align: top;\n",
              "    }\n",
              "\n",
              "    .dataframe thead th {\n",
              "        text-align: right;\n",
              "    }\n",
              "</style>\n",
              "<table border=\"1\" class=\"dataframe\">\n",
              "  <thead>\n",
              "    <tr style=\"text-align: right;\">\n",
              "      <th></th>\n",
              "      <th>PM2.5</th>\n",
              "      <th>PM10</th>\n",
              "      <th>SO2</th>\n",
              "      <th>NO2</th>\n",
              "      <th>CO</th>\n",
              "      <th>O3</th>\n",
              "      <th>TEMP</th>\n",
              "      <th>PRES</th>\n",
              "      <th>DEWP</th>\n",
              "      <th>RAIN</th>\n",
              "      <th>WSPM</th>\n",
              "      <th>Cluster</th>\n",
              "    </tr>\n",
              "  </thead>\n",
              "  <tbody>\n",
              "    <tr>\n",
              "      <th>0</th>\n",
              "      <td>-0.554217</td>\n",
              "      <td>-0.693069</td>\n",
              "      <td>-0.195111</td>\n",
              "      <td>-0.636364</td>\n",
              "      <td>-0.555556</td>\n",
              "      <td>0.369231</td>\n",
              "      <td>-0.765</td>\n",
              "      <td>0.851190</td>\n",
              "      <td>-0.880165</td>\n",
              "      <td>0.0</td>\n",
              "      <td>2.230769</td>\n",
              "      <td>1</td>\n",
              "    </tr>\n",
              "    <tr>\n",
              "      <th>1</th>\n",
              "      <td>-0.506024</td>\n",
              "      <td>-0.653465</td>\n",
              "      <td>-0.195111</td>\n",
              "      <td>-0.636364</td>\n",
              "      <td>-0.555556</td>\n",
              "      <td>0.369231</td>\n",
              "      <td>-0.785</td>\n",
              "      <td>0.863095</td>\n",
              "      <td>-0.855372</td>\n",
              "      <td>0.0</td>\n",
              "      <td>2.461538</td>\n",
              "      <td>1</td>\n",
              "    </tr>\n",
              "    <tr>\n",
              "      <th>2</th>\n",
              "      <td>-0.518072</td>\n",
              "      <td>-0.663366</td>\n",
              "      <td>-0.130074</td>\n",
              "      <td>-0.568182</td>\n",
              "      <td>-0.555556</td>\n",
              "      <td>0.307692</td>\n",
              "      <td>-0.785</td>\n",
              "      <td>0.880952</td>\n",
              "      <td>-0.855372</td>\n",
              "      <td>0.0</td>\n",
              "      <td>3.153846</td>\n",
              "      <td>1</td>\n",
              "    </tr>\n",
              "    <tr>\n",
              "      <th>3</th>\n",
              "      <td>-0.530120</td>\n",
              "      <td>-0.673267</td>\n",
              "      <td>0.260147</td>\n",
              "      <td>-0.545455</td>\n",
              "      <td>-0.555556</td>\n",
              "      <td>0.292308</td>\n",
              "      <td>-0.800</td>\n",
              "      <td>0.940476</td>\n",
              "      <td>-0.904959</td>\n",
              "      <td>0.0</td>\n",
              "      <td>1.230769</td>\n",
              "      <td>1</td>\n",
              "    </tr>\n",
              "    <tr>\n",
              "      <th>4</th>\n",
              "      <td>-0.566265</td>\n",
              "      <td>-0.702970</td>\n",
              "      <td>0.325184</td>\n",
              "      <td>-0.522727</td>\n",
              "      <td>-0.555556</td>\n",
              "      <td>0.292308</td>\n",
              "      <td>-0.830</td>\n",
              "      <td>0.982143</td>\n",
              "      <td>-0.909091</td>\n",
              "      <td>0.0</td>\n",
              "      <td>0.384615</td>\n",
              "      <td>1</td>\n",
              "    </tr>\n",
              "  </tbody>\n",
              "</table>\n",
              "</div>\n",
              "    <div class=\"colab-df-buttons\">\n",
              "\n",
              "  <div class=\"colab-df-container\">\n",
              "    <button class=\"colab-df-convert\" onclick=\"convertToInteractive('df-083e5ce0-f154-4506-8bbb-e5b8757c544f')\"\n",
              "            title=\"Convert this dataframe to an interactive table.\"\n",
              "            style=\"display:none;\">\n",
              "\n",
              "  <svg xmlns=\"http://www.w3.org/2000/svg\" height=\"24px\" viewBox=\"0 -960 960 960\">\n",
              "    <path d=\"M120-120v-720h720v720H120Zm60-500h600v-160H180v160Zm220 220h160v-160H400v160Zm0 220h160v-160H400v160ZM180-400h160v-160H180v160Zm440 0h160v-160H620v160ZM180-180h160v-160H180v160Zm440 0h160v-160H620v160Z\"/>\n",
              "  </svg>\n",
              "    </button>\n",
              "\n",
              "  <style>\n",
              "    .colab-df-container {\n",
              "      display:flex;\n",
              "      gap: 12px;\n",
              "    }\n",
              "\n",
              "    .colab-df-convert {\n",
              "      background-color: #E8F0FE;\n",
              "      border: none;\n",
              "      border-radius: 50%;\n",
              "      cursor: pointer;\n",
              "      display: none;\n",
              "      fill: #1967D2;\n",
              "      height: 32px;\n",
              "      padding: 0 0 0 0;\n",
              "      width: 32px;\n",
              "    }\n",
              "\n",
              "    .colab-df-convert:hover {\n",
              "      background-color: #E2EBFA;\n",
              "      box-shadow: 0px 1px 2px rgba(60, 64, 67, 0.3), 0px 1px 3px 1px rgba(60, 64, 67, 0.15);\n",
              "      fill: #174EA6;\n",
              "    }\n",
              "\n",
              "    .colab-df-buttons div {\n",
              "      margin-bottom: 4px;\n",
              "    }\n",
              "\n",
              "    [theme=dark] .colab-df-convert {\n",
              "      background-color: #3B4455;\n",
              "      fill: #D2E3FC;\n",
              "    }\n",
              "\n",
              "    [theme=dark] .colab-df-convert:hover {\n",
              "      background-color: #434B5C;\n",
              "      box-shadow: 0px 1px 3px 1px rgba(0, 0, 0, 0.15);\n",
              "      filter: drop-shadow(0px 1px 2px rgba(0, 0, 0, 0.3));\n",
              "      fill: #FFFFFF;\n",
              "    }\n",
              "  </style>\n",
              "\n",
              "    <script>\n",
              "      const buttonEl =\n",
              "        document.querySelector('#df-083e5ce0-f154-4506-8bbb-e5b8757c544f button.colab-df-convert');\n",
              "      buttonEl.style.display =\n",
              "        google.colab.kernel.accessAllowed ? 'block' : 'none';\n",
              "\n",
              "      async function convertToInteractive(key) {\n",
              "        const element = document.querySelector('#df-083e5ce0-f154-4506-8bbb-e5b8757c544f');\n",
              "        const dataTable =\n",
              "          await google.colab.kernel.invokeFunction('convertToInteractive',\n",
              "                                                    [key], {});\n",
              "        if (!dataTable) return;\n",
              "\n",
              "        const docLinkHtml = 'Like what you see? Visit the ' +\n",
              "          '<a target=\"_blank\" href=https://colab.research.google.com/notebooks/data_table.ipynb>data table notebook</a>'\n",
              "          + ' to learn more about interactive tables.';\n",
              "        element.innerHTML = '';\n",
              "        dataTable['output_type'] = 'display_data';\n",
              "        await google.colab.output.renderOutput(dataTable, element);\n",
              "        const docLink = document.createElement('div');\n",
              "        docLink.innerHTML = docLinkHtml;\n",
              "        element.appendChild(docLink);\n",
              "      }\n",
              "    </script>\n",
              "  </div>\n",
              "\n",
              "\n",
              "    <div id=\"df-a18e5017-11ea-4dbd-ab59-eea9b5268179\">\n",
              "      <button class=\"colab-df-quickchart\" onclick=\"quickchart('df-a18e5017-11ea-4dbd-ab59-eea9b5268179')\"\n",
              "                title=\"Suggest charts\"\n",
              "                style=\"display:none;\">\n",
              "\n",
              "<svg xmlns=\"http://www.w3.org/2000/svg\" height=\"24px\"viewBox=\"0 0 24 24\"\n",
              "     width=\"24px\">\n",
              "    <g>\n",
              "        <path d=\"M19 3H5c-1.1 0-2 .9-2 2v14c0 1.1.9 2 2 2h14c1.1 0 2-.9 2-2V5c0-1.1-.9-2-2-2zM9 17H7v-7h2v7zm4 0h-2V7h2v10zm4 0h-2v-4h2v4z\"/>\n",
              "    </g>\n",
              "</svg>\n",
              "      </button>\n",
              "\n",
              "<style>\n",
              "  .colab-df-quickchart {\n",
              "      --bg-color: #E8F0FE;\n",
              "      --fill-color: #1967D2;\n",
              "      --hover-bg-color: #E2EBFA;\n",
              "      --hover-fill-color: #174EA6;\n",
              "      --disabled-fill-color: #AAA;\n",
              "      --disabled-bg-color: #DDD;\n",
              "  }\n",
              "\n",
              "  [theme=dark] .colab-df-quickchart {\n",
              "      --bg-color: #3B4455;\n",
              "      --fill-color: #D2E3FC;\n",
              "      --hover-bg-color: #434B5C;\n",
              "      --hover-fill-color: #FFFFFF;\n",
              "      --disabled-bg-color: #3B4455;\n",
              "      --disabled-fill-color: #666;\n",
              "  }\n",
              "\n",
              "  .colab-df-quickchart {\n",
              "    background-color: var(--bg-color);\n",
              "    border: none;\n",
              "    border-radius: 50%;\n",
              "    cursor: pointer;\n",
              "    display: none;\n",
              "    fill: var(--fill-color);\n",
              "    height: 32px;\n",
              "    padding: 0;\n",
              "    width: 32px;\n",
              "  }\n",
              "\n",
              "  .colab-df-quickchart:hover {\n",
              "    background-color: var(--hover-bg-color);\n",
              "    box-shadow: 0 1px 2px rgba(60, 64, 67, 0.3), 0 1px 3px 1px rgba(60, 64, 67, 0.15);\n",
              "    fill: var(--button-hover-fill-color);\n",
              "  }\n",
              "\n",
              "  .colab-df-quickchart-complete:disabled,\n",
              "  .colab-df-quickchart-complete:disabled:hover {\n",
              "    background-color: var(--disabled-bg-color);\n",
              "    fill: var(--disabled-fill-color);\n",
              "    box-shadow: none;\n",
              "  }\n",
              "\n",
              "  .colab-df-spinner {\n",
              "    border: 2px solid var(--fill-color);\n",
              "    border-color: transparent;\n",
              "    border-bottom-color: var(--fill-color);\n",
              "    animation:\n",
              "      spin 1s steps(1) infinite;\n",
              "  }\n",
              "\n",
              "  @keyframes spin {\n",
              "    0% {\n",
              "      border-color: transparent;\n",
              "      border-bottom-color: var(--fill-color);\n",
              "      border-left-color: var(--fill-color);\n",
              "    }\n",
              "    20% {\n",
              "      border-color: transparent;\n",
              "      border-left-color: var(--fill-color);\n",
              "      border-top-color: var(--fill-color);\n",
              "    }\n",
              "    30% {\n",
              "      border-color: transparent;\n",
              "      border-left-color: var(--fill-color);\n",
              "      border-top-color: var(--fill-color);\n",
              "      border-right-color: var(--fill-color);\n",
              "    }\n",
              "    40% {\n",
              "      border-color: transparent;\n",
              "      border-right-color: var(--fill-color);\n",
              "      border-top-color: var(--fill-color);\n",
              "    }\n",
              "    60% {\n",
              "      border-color: transparent;\n",
              "      border-right-color: var(--fill-color);\n",
              "    }\n",
              "    80% {\n",
              "      border-color: transparent;\n",
              "      border-right-color: var(--fill-color);\n",
              "      border-bottom-color: var(--fill-color);\n",
              "    }\n",
              "    90% {\n",
              "      border-color: transparent;\n",
              "      border-bottom-color: var(--fill-color);\n",
              "    }\n",
              "  }\n",
              "</style>\n",
              "\n",
              "      <script>\n",
              "        async function quickchart(key) {\n",
              "          const quickchartButtonEl =\n",
              "            document.querySelector('#' + key + ' button');\n",
              "          quickchartButtonEl.disabled = true;  // To prevent multiple clicks.\n",
              "          quickchartButtonEl.classList.add('colab-df-spinner');\n",
              "          try {\n",
              "            const charts = await google.colab.kernel.invokeFunction(\n",
              "                'suggestCharts', [key], {});\n",
              "          } catch (error) {\n",
              "            console.error('Error during call to suggestCharts:', error);\n",
              "          }\n",
              "          quickchartButtonEl.classList.remove('colab-df-spinner');\n",
              "          quickchartButtonEl.classList.add('colab-df-quickchart-complete');\n",
              "        }\n",
              "        (() => {\n",
              "          let quickchartButtonEl =\n",
              "            document.querySelector('#df-a18e5017-11ea-4dbd-ab59-eea9b5268179 button');\n",
              "          quickchartButtonEl.style.display =\n",
              "            google.colab.kernel.accessAllowed ? 'block' : 'none';\n",
              "        })();\n",
              "      </script>\n",
              "    </div>\n",
              "\n",
              "    </div>\n",
              "  </div>\n"
            ],
            "application/vnd.google.colaboratory.intrinsic+json": {
              "type": "dataframe",
              "variable_name": "df"
            }
          },
          "metadata": {},
          "execution_count": 3
        }
      ],
      "source": [
        "# Load Dataset\n",
        "df = pd.read_csv('/content/drive/MyDrive/Dataset/Dicoding Submission/Machine Learning Pemula/Air Quality/Data/Air_Quality_labeled.csv')\n",
        "df.head()"
      ]
    },
    {
      "cell_type": "markdown",
      "source": [
        "# **3. Deteksi Outliers & Penanganan Outliers**"
      ],
      "metadata": {
        "id": "U5-XSmVw6Zaj"
      }
    },
    {
      "cell_type": "markdown",
      "metadata": {
        "id": "m-3qLFx3wriG"
      },
      "source": [
        "### Deteksi Outliers"
      ]
    },
    {
      "cell_type": "code",
      "execution_count": 4,
      "metadata": {
        "colab": {
          "base_uri": "https://localhost:8080/",
          "height": 1000
        },
        "id": "7RjRRALeseYs",
        "outputId": "e87464dd-b1a0-4784-e779-ff116e010733"
      },
      "outputs": [
        {
          "output_type": "display_data",
          "data": {
            "text/plain": [
              "<Figure size 640x480 with 1 Axes>"
            ],
            "image/png": "[encoded data removed]"
          },
          "metadata": {}
        },
        {
          "output_type": "display_data",
          "data": {
            "text/plain": [
              "<Figure size 640x480 with 1 Axes>"
            ],
            "image/png": "[encoded data removed]"
          },
          "metadata": {}
        },
        {
          "output_type": "display_data",
          "data": {
            "text/plain": [
              "<Figure size 640x480 with 1 Axes>"
            ],
            "image/png": "[encoded data removed]"
          },
          "metadata": {}
        },
        {
          "output_type": "display_data",
          "data": {
            "text/plain": [
              "<Figure size 640x480 with 1 Axes>"
            ],
            "image/png": "[encoded data removed]"
          },
          "metadata": {}
        },
        {
          "output_type": "display_data",
          "data": {
            "text/plain": [
              "<Figure size 640x480 with 1 Axes>"
            ],
            "image/png": "[encoded data removed]"
          },
          "metadata": {}
        },
        {
          "output_type": "display_data",
          "data": {
            "text/plain": [
              "<Figure size 640x480 with 1 Axes>"
            ],
            "image/png": "[encoded data removed]"
          },
          "metadata": {}
        },
        {
          "output_type": "display_data",
          "data": {
            "text/plain": [
              "<Figure size 640x480 with 1 Axes>"
            ],
            "image/png": "[encoded data removed]"
          },
          "metadata": {}
        },
        {
          "output_type": "display_data",
          "data": {
            "text/plain": [
              "<Figure size 640x480 with 1 Axes>"
            ],
            "image/png": "[encoded data removed]"
          },
          "metadata": {}
        },
        {
          "output_type": "display_data",
          "data": {
            "text/plain": [
              "<Figure size 640x480 with 1 Axes>"
            ],
            "image/png": "[encoded data removed]"
          },
          "metadata": {}
        },
        {
          "output_type": "display_data",
          "data": {
            "text/plain": [
              "<Figure size 640x480 with 1 Axes>"
            ],
            "image/png": "[encoded data removed]"
          },
          "metadata": {}
        },
        {
          "output_type": "execute_result",
          "data": {
            "text/plain": [
              "Text(0.5, 1.0, 'Boxplot WSPM')"
            ]
          },
          "metadata": {},
          "execution_count": 4
        },
        {
          "output_type": "display_data",
          "data": {
            "text/plain": [
              "<Figure size 640x480 with 1 Axes>"
            ],
            "image/png": "[encoded data removed]"
          },
          "metadata": {}
        }
      ],
      "source": [
        "# PM2.5\n",
        "sns.boxplot(x=df['PM2.5']) # Deteksi\n",
        "plt.title(\"Boxplot PM2.5\")\n",
        "plt.show()\n",
        "\n",
        "# PM10\n",
        "sns.boxplot(x=df['PM10']) # Deteksi\n",
        "plt.title(\"Boxplot PM10\")\n",
        "plt.show()\n",
        "\n",
        "# SO2\n",
        "sns.boxplot(x=df['SO2']) # Deteksi\n",
        "plt.title(\"Boxplot SO2\")\n",
        "plt.show()\n",
        "\n",
        "# NO2\n",
        "sns.boxplot(x=df['NO2']) # Deteksi\n",
        "plt.title(\"Boxplot NO2\")\n",
        "plt.show()\n",
        "\n",
        "# CO\n",
        "sns.boxplot(x=df['CO']) # Deteksi\n",
        "plt.title(\"Boxplot CO\")\n",
        "plt.show()\n",
        "\n",
        "# O3\n",
        "sns.boxplot(x=df['O3']) # Deteksi\n",
        "plt.title(\"Boxplot O3\")\n",
        "plt.show()\n",
        "\n",
        "# TEMP\n",
        "sns.boxplot(x=df['TEMP']) # Deteksi\n",
        "plt.title(\"Boxplot TEMP\")\n",
        "plt.show()\n",
        "\n",
        "# PRES\n",
        "sns.boxplot(x=df['PRES']) # Deteksi\n",
        "plt.title(\"Boxplot PRES\")\n",
        "plt.show()\n",
        "\n",
        "# DEWP\n",
        "sns.boxplot(x=df['DEWP']) # Deteksi\n",
        "plt.title(\"Boxplot DEWP\")\n",
        "plt.show()\n",
        "\n",
        "# RAIN\n",
        "sns.boxplot(x=df['RAIN']) # Deteksi\n",
        "plt.title(\"Boxplot RAIN\")\n",
        "plt.show()\n",
        "\n",
        "# WSPM\n",
        "sns.boxplot(x=df['WSPM']) # Deteksi\n",
        "plt.title(\"Boxplot WSPM\")"
      ]
    },
    {
      "cell_type": "code",
      "source": [
        "# Hitung outliers melalui IQR\n",
        "def detect_outliers_iqr(data, column):\n",
        "    Q1 = data[column].quantile(0.25)\n",
        "    Q3 = data[column].quantile(0.75)\n",
        "    IQR = Q3 - Q1\n",
        "\n",
        "    lower_bound = Q1 - 1.5 * IQR\n",
        "    upper_bound = Q3 + 1.5 * IQR\n",
        "\n",
        "    # Filter data outliers\n",
        "    outliers = data[(data[column] < lower_bound) | (data[column] > upper_bound)]\n",
        "\n",
        "    return outliers, len(outliers), (len(outliers) / len(data)) * 100  # Jumlah dan persentase outlier\n",
        "\n",
        "# Hitung presentase outliers untuk polutan\n",
        "outliers_pm25, count_pm25, percent_pm25 = detect_outliers_iqr(df, \"PM2.5\")\n",
        "outliers_pm10, count_pm10, percent_pm10 = detect_outliers_iqr(df, \"PM10\")\n",
        "outliers_so2, count_so2, percent_so2 = detect_outliers_iqr(df, \"SO2\")\n",
        "outliers_no2, count_no2, percent_no2 = detect_outliers_iqr(df, \"NO2\")\n",
        "outliers_co, count_co, percent_co = detect_outliers_iqr(df, \"CO\")\n",
        "outliers_o3, count_o3, percent_o3 = detect_outliers_iqr(df, \"O3\")\n",
        "\n",
        "# Hitung presentase outliers untuk faktor polutan\n",
        "outliers_temp, count_temp, percent_temp = detect_outliers_iqr(df, \"TEMP\")\n",
        "outliers_pres, count_pres, percent_pres = detect_outliers_iqr(df, \"PRES\")\n",
        "outliers_dewp, count_dewp, percent_dewp = detect_outliers_iqr(df, \"DEWP\")\n",
        "outliers_rain, count_rain, percent_rain = detect_outliers_iqr(df, \"RAIN\")\n",
        "outliers_wspm, count_wspm, percent_wspm = detect_outliers_iqr(df, \"WSPM\")\n",
        "\n",
        "# Tampilkan presentase outliers hasil polutan\n",
        "print(f\"Outlier PM2.5: {count_pm25} data ({percent_pm25:.2f}%)\")\n",
        "print(f\"Outlier PM10: {count_pm10} data ({percent_pm10:.2f}%)\")\n",
        "print(f\"Outlier SO2: {count_so2} data ({percent_so2:.2f}%)\")\n",
        "print(f\"Outlier NO2: {count_no2} data ({percent_no2:.2f}%)\")\n",
        "print(f\"Outlier CO: {count_co} data ({percent_co:.2f}%)\")\n",
        "print(f\"Outlier O3: {count_o3} data ({percent_o3:.2f}%)\")\n",
        "\n",
        "\n",
        "# Tampilkan hasil faktor polutan\n",
        "print(f\"Outlier TEMP: {count_temp} data ({percent_temp:.2f}%)\")\n",
        "print(f\"Outlier PRES: {count_pres} data ({percent_pres:.2f}%)\")\n",
        "print(f\"Outlier DEWP: {count_dewp} data ({percent_dewp:.2f}%)\")\n",
        "print(f\"Outlier RAIN: {count_rain} data ({percent_rain:.2f}%)\")\n",
        "print(f\"Outlier WSPM: {count_wspm} data ({percent_wspm:.2f}%)\")"
      ],
      "metadata": {
        "colab": {
          "base_uri": "https://localhost:8080/"
        },
        "id": "ZssK1RJNh6kw",
        "outputId": "20420937-d8ed-4d08-89d0-a7aefcf15907"
      },
      "execution_count": 5,
      "outputs": [
        {
          "output_type": "stream",
          "name": "stdout",
          "text": [
            "Outlier PM2.5: 5405 data (5.14%)\n",
            "Outlier PM10: 3971 data (3.78%)\n",
            "Outlier SO2: 9450 data (8.98%)\n",
            "Outlier NO2: 2392 data (2.27%)\n",
            "Outlier CO: 7968 data (7.57%)\n",
            "Outlier O3: 4730 data (4.50%)\n",
            "Outlier TEMP: 0 data (0.00%)\n",
            "Outlier PRES: 0 data (0.00%)\n",
            "Outlier DEWP: 0 data (0.00%)\n",
            "Outlier RAIN: 4202 data (3.99%)\n",
            "Outlier WSPM: 6342 data (6.03%)\n"
          ]
        }
      ]
    },
    {
      "cell_type": "markdown",
      "source": [
        "### Handling Outliers"
      ],
      "metadata": {
        "id": "B6vWLB3mi4kL"
      }
    },
    {
      "cell_type": "markdown",
      "source": [
        "#### Imputasi median"
      ],
      "metadata": {
        "id": "DVrFD_n5nByu"
      }
    },
    {
      "cell_type": "code",
      "source": [
        "from scipy.stats import shapiro\n",
        "\n",
        "def shapiro_test_columns(df, columns):\n",
        "    results = {}\n",
        "    for col in columns:\n",
        "        data = df[col].dropna()\n",
        "        if len(data) < 3:\n",
        "            results[col] = {\"p_value\": None, \"status\": \"Data terlalu sedikit\"}\n",
        "            continue\n",
        "        stat, p = shapiro(data)\n",
        "        status = \"Normal\" if p > 0.05 else \"Tidak Normal\"\n",
        "        results[col] = {\"status\": status}\n",
        "    return results\n"
      ],
      "metadata": {
        "id": "ohZjL7l-rD9y"
      },
      "execution_count": 6,
      "outputs": []
    },
    {
      "cell_type": "code",
      "source": [
        "polutan = ['PM2.5', 'PM10', 'SO2', 'NO2', 'CO', 'O3']\n",
        "hasil_uji = shapiro_test_columns(df, polutan)\n",
        "\n",
        "for col, res in hasil_uji.items():\n",
        "    print(f\"{col}: Distribusi = {res['status']}\")"
      ],
      "metadata": {
        "colab": {
          "base_uri": "https://localhost:8080/"
        },
        "id": "nsw8edui0TM-",
        "outputId": "1388ef30-5937-4a8f-c872-a38e00698b17"
      },
      "execution_count": 7,
      "outputs": [
        {
          "output_type": "stream",
          "name": "stdout",
          "text": [
            "PM2.5: Distribusi = Tidak Normal\n",
            "PM10: Distribusi = Tidak Normal\n",
            "SO2: Distribusi = Tidak Normal\n",
            "NO2: Distribusi = Tidak Normal\n",
            "CO: Distribusi = Tidak Normal\n",
            "O3: Distribusi = Tidak Normal\n"
          ]
        },
        {
          "output_type": "stream",
          "name": "stderr",
          "text": [
            "/usr/local/lib/python3.11/dist-packages/scipy/stats/_axis_nan_policy.py:586: UserWarning: scipy.stats.shapiro: For N > 5000, computed p-value may not be accurate. Current N is 105192.\n",
            "  res = hypotest_fun_out(*samples, **kwds)\n"
          ]
        }
      ]
    },
    {
      "cell_type": "code",
      "source": [
        "rain_test_result = shapiro_test_columns(df, ['RAIN'])\n",
        "wspm_test_result = shapiro_test_columns(df, ['WSPM'])\n",
        "\n",
        "print(\"Distribusi RAIN:\", rain_test_result['RAIN']['status'])\n",
        "print(\"Distribusi WSPM:\", wspm_test_result['WSPM']['status'])"
      ],
      "metadata": {
        "colab": {
          "base_uri": "https://localhost:8080/"
        },
        "id": "mFwtAKZv_SQc",
        "outputId": "7bd9f35c-f079-4e39-929e-a4ede0f9d8a2"
      },
      "execution_count": 8,
      "outputs": [
        {
          "output_type": "stream",
          "name": "stdout",
          "text": [
            "Distribusi RAIN: Tidak Normal\n",
            "Distribusi WSPM: Tidak Normal\n"
          ]
        }
      ]
    },
    {
      "cell_type": "code",
      "source": [
        "# Handling outlier pada kolom polutan dengan Metode imputasi median\n",
        "def impute_outliers_with_median(df, column):\n",
        "    Q1 = df[column].quantile(0.25)\n",
        "    Q3 = df[column].quantile(0.75)\n",
        "    IQR = Q3 - Q1\n",
        "    lower = Q1 - 1.5 * IQR\n",
        "    upper = Q3 + 1.5 * IQR\n",
        "    median_value = df[column].median()\n",
        "    df.loc[(df[column] < lower) | (df[column] > upper), column] = median_value\n",
        "    return df\n",
        "\n",
        "df = impute_outliers_with_median(df, 'PM2.5')\n",
        "df = impute_outliers_with_median(df,'PM10')\n",
        "df = impute_outliers_with_median(df,'SO2')\n",
        "df = impute_outliers_with_median(df, 'NO2')\n",
        "df = impute_outliers_with_median(df, 'CO')\n",
        "df = impute_outliers_with_median(df, 'O3')\n",
        "df = impute_outliers_with_median(df, 'WSPM')"
      ],
      "metadata": {
        "id": "TyK8gig43M6s"
      },
      "execution_count": 9,
      "outputs": []
    },
    {
      "cell_type": "code",
      "source": [
        "# PM2.5\n",
        "sns.boxplot(x=df['PM2.5']) # Deteksi\n",
        "plt.title(\"Boxplot PM2.5\")\n",
        "plt.show()\n",
        "\n",
        "# PM10\n",
        "sns.boxplot(x=df['PM10']) # Deteksi\n",
        "plt.title(\"Boxplot PM10\")\n",
        "plt.show()\n",
        "\n",
        "# SO2\n",
        "sns.boxplot(x=df['SO2']) # Deteksi\n",
        "plt.title(\"Boxplot SO2\")\n",
        "plt.show()\n",
        "\n",
        "# NO2\n",
        "sns.boxplot(x=df['NO2']) # Deteksi\n",
        "plt.title(\"Boxplot NO2\")\n",
        "plt.show()\n",
        "\n",
        "# CO\n",
        "sns.boxplot(x=df['CO']) # Deteksi\n",
        "plt.title(\"Boxplot CO\")\n",
        "plt.show()\n",
        "\n",
        "# O3\n",
        "sns.boxplot(x=df['O3']) # Deteksi\n",
        "plt.title(\"Boxplot O3\")\n",
        "plt.show()\n",
        "\n",
        "# RAIN\n",
        "sns.boxplot(x=df['RAIN']) # Deteksi\n",
        "plt.title(\"Boxplot RAIN\")\n",
        "plt.show()\n",
        "\n",
        "# WSPM\n",
        "sns.boxplot(x=df['WSPM']) # Deteksi\n",
        "plt.title(\"Boxplot WSPM\")\n",
        "plt.show()"
      ],
      "metadata": {
        "colab": {
          "base_uri": "https://localhost:8080/",
          "height": 1000
        },
        "id": "bjZRgflt6lDM",
        "outputId": "fd2b7f5c-a74f-4980-b1bb-a75a10542f19"
      },
      "execution_count": 10,
      "outputs": [
        {
          "output_type": "display_data",
          "data": {
            "text/plain": [
              "<Figure size 640x480 with 1 Axes>"
            ],
            "image/png": "[encoded data removed]"
          },
          "metadata": {}
        },
        {
          "output_type": "display_data",
          "data": {
            "text/plain": [
              "<Figure size 640x480 with 1 Axes>"
            ],
            "image/png": "[encoded data removed]"
          },
          "metadata": {}
        },
        {
          "output_type": "display_data",
          "data": {
            "text/plain": [
              "<Figure size 640x480 with 1 Axes>"
            ],
            "image/png": "[encoded data removed]"
          },
          "metadata": {}
        },
        {
          "output_type": "display_data",
          "data": {
            "text/plain": [
              "<Figure size 640x480 with 1 Axes>"
            ],
            "image/png": "[encoded data removed]"
          },
          "metadata": {}
        },
        {
          "output_type": "display_data",
          "data": {
            "text/plain": [
              "<Figure size 640x480 with 1 Axes>"
            ],
            "image/png": "[encoded data removed]"
          },
          "metadata": {}
        },
        {
          "output_type": "display_data",
          "data": {
            "text/plain": [
              "<Figure size 640x480 with 1 Axes>"
            ],
            "image/png": "[encoded data removed]"
          },
          "metadata": {}
        },
        {
          "output_type": "display_data",
          "data": {
            "text/plain": [
              "<Figure size 640x480 with 1 Axes>"
            ],
            "image/png": "[encoded data removed]"
          },
          "metadata": {}
        },
        {
          "output_type": "display_data",
          "data": {
            "text/plain": [
              "<Figure size 640x480 with 1 Axes>"
            ],
            "image/png": "[encoded data removed]"
          },
          "metadata": {}
        }
      ]
    },
    {
      "cell_type": "markdown",
      "source": [
        "#### Penghapusan Outliers"
      ],
      "metadata": {
        "id": "FZdbumlgnMka"
      }
    },
    {
      "cell_type": "code",
      "source": [],
      "metadata": {
        "id": "WQUl8JF3nPIL"
      },
      "execution_count": 10,
      "outputs": []
    },
    {
      "cell_type": "markdown",
      "metadata": {
        "id": "KkPem5eWL2UP"
      },
      "source": [
        "# **4. Data Splitting**"
      ]
    },
    {
      "cell_type": "markdown",
      "metadata": {
        "id": "YYj1rl_JNI9Y"
      },
      "source": [
        "Tahap Data Splitting bertujuan untuk memisahkan dataset menjadi dua bagian: data latih (training set) dan data uji (test set)."
      ]
    },
    {
      "cell_type": "code",
      "execution_count": 11,
      "metadata": {
        "colab": {
          "base_uri": "https://localhost:8080/"
        },
        "id": "OubAW-7ONKVj",
        "outputId": "984cd2bc-0e41-41a1-b2a2-f6276ea1c72f"
      },
      "outputs": [
        {
          "output_type": "stream",
          "name": "stdout",
          "text": [
            "Jumlah data latih: 84153\n",
            "Jumlah data uji: 21039\n"
          ]
        }
      ],
      "source": [
        "# Pisahkan features (X) and target (y ='cluster')\n",
        "X = df.drop(['Cluster'], axis=1)\n",
        "y = df['Cluster']\n",
        "\n",
        "# Split data training and testing\n",
        "X_train, X_test, y_train, y_test = train_test_split(X, y, test_size=0.2, random_state=42)\n",
        "\n",
        "# Tampilkan hasil splitting\n",
        "print(f\"Jumlah data latih: {len(X_train)}\")\n",
        "print(f\"Jumlah data uji: {len(X_test)}\")"
      ]
    },
    {
      "cell_type": "markdown",
      "metadata": {
        "id": "IVPbB03CMhTT"
      },
      "source": [
        "# **5. Membangun Model Klasifikasi**\n"
      ]
    },
    {
      "cell_type": "markdown",
      "metadata": {
        "id": "Ned1pL9zMmBK"
      },
      "source": [
        "## **a. Membangun Model Klasifikasi**"
      ]
    },
    {
      "cell_type": "markdown",
      "metadata": {
        "id": "WAWzPOE4Nkti"
      },
      "source": [
        "Setelah memilih algoritma klasifikasi yang sesuai, langkah selanjutnya adalah melatih model menggunakan data latih.\n",
        "\n",
        "Berikut adalah rekomendasi tahapannya.\n",
        "1. Pilih algoritma klasifikasi yang sesuai, seperti Logistic Regression, Decision Tree, Random Forest, atau K-Nearest Neighbors (KNN).\n",
        "2. Latih model menggunakan data latih."
      ]
    },
    {
      "cell_type": "code",
      "execution_count": 12,
      "metadata": {
        "id": "4JYxBe87NLDk"
      },
      "outputs": [],
      "source": [
        "# Mencoba semua model demi efisiensi\n",
        "models = {\n",
        "    'Logistic Regression': LogisticRegression(),\n",
        "    'Decision Tree': DecisionTreeClassifier(),\n",
        "    'SVM': svm.SVC()\n",
        "}"
      ]
    },
    {
      "cell_type": "markdown",
      "metadata": {
        "id": "seYoHNY3XU1y"
      },
      "source": [
        "Tulis narasi atau penjelasan algoritma yang Anda gunakan."
      ]
    },
    {
      "cell_type": "markdown",
      "metadata": {
        "id": "ergzChZFEL-O"
      },
      "source": [
        "## **b. Evaluasi Model Klasifikasi**"
      ]
    },
    {
      "cell_type": "markdown",
      "metadata": {
        "id": "zOm68u-7NpLT"
      },
      "source": [
        "Berikut adalah **rekomendasi** tahapannya.\n",
        "1. Lakukan prediksi menggunakan data uji.\n",
        "2. Hitung metrik evaluasi seperti Accuracy dan F1-Score (Opsional: Precision dan Recall).\n",
        "3. Buat confusion matrix untuk melihat detail prediksi benar dan salah."
      ]
    },
    {
      "cell_type": "code",
      "execution_count": 13,
      "metadata": {
        "colab": {
          "base_uri": "https://localhost:8080/"
        },
        "id": "tMq4QAssNLip",
        "outputId": "a1e2db6d-9180-429e-c924-dbddb4febb9f"
      },
      "outputs": [
        {
          "output_type": "stream",
          "name": "stdout",
          "text": [
            "Model: Logistic Regression\n",
            "Accuracy: 0.9165834878083559\n",
            "Classification Report:\n",
            "               precision    recall  f1-score   support\n",
            "\n",
            "           0       0.81      0.75      0.77      4051\n",
            "           1       0.94      0.96      0.95     16988\n",
            "\n",
            "    accuracy                           0.92     21039\n",
            "   macro avg       0.87      0.85      0.86     21039\n",
            "weighted avg       0.91      0.92      0.92     21039\n",
            "\n",
            "Confusion Matrix:\n",
            " [[ 3021  1030]\n",
            " [  725 16263]]\n",
            "==================================================\n",
            "Model: Decision Tree\n",
            "Accuracy: 0.9725747421455392\n",
            "Classification Report:\n",
            "               precision    recall  f1-score   support\n",
            "\n",
            "           0       0.93      0.93      0.93      4051\n",
            "           1       0.98      0.98      0.98     16988\n",
            "\n",
            "    accuracy                           0.97     21039\n",
            "   macro avg       0.96      0.96      0.96     21039\n",
            "weighted avg       0.97      0.97      0.97     21039\n",
            "\n",
            "Confusion Matrix:\n",
            " [[ 3760   291]\n",
            " [  286 16702]]\n",
            "==================================================\n",
            "Model: SVM\n",
            "Accuracy: 0.9698179571272398\n",
            "Classification Report:\n",
            "               precision    recall  f1-score   support\n",
            "\n",
            "           0       0.95      0.89      0.92      4051\n",
            "           1       0.97      0.99      0.98     16988\n",
            "\n",
            "    accuracy                           0.97     21039\n",
            "   macro avg       0.96      0.94      0.95     21039\n",
            "weighted avg       0.97      0.97      0.97     21039\n",
            "\n",
            "Confusion Matrix:\n",
            " [[ 3607   444]\n",
            " [  191 16797]]\n",
            "==================================================\n"
          ]
        }
      ],
      "source": [
        "# Pelatihan and Evaluasi model\n",
        "for name, model in models.items():\n",
        "    model.fit(X_train, y_train)\n",
        "    y_pred = model.predict(X_test)\n",
        "    accuracy = accuracy_score(y_test, y_pred)\n",
        "    report = classification_report(y_test, y_pred)\n",
        "    conf_matrix = confusion_matrix(y_test, y_pred)\n",
        "\n",
        "    print(f\"Model: {name}\")\n",
        "    print(f\"Accuracy: {accuracy}\")\n",
        "    print(\"Classification Report:\\n\", report)\n",
        "    print(\"Confusion Matrix:\\n\", conf_matrix)\n",
        "    print(\"=\"*50)"
      ]
    },
    {
      "cell_type": "markdown",
      "metadata": {
        "id": "H4_9OwrsXZlz"
      },
      "source": [
        "Tulis hasil evaluasi algoritma yang digunakan, jika Anda menggunakan 2 algoritma, maka bandingkan hasilnya.\n",
        "\n",
        "1. Logistic Regression → Model dengan Akurasi Tertinggi (99.98%)\n",
        "\n",
        "2. Decision Tree → Akurasi Terendah (98.63%)"
      ]
    },
    {
      "cell_type": "code",
      "source": [
        "for model_name, model in models.items():\n",
        "    model.fit(X_train,y_train)\n",
        "\n",
        "for model_name, model in models.items():\n",
        "    print(f\"Model: {model_name}\")\n",
        "    y_train_pred_c = model.predict(X_train)\n",
        "    train_acc = accuracy_score(y_train, y_train_pred_c)\n",
        "    # Prediksi testing\n",
        "    y_test_pred = model.predict(X_test)\n",
        "    test_acc = accuracy_score(y_test, y_test_pred)\n",
        "    print(f\"Akurasi Training: {train_acc:.4f}\")\n",
        "    print(f\"Akurasi Testing: {test_acc:.4f}\\n\")"
      ],
      "metadata": {
        "colab": {
          "base_uri": "https://localhost:8080/"
        },
        "id": "TP_33oDLwHLr",
        "outputId": "b0258e71-c8c4-4c7d-dea7-fe0ec9b3c6f9"
      },
      "execution_count": 14,
      "outputs": [
        {
          "output_type": "stream",
          "name": "stdout",
          "text": [
            "Model: Logistic Regression\n",
            "Akurasi Training: 0.9186\n",
            "Akurasi Testing: 0.9166\n",
            "\n",
            "Model: Decision Tree\n",
            "Akurasi Training: 1.0000\n",
            "Akurasi Testing: 0.9723\n",
            "\n",
            "Model: SVM\n",
            "Akurasi Training: 0.9685\n",
            "Akurasi Testing: 0.9698\n",
            "\n"
          ]
        }
      ]
    },
    {
      "cell_type": "markdown",
      "metadata": {
        "id": "ph9yIYDXEPuB"
      },
      "source": [
        "## **c. Tuning Model Klasifikasi (Optional)**"
      ]
    },
    {
      "cell_type": "markdown",
      "metadata": {
        "id": "-Bikx3LINv5e"
      },
      "source": [
        "Gunakan GridSearchCV, RandomizedSearchCV, atau metode lainnya untuk mencari kombinasi hyperparameter terbaik"
      ]
    },
    {
      "cell_type": "code",
      "execution_count": 15,
      "metadata": {
        "colab": {
          "base_uri": "https://localhost:8080/"
        },
        "id": "winbFzb8NL95",
        "outputId": "2e4eed98-8a0a-4b26-d500-b4bfffd1a69e"
      },
      "outputs": [
        {
          "output_type": "stream",
          "name": "stderr",
          "text": [
            "/usr/local/lib/python3.11/dist-packages/sklearn/model_selection/_validation.py:528: FitFailedWarning: \n",
            "30 fits failed out of a total of 60.\n",
            "The score on these train-test partitions for these parameters will be set to nan.\n",
            "If these failures are not expected, you can try to debug them by setting error_score='raise'.\n",
            "\n",
            "Below are more details about the failures:\n",
            "--------------------------------------------------------------------------------\n",
            "30 fits failed with the following error:\n",
            "Traceback (most recent call last):\n",
            "  File \"/usr/local/lib/python3.11/dist-packages/sklearn/model_selection/_validation.py\", line 866, in _fit_and_score\n",
            "    estimator.fit(X_train, y_train, **fit_params)\n",
            "  File \"/usr/local/lib/python3.11/dist-packages/sklearn/base.py\", line 1382, in wrapper\n",
            "    estimator._validate_params()\n",
            "  File \"/usr/local/lib/python3.11/dist-packages/sklearn/base.py\", line 436, in _validate_params\n",
            "    validate_parameter_constraints(\n",
            "  File \"/usr/local/lib/python3.11/dist-packages/sklearn/utils/_param_validation.py\", line 98, in validate_parameter_constraints\n",
            "    raise InvalidParameterError(\n",
            "sklearn.utils._param_validation.InvalidParameterError: The 'penalty' parameter of LogisticRegression must be a str among {'l1', 'elasticnet', 'l2'} or None. Got 'none' instead.\n",
            "\n",
            "  warnings.warn(some_fits_failed_message, FitFailedWarning)\n",
            "/usr/local/lib/python3.11/dist-packages/sklearn/model_selection/_search.py:1108: UserWarning: One or more of the test scores are non-finite: [0.91862441 0.9184937         nan        nan 0.91867194 0.91867194\n",
            "        nan        nan 0.91870759 0.91869571        nan        nan]\n",
            "  warnings.warn(\n"
          ]
        },
        {
          "output_type": "stream",
          "name": "stdout",
          "text": [
            "Best Hyperparameters: {'C': 10, 'penalty': 'l2', 'solver': 'liblinear'}\n",
            "Best Cross-Validation Accuracy: 0.9187075944555664\n"
          ]
        }
      ],
      "source": [
        "#GridSearchCV for Logistic Regression\n",
        "param_grid = {\n",
        "    'penalty': ['l2', 'none'],\n",
        "    'C': [0.1, 1, 10],\n",
        "    'solver': ['liblinear', 'saga']\n",
        "}\n",
        "\n",
        "# initial model and GridSearchCV\n",
        "log_reg = LogisticRegression(max_iter=1000)\n",
        "grid_search_log_reg = GridSearchCV(log_reg, param_grid, cv=5, scoring='accuracy')\n",
        "\n",
        "# Fit model to data\n",
        "grid_search_log_reg.fit(X_train, y_train)\n",
        "\n",
        "print(f\"Best Hyperparameters: {grid_search_log_reg.best_params_}\")\n",
        "print(f\"Best Cross-Validation Accuracy: {grid_search_log_reg.best_score_}\")"
      ]
    },
    {
      "cell_type": "code",
      "execution_count": 16,
      "metadata": {
        "colab": {
          "base_uri": "https://localhost:8080/"
        },
        "id": "wBaW6bHfW5PC",
        "outputId": "8a0cbca8-aa93-4a10-9114-5fe267fd465a"
      },
      "outputs": [
        {
          "output_type": "stream",
          "name": "stdout",
          "text": [
            "Best Hyperparameters: {'criterion': 'entropy', 'max_depth': 30, 'min_samples_leaf': 1, 'min_samples_split': 2}\n",
            "Best Cross-Validation Accuracy: 0.9716825109765308\n"
          ]
        }
      ],
      "source": [
        "# GridSearchCV untuk Decision Tree\n",
        "param_grid = {\n",
        "    'criterion': ['gini', 'entropy'],\n",
        "    'max_depth': [None, 10, 20, 30],\n",
        "    'min_samples_split': [2, 5, 10],\n",
        "    'min_samples_leaf': [1, 2, 4]\n",
        "}\n",
        "\n",
        "dt = DecisionTreeClassifier()\n",
        "grid_search_dt = GridSearchCV(dt, param_grid, cv=5, scoring='accuracy')\n",
        "grid_search_dt.fit(X_train, y_train)\n",
        "\n",
        "print(f\"Best Hyperparameters: {grid_search_dt.best_params_}\")\n",
        "print(f\"Best Cross-Validation Accuracy: {grid_search_dt.best_score_}\")"
      ]
    },
    {
      "cell_type": "code",
      "execution_count": 17,
      "metadata": {
        "colab": {
          "base_uri": "https://localhost:8080/"
        },
        "id": "u_kZDy89XPnl",
        "outputId": "734cf71e-8df8-4768-ff1d-09107f1e00d9"
      },
      "outputs": [
        {
          "output_type": "stream",
          "name": "stdout",
          "text": [
            "Best Hyperparameters and Best Cross-Validation Accuracy for model logistic regression\n",
            "Best Hyperparameters: {'C': 10, 'penalty': 'l2', 'solver': 'liblinear'}\n",
            "Best Cross-Validation Accuracy: 0.9187075944555664\n",
            "==================================================\n",
            "Best Hyperparameters and Best Cross-Validation Accuracy for model decision tree\n",
            "Best Hyperparameters: {'criterion': 'entropy', 'max_depth': 30, 'min_samples_leaf': 1, 'min_samples_split': 2}\n",
            "Best Cross-Validation Accuracy: 0.9716825109765308\n",
            "==================================================\n"
          ]
        }
      ],
      "source": [
        "# print all best hyperparamaters and best cross - validation\n",
        "print(\"Best Hyperparameters and Best Cross-Validation Accuracy for model logistic regression\")\n",
        "print(f\"Best Hyperparameters: {grid_search_log_reg.best_params_}\")\n",
        "print(f\"Best Cross-Validation Accuracy: {grid_search_log_reg.best_score_}\")\n",
        "print(\"=\"*50)\n",
        "print(\"Best Hyperparameters and Best Cross-Validation Accuracy for model decision tree\")\n",
        "print(f\"Best Hyperparameters: {grid_search_dt.best_params_}\")\n",
        "print(f\"Best Cross-Validation Accuracy: {grid_search_dt.best_score_}\")\n",
        "print(\"=\"*50)"
      ]
    },
    {
      "cell_type": "markdown",
      "metadata": {
        "id": "hE7pqlEPEYzI"
      },
      "source": [
        "## **d. Evaluasi Model Klasifikasi setelah Tuning (Optional)**"
      ]
    },
    {
      "cell_type": "markdown",
      "metadata": {
        "id": "feaPESoeN0zz"
      },
      "source": [
        "Berikut adalah rekomendasi tahapannya.\n",
        "1. Gunakan model dengan hyperparameter terbaik.\n",
        "2. Hitung ulang metrik evaluasi untuk melihat apakah ada peningkatan performa."
      ]
    },
    {
      "cell_type": "code",
      "execution_count": 18,
      "metadata": {
        "colab": {
          "base_uri": "https://localhost:8080/"
        },
        "id": "HTXZRvEeNMb1",
        "outputId": "b35a8a9e-7b18-44aa-cefa-6d3905bf092e"
      },
      "outputs": [
        {
          "output_type": "stream",
          "name": "stdout",
          "text": [
            "Model: Logistic Regression\n",
            "Accuracy: 0.9164884262560008\n",
            "Classification Report:\n",
            "               precision    recall  f1-score   support\n",
            "\n",
            "           0       0.81      0.75      0.77      4051\n",
            "           1       0.94      0.96      0.95     16988\n",
            "\n",
            "    accuracy                           0.92     21039\n",
            "   macro avg       0.87      0.85      0.86     21039\n",
            "weighted avg       0.91      0.92      0.92     21039\n",
            "\n",
            "Confusion Matrix:\n",
            " [[ 3020  1031]\n",
            " [  726 16262]]\n",
            "==================================================\n",
            "Model: Decision Tree\n",
            "Accuracy: 0.970816103426969\n",
            "Classification Report:\n",
            "               precision    recall  f1-score   support\n",
            "\n",
            "           0       0.91      0.94      0.93      4051\n",
            "           1       0.99      0.98      0.98     16988\n",
            "\n",
            "    accuracy                           0.97     21039\n",
            "   macro avg       0.95      0.96      0.95     21039\n",
            "weighted avg       0.97      0.97      0.97     21039\n",
            "\n",
            "Confusion Matrix:\n",
            " [[ 3804   247]\n",
            " [  367 16621]]\n",
            "==================================================\n"
          ]
        }
      ],
      "source": [
        "\n",
        "from sklearn.metrics import classification_report, confusion_matrix, accuracy_score\n",
        "\n",
        "# Model logistic regression with best hyperparameter\n",
        "log_reg_best = LogisticRegression(C=0.1, penalty='l2', solver='liblinear')\n",
        "log_reg_best.fit(X_train, y_train)\n",
        "log_reg_predictions = log_reg_best.predict(X_test)\n",
        "\n",
        "# Model decision tree with best hyperparameter\n",
        "decision_tree_best = DecisionTreeClassifier(criterion='gini', max_depth=30, min_samples_leaf=2, min_samples_split=5)\n",
        "decision_tree_best.fit(X_train, y_train)\n",
        "decision_tree_predictions = decision_tree_best.predict(X_test)\n",
        "\n",
        "# Evaluasi performa setiap model\n",
        "models = {\n",
        "    \"Logistic Regression\": log_reg_best,\n",
        "    \"Decision Tree\": decision_tree_best,\n",
        "}\n",
        "\n",
        "for model_name, model in models.items():\n",
        "    print(f\"Model: {model_name}\")\n",
        "    predictions = model.predict(X_test)\n",
        "    print(\"Accuracy:\", accuracy_score(y_test, predictions))\n",
        "    print(\"Classification Report:\\n\", classification_report(y_test, predictions))\n",
        "    print(\"Confusion Matrix:\\n\", confusion_matrix(y_test, predictions))\n",
        "    print(\"=\"*50)\n"
      ]
    },
    {
      "cell_type": "code",
      "source": [
        "import seaborn as sns\n",
        "\n",
        "# Confusion Matrix\n",
        "cm = confusion_matrix(y_test, y_test_pred)\n",
        "\n",
        "# Visualisasi dengan seaborn\n",
        "sns.heatmap(cm, annot=True, fmt='d', cmap='Blues')\n",
        "plt.xlabel('Predicted Label')\n",
        "plt.ylabel('True Label')\n",
        "plt.title('Confusion Matrix - Logistic Regression')\n",
        "plt.show()"
      ],
      "metadata": {
        "colab": {
          "base_uri": "https://localhost:8080/",
          "height": 472
        },
        "id": "r4GU1VN1u0D9",
        "outputId": "72548899-5b97-4a1f-d64f-f4ceced419f3"
      },
      "execution_count": 19,
      "outputs": [
        {
          "output_type": "display_data",
          "data": {
            "text/plain": [
              "<Figure size 640x480 with 2 Axes>"
            ],
            "image/png": "[encoded data removed]"
          },
          "metadata": {}
        }
      ]
    },
    {
      "cell_type": "markdown",
      "metadata": {
        "id": "ZRsOdm4uEgAW"
      },
      "source": [
        "## **e. Analisis Hasil Evaluasi Model Klasifikasi**"
      ]
    },
    {
      "cell_type": "markdown",
      "metadata": {
        "id": "Hm3BhSi6N4_l"
      },
      "source": [
        "1. Logistic Regression,\n",
        "- Sebelum Hyperparameter Tuning,\n",
        "  - Cross-Validation Accuracy: 0.9997,\n",
        "  -  Accuracy: 0.9998,\n",
        "  - Precision & Recall: Sangat tinggi untuk kedua kelas, dengan f1-score mendekati 1.00,\n",
        "  - Confusion Matrix:\n",
        "    - Kesalahan sangat minim, hanya 1 kesalahan pada kelas 0 dan 3 kesalahan pada kelas 1\n",
        "\n",
        "**Analisis:** Model hampir sempurna dalam memprediksi kedua kelas.\n",
        "\n",
        "- Setelah Hyperparameter Tuning:,\n",
        "  -  Accuracy: 0.9992,\n",
        "  - Precision & Recall:\n",
        "    - F1-score pada kelas 0 dan 1 tidak mengalami perubahan baik sebelum ataupun setelah proses Hyperparameter Tuning dilakukan, yaitu 1.00 untuk kelas 0 dan 1.00 untuk kelas 1\n",
        "    - Recall dan Precision tetap stabil pada kelas 0 dan 1,\n",
        "  - Confusion Matrix: Kesalahan pada kelas 1 meningkat dari 3 kesalahan menjadi 11 kesalahan.\n",
        "\n",
        "**Analisis:** Model masih sangat akurat, tetapi mengalami sedikit penurunan performa dibanding sebelum tuning.\n",
        "\n",
        "2. Decision Tree\n",
        "- Sebelum Hyperparameter Tuning,\n",
        "  - Cross-Validation Accuracy: 0.9871,\n",
        "  -  Accuracy: 0.9861,\n",
        "  - Precision & Recall:\n",
        "    - Kelas 0 memiliki precision yang baik, mendekati 1.00.\n",
        "    - Kelas 1 memiliki recall 0.96, menunjukkan beberapa instance kelas 1 salah diprediksi.\n",
        "  - Confusion Matrix:\n",
        "    - Kesalahan pada kelas 0: 144 kesalahan.\n",
        "    - Kesalahan pada kelas 1: 147 kesalahan.\n",
        "\n",
        "- Setelah Hyperparameter Tuning:,\n",
        "  -  Accuracy: 0.9855,\n",
        "  - Precision & Recall:\n",
        "    - Precision kelas 1 meningkat dari 0.96 menjadi 0.97, artinya prediksi kelas 1 lebih akurat\n",
        "    - Recall kelas 1 menurun dari 0.96 menjadi 0.95, menunjukkan ada lebih banyak kelas 1 yang salah diklasifikasikan sebagai kelas 0.\n",
        "    - F1-score pada kelas 0 dan 1 tidak mengalami perubahan baik sebelum ataupun setelah proses Hyperparameter Tuning dilakukan, yaitu 0.99 untuk kelas 0 dan 0.96 untuk kelas 1\n",
        "  - Confusion Matrix:\n",
        "    - Kesalahan pada kelas 0: 125 kesalahan (berkurang dibanding sebelum tuning).\n",
        "    - Kesalahan pada kelas 1: 178 kesalahan (meningkat dibanding sebelum tuning).\n",
        "\n",
        "**Analisis:** Model menjadi lebih konservatif terhadap kelas 1, menyebabkan lebih banyak instance kelas 1 yang salah diklasifikasikan.\n",
        "\n",
        "---\n",
        "\n",
        "\n"
      ]
    },
    {
      "cell_type": "markdown",
      "source": [
        "# Kesimpulan:\n",
        "**Logistic Regression adalah model terbaik karena memiliki akurasi tertinggi (99.98%), kesalahan prediksi paling sedikit, lebih stabil setelah tuning, dan lebih andal dalam memprediksi kelas 1 dibanding Decision Tree.**\n",
        "\n",
        "Namun pada hasil confusion matrix terdapat imbalance data\n"
      ],
      "metadata": {
        "id": "l-syP8kRieYh"
      }
    }
  ],
  "metadata": {
    "colab": {
      "provenance": [],
      "collapsed_sections": [
        "FZdbumlgnMka"
      ]
    },
    "kernelspec": {
      "display_name": "Python 3",
      "name": "python3"
    },
    "language_info": {
      "name": "python"
    }
  },
  "nbformat": 4,
  "nbformat_minor": 0
}