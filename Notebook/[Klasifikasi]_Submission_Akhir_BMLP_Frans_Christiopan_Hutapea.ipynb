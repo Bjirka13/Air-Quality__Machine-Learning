{
  "cells": [
    {
      "cell_type": "markdown",
      "metadata": {
        "id": "fKADPWcFKlj3"
      },
      "source": [
        "# **1. Import Library**"
      ]
    },
    {
      "cell_type": "markdown",
      "metadata": {
        "id": "LgA3ERnVn84N"
      },
      "source": [
        "Pada tahap ini, Anda perlu mengimpor beberapa pustaka (library) Python yang dibutuhkan untuk analisis data dan pembangunan model machine learning."
      ]
    },
    {
      "cell_type": "code",
      "execution_count": 42,
      "metadata": {
        "id": "BlmvjLY9M4Yj"
      },
      "outputs": [],
      "source": [
        "import pandas as pd\n",
        "import numpy as np\n",
        "import matplotlib.pyplot as plt\n",
        "import seaborn as sns\n",
        "from sklearn.preprocessing import StandardScaler\n",
        "from sklearn.model_selection import train_test_split\n",
        "from sklearn.linear_model import LogisticRegression\n",
        "from sklearn.tree import DecisionTreeClassifier\n",
        "from sklearn.ensemble import RandomForestClassifier\n",
        "from sklearn.neighbors import KNeighborsClassifier\n",
        "from sklearn.svm import SVC\n",
        "from sklearn.metrics import accuracy_score, classification_report, confusion_matrix\n",
        "from sklearn.model_selection import GridSearchCV, RandomizedSearchCV\n",
        "from sklearn import svm"
      ]
    },
    {
      "cell_type": "code",
      "execution_count": 43,
      "metadata": {
        "colab": {
          "base_uri": "https://localhost:8080/"
        },
        "id": "yq-Z4RcTSly9",
        "outputId": "17d7fa8c-98db-4821-a96e-1f99614961db"
      },
      "outputs": [
        {
          "output_type": "stream",
          "name": "stdout",
          "text": [
            "Drive already mounted at /content/drive; to attempt to forcibly remount, call drive.mount(\"/content/drive\", force_remount=True).\n"
          ]
        }
      ],
      "source": [
        "from google.colab import drive\n",
        "drive.mount('/content/drive')"
      ]
    },
    {
      "cell_type": "markdown",
      "metadata": {
        "id": "f3YIEnAFKrKL"
      },
      "source": [
        "# **2. Memuat Dataset dari Hasil Clustering**"
      ]
    },
    {
      "cell_type": "markdown",
      "metadata": {
        "id": "Ey3ItwTen_7E"
      },
      "source": [
        "Memuat dataset hasil clustering dari file CSV ke dalam variabel DataFrame."
      ]
    },
    {
      "cell_type": "code",
      "execution_count": 64,
      "metadata": {
        "colab": {
          "base_uri": "https://localhost:8080/",
          "height": 206
        },
        "id": "GHCGNTyrM5fS",
        "outputId": "d53eb384-39df-4b65-b2b3-23c5e7955e80"
      },
      "outputs": [
        {
          "output_type": "execute_result",
          "data": {
            "text/plain": [
              "      PM2.5      PM10       SO2       NO2        CO        O3   TEMP  \\\n",
              "0 -0.554217 -0.693069 -0.195111 -0.636364 -0.555556  0.369231 -0.765   \n",
              "1 -0.506024 -0.653465 -0.195111 -0.636364 -0.555556  0.369231 -0.785   \n",
              "2 -0.518072 -0.663366 -0.130074 -0.568182 -0.555556  0.307692 -0.785   \n",
              "3 -0.530120 -0.673267  0.260147 -0.545455 -0.555556  0.292308 -0.800   \n",
              "4 -0.566265 -0.702970  0.325184 -0.522727 -0.555556  0.292308 -0.830   \n",
              "\n",
              "       PRES      DEWP  RAIN      WSPM  Cluster  \n",
              "0  0.851190 -0.880165   0.0  2.230769        1  \n",
              "1  0.863095 -0.855372   0.0  2.461538        1  \n",
              "2  0.880952 -0.855372   0.0  3.153846        1  \n",
              "3  0.940476 -0.904959   0.0  1.230769        1  \n",
              "4  0.982143 -0.909091   0.0  0.384615        1  "
            ],
            "text/html": [
              "\n",
              "  <div id=\"df-15ea9ef8-4c1f-4c77-b1ce-bfc594f96c81\" class=\"colab-df-container\">\n",
              "    <div>\n",
              "<style scoped>\n",
              "    .dataframe tbody tr th:only-of-type {\n",
              "        vertical-align: middle;\n",
              "    }\n",
              "\n",
              "    .dataframe tbody tr th {\n",
              "        vertical-align: top;\n",
              "    }\n",
              "\n",
              "    .dataframe thead th {\n",
              "        text-align: right;\n",
              "    }\n",
              "</style>\n",
              "<table border=\"1\" class=\"dataframe\">\n",
              "  <thead>\n",
              "    <tr style=\"text-align: right;\">\n",
              "      <th></th>\n",
              "      <th>PM2.5</th>\n",
              "      <th>PM10</th>\n",
              "      <th>SO2</th>\n",
              "      <th>NO2</th>\n",
              "      <th>CO</th>\n",
              "      <th>O3</th>\n",
              "      <th>TEMP</th>\n",
              "      <th>PRES</th>\n",
              "      <th>DEWP</th>\n",
              "      <th>RAIN</th>\n",
              "      <th>WSPM</th>\n",
              "      <th>Cluster</th>\n",
              "    </tr>\n",
              "  </thead>\n",
              "  <tbody>\n",
              "    <tr>\n",
              "      <th>0</th>\n",
              "      <td>-0.554217</td>\n",
              "      <td>-0.693069</td>\n",
              "      <td>-0.195111</td>\n",
              "      <td>-0.636364</td>\n",
              "      <td>-0.555556</td>\n",
              "      <td>0.369231</td>\n",
              "      <td>-0.765</td>\n",
              "      <td>0.851190</td>\n",
              "      <td>-0.880165</td>\n",
              "      <td>0.0</td>\n",
              "      <td>2.230769</td>\n",
              "      <td>1</td>\n",
              "    </tr>\n",
              "    <tr>\n",
              "      <th>1</th>\n",
              "      <td>-0.506024</td>\n",
              "      <td>-0.653465</td>\n",
              "      <td>-0.195111</td>\n",
              "      <td>-0.636364</td>\n",
              "      <td>-0.555556</td>\n",
              "      <td>0.369231</td>\n",
              "      <td>-0.785</td>\n",
              "      <td>0.863095</td>\n",
              "      <td>-0.855372</td>\n",
              "      <td>0.0</td>\n",
              "      <td>2.461538</td>\n",
              "      <td>1</td>\n",
              "    </tr>\n",
              "    <tr>\n",
              "      <th>2</th>\n",
              "      <td>-0.518072</td>\n",
              "      <td>-0.663366</td>\n",
              "      <td>-0.130074</td>\n",
              "      <td>-0.568182</td>\n",
              "      <td>-0.555556</td>\n",
              "      <td>0.307692</td>\n",
              "      <td>-0.785</td>\n",
              "      <td>0.880952</td>\n",
              "      <td>-0.855372</td>\n",
              "      <td>0.0</td>\n",
              "      <td>3.153846</td>\n",
              "      <td>1</td>\n",
              "    </tr>\n",
              "    <tr>\n",
              "      <th>3</th>\n",
              "      <td>-0.530120</td>\n",
              "      <td>-0.673267</td>\n",
              "      <td>0.260147</td>\n",
              "      <td>-0.545455</td>\n",
              "      <td>-0.555556</td>\n",
              "      <td>0.292308</td>\n",
              "      <td>-0.800</td>\n",
              "      <td>0.940476</td>\n",
              "      <td>-0.904959</td>\n",
              "      <td>0.0</td>\n",
              "      <td>1.230769</td>\n",
              "      <td>1</td>\n",
              "    </tr>\n",
              "    <tr>\n",
              "      <th>4</th>\n",
              "      <td>-0.566265</td>\n",
              "      <td>-0.702970</td>\n",
              "      <td>0.325184</td>\n",
              "      <td>-0.522727</td>\n",
              "      <td>-0.555556</td>\n",
              "      <td>0.292308</td>\n",
              "      <td>-0.830</td>\n",
              "      <td>0.982143</td>\n",
              "      <td>-0.909091</td>\n",
              "      <td>0.0</td>\n",
              "      <td>0.384615</td>\n",
              "      <td>1</td>\n",
              "    </tr>\n",
              "  </tbody>\n",
              "</table>\n",
              "</div>\n",
              "    <div class=\"colab-df-buttons\">\n",
              "\n",
              "  <div class=\"colab-df-container\">\n",
              "    <button class=\"colab-df-convert\" onclick=\"convertToInteractive('df-15ea9ef8-4c1f-4c77-b1ce-bfc594f96c81')\"\n",
              "            title=\"Convert this dataframe to an interactive table.\"\n",
              "            style=\"display:none;\">\n",
              "\n",
              "  <svg xmlns=\"http://www.w3.org/2000/svg\" height=\"24px\" viewBox=\"0 -960 960 960\">\n",
              "    <path d=\"M120-120v-720h720v720H120Zm60-500h600v-160H180v160Zm220 220h160v-160H400v160Zm0 220h160v-160H400v160ZM180-400h160v-160H180v160Zm440 0h160v-160H620v160ZM180-180h160v-160H180v160Zm440 0h160v-160H620v160Z\"/>\n",
              "  </svg>\n",
              "    </button>\n",
              "\n",
              "  <style>\n",
              "    .colab-df-container {\n",
              "      display:flex;\n",
              "      gap: 12px;\n",
              "    }\n",
              "\n",
              "    .colab-df-convert {\n",
              "      background-color: #E8F0FE;\n",
              "      border: none;\n",
              "      border-radius: 50%;\n",
              "      cursor: pointer;\n",
              "      display: none;\n",
              "      fill: #1967D2;\n",
              "      height: 32px;\n",
              "      padding: 0 0 0 0;\n",
              "      width: 32px;\n",
              "    }\n",
              "\n",
              "    .colab-df-convert:hover {\n",
              "      background-color: #E2EBFA;\n",
              "      box-shadow: 0px 1px 2px rgba(60, 64, 67, 0.3), 0px 1px 3px 1px rgba(60, 64, 67, 0.15);\n",
              "      fill: #174EA6;\n",
              "    }\n",
              "\n",
              "    .colab-df-buttons div {\n",
              "      margin-bottom: 4px;\n",
              "    }\n",
              "\n",
              "    [theme=dark] .colab-df-convert {\n",
              "      background-color: #3B4455;\n",
              "      fill: #D2E3FC;\n",
              "    }\n",
              "\n",
              "    [theme=dark] .colab-df-convert:hover {\n",
              "      background-color: #434B5C;\n",
              "      box-shadow: 0px 1px 3px 1px rgba(0, 0, 0, 0.15);\n",
              "      filter: drop-shadow(0px 1px 2px rgba(0, 0, 0, 0.3));\n",
              "      fill: #FFFFFF;\n",
              "    }\n",
              "  </style>\n",
              "\n",
              "    <script>\n",
              "      const buttonEl =\n",
              "        document.querySelector('#df-15ea9ef8-4c1f-4c77-b1ce-bfc594f96c81 button.colab-df-convert');\n",
              "      buttonEl.style.display =\n",
              "        google.colab.kernel.accessAllowed ? 'block' : 'none';\n",
              "\n",
              "      async function convertToInteractive(key) {\n",
              "        const element = document.querySelector('#df-15ea9ef8-4c1f-4c77-b1ce-bfc594f96c81');\n",
              "        const dataTable =\n",
              "          await google.colab.kernel.invokeFunction('convertToInteractive',\n",
              "                                                    [key], {});\n",
              "        if (!dataTable) return;\n",
              "\n",
              "        const docLinkHtml = 'Like what you see? Visit the ' +\n",
              "          '<a target=\"_blank\" href=https://colab.research.google.com/notebooks/data_table.ipynb>data table notebook</a>'\n",
              "          + ' to learn more about interactive tables.';\n",
              "        element.innerHTML = '';\n",
              "        dataTable['output_type'] = 'display_data';\n",
              "        await google.colab.output.renderOutput(dataTable, element);\n",
              "        const docLink = document.createElement('div');\n",
              "        docLink.innerHTML = docLinkHtml;\n",
              "        element.appendChild(docLink);\n",
              "      }\n",
              "    </script>\n",
              "  </div>\n",
              "\n",
              "\n",
              "    <div id=\"df-5a213419-b7b7-432d-9791-6cfc629fa5dd\">\n",
              "      <button class=\"colab-df-quickchart\" onclick=\"quickchart('df-5a213419-b7b7-432d-9791-6cfc629fa5dd')\"\n",
              "                title=\"Suggest charts\"\n",
              "                style=\"display:none;\">\n",
              "\n",
              "<svg xmlns=\"http://www.w3.org/2000/svg\" height=\"24px\"viewBox=\"0 0 24 24\"\n",
              "     width=\"24px\">\n",
              "    <g>\n",
              "        <path d=\"M19 3H5c-1.1 0-2 .9-2 2v14c0 1.1.9 2 2 2h14c1.1 0 2-.9 2-2V5c0-1.1-.9-2-2-2zM9 17H7v-7h2v7zm4 0h-2V7h2v10zm4 0h-2v-4h2v4z\"/>\n",
              "    </g>\n",
              "</svg>\n",
              "      </button>\n",
              "\n",
              "<style>\n",
              "  .colab-df-quickchart {\n",
              "      --bg-color: #E8F0FE;\n",
              "      --fill-color: #1967D2;\n",
              "      --hover-bg-color: #E2EBFA;\n",
              "      --hover-fill-color: #174EA6;\n",
              "      --disabled-fill-color: #AAA;\n",
              "      --disabled-bg-color: #DDD;\n",
              "  }\n",
              "\n",
              "  [theme=dark] .colab-df-quickchart {\n",
              "      --bg-color: #3B4455;\n",
              "      --fill-color: #D2E3FC;\n",
              "      --hover-bg-color: #434B5C;\n",
              "      --hover-fill-color: #FFFFFF;\n",
              "      --disabled-bg-color: #3B4455;\n",
              "      --disabled-fill-color: #666;\n",
              "  }\n",
              "\n",
              "  .colab-df-quickchart {\n",
              "    background-color: var(--bg-color);\n",
              "    border: none;\n",
              "    border-radius: 50%;\n",
              "    cursor: pointer;\n",
              "    display: none;\n",
              "    fill: var(--fill-color);\n",
              "    height: 32px;\n",
              "    padding: 0;\n",
              "    width: 32px;\n",
              "  }\n",
              "\n",
              "  .colab-df-quickchart:hover {\n",
              "    background-color: var(--hover-bg-color);\n",
              "    box-shadow: 0 1px 2px rgba(60, 64, 67, 0.3), 0 1px 3px 1px rgba(60, 64, 67, 0.15);\n",
              "    fill: var(--button-hover-fill-color);\n",
              "  }\n",
              "\n",
              "  .colab-df-quickchart-complete:disabled,\n",
              "  .colab-df-quickchart-complete:disabled:hover {\n",
              "    background-color: var(--disabled-bg-color);\n",
              "    fill: var(--disabled-fill-color);\n",
              "    box-shadow: none;\n",
              "  }\n",
              "\n",
              "  .colab-df-spinner {\n",
              "    border: 2px solid var(--fill-color);\n",
              "    border-color: transparent;\n",
              "    border-bottom-color: var(--fill-color);\n",
              "    animation:\n",
              "      spin 1s steps(1) infinite;\n",
              "  }\n",
              "\n",
              "  @keyframes spin {\n",
              "    0% {\n",
              "      border-color: transparent;\n",
              "      border-bottom-color: var(--fill-color);\n",
              "      border-left-color: var(--fill-color);\n",
              "    }\n",
              "    20% {\n",
              "      border-color: transparent;\n",
              "      border-left-color: var(--fill-color);\n",
              "      border-top-color: var(--fill-color);\n",
              "    }\n",
              "    30% {\n",
              "      border-color: transparent;\n",
              "      border-left-color: var(--fill-color);\n",
              "      border-top-color: var(--fill-color);\n",
              "      border-right-color: var(--fill-color);\n",
              "    }\n",
              "    40% {\n",
              "      border-color: transparent;\n",
              "      border-right-color: var(--fill-color);\n",
              "      border-top-color: var(--fill-color);\n",
              "    }\n",
              "    60% {\n",
              "      border-color: transparent;\n",
              "      border-right-color: var(--fill-color);\n",
              "    }\n",
              "    80% {\n",
              "      border-color: transparent;\n",
              "      border-right-color: var(--fill-color);\n",
              "      border-bottom-color: var(--fill-color);\n",
              "    }\n",
              "    90% {\n",
              "      border-color: transparent;\n",
              "      border-bottom-color: var(--fill-color);\n",
              "    }\n",
              "  }\n",
              "</style>\n",
              "\n",
              "      <script>\n",
              "        async function quickchart(key) {\n",
              "          const quickchartButtonEl =\n",
              "            document.querySelector('#' + key + ' button');\n",
              "          quickchartButtonEl.disabled = true;  // To prevent multiple clicks.\n",
              "          quickchartButtonEl.classList.add('colab-df-spinner');\n",
              "          try {\n",
              "            const charts = await google.colab.kernel.invokeFunction(\n",
              "                'suggestCharts', [key], {});\n",
              "          } catch (error) {\n",
              "            console.error('Error during call to suggestCharts:', error);\n",
              "          }\n",
              "          quickchartButtonEl.classList.remove('colab-df-spinner');\n",
              "          quickchartButtonEl.classList.add('colab-df-quickchart-complete');\n",
              "        }\n",
              "        (() => {\n",
              "          let quickchartButtonEl =\n",
              "            document.querySelector('#df-5a213419-b7b7-432d-9791-6cfc629fa5dd button');\n",
              "          quickchartButtonEl.style.display =\n",
              "            google.colab.kernel.accessAllowed ? 'block' : 'none';\n",
              "        })();\n",
              "      </script>\n",
              "    </div>\n",
              "\n",
              "    </div>\n",
              "  </div>\n"
            ],
            "application/vnd.google.colaboratory.intrinsic+json": {
              "type": "dataframe",
              "variable_name": "df"
            }
          },
          "metadata": {},
          "execution_count": 64
        }
      ],
      "source": [
        "# Load Dataset\n",
        "df = pd.read_csv('/content/drive/MyDrive/Dataset/Dicoding Submission/Machine Learning Pemula/Air Quality/Data/Air_Quality_labeled.csv')\n",
        "df.head()"
      ]
    },
    {
      "cell_type": "markdown",
      "source": [
        "# **3. Deteksi Outliers & Penanganan Outliers**"
      ],
      "metadata": {
        "id": "U5-XSmVw6Zaj"
      }
    },
    {
      "cell_type": "markdown",
      "metadata": {
        "id": "m-3qLFx3wriG"
      },
      "source": [
        "### Deteksi Outliers"
      ]
    },
    {
      "cell_type": "code",
      "execution_count": 45,
      "metadata": {
        "colab": {
          "base_uri": "https://localhost:8080/",
          "height": 1000
        },
        "id": "7RjRRALeseYs",
        "outputId": "54ca0c29-4d82-48ae-aadb-6d6f6df8ecb6"
      },
      "outputs": [
        {
          "output_type": "display_data",
          "data": {
            "text/plain": [
              "<Figure size 640x480 with 1 Axes>"
            ],
            "image/png": "[encoded data removed]"
          },
          "metadata": {}
        },
        {
          "output_type": "display_data",
          "data": {
            "text/plain": [
              "<Figure size 640x480 with 1 Axes>"
            ],
            "image/png": "[encoded data removed]"
          },
          "metadata": {}
        },
        {
          "output_type": "display_data",
          "data": {
            "text/plain": [
              "<Figure size 640x480 with 1 Axes>"
            ],
            "image/png": "[encoded data removed]"
          },
          "metadata": {}
        },
        {
          "output_type": "display_data",
          "data": {
            "text/plain": [
              "<Figure size 640x480 with 1 Axes>"
            ],
            "image/png": "[encoded data removed]"
          },
          "metadata": {}
        },
        {
          "output_type": "display_data",
          "data": {
            "text/plain": [
              "<Figure size 640x480 with 1 Axes>"
            ],
            "image/png": "[encoded data removed]"
          },
          "metadata": {}
        },
        {
          "output_type": "display_data",
          "data": {
            "text/plain": [
              "<Figure size 640x480 with 1 Axes>"
            ],
            "image/png": "[encoded data removed]"
          },
          "metadata": {}
        },
        {
          "output_type": "display_data",
          "data": {
            "text/plain": [
              "<Figure size 640x480 with 1 Axes>"
            ],
            "image/png": "[encoded data removed]"
          },
          "metadata": {}
        },
        {
          "output_type": "display_data",
          "data": {
            "text/plain": [
              "<Figure size 640x480 with 1 Axes>"
            ],
            "image/png": "[encoded data removed]"
          },
          "metadata": {}
        },
        {
          "output_type": "display_data",
          "data": {
            "text/plain": [
              "<Figure size 640x480 with 1 Axes>"
            ],
            "image/png": "[encoded data removed]"
          },
          "metadata": {}
        },
        {
          "output_type": "display_data",
          "data": {
            "text/plain": [
              "<Figure size 640x480 with 1 Axes>"
            ],
            "image/png": "[encoded data removed]"
          },
          "metadata": {}
        },
        {
          "output_type": "execute_result",
          "data": {
            "text/plain": [
              "Text(0.5, 1.0, 'Boxplot WSPM')"
            ]
          },
          "metadata": {},
          "execution_count": 45
        },
        {
          "output_type": "display_data",
          "data": {
            "text/plain": [
              "<Figure size 640x480 with 1 Axes>"
            ],
            "image/png": "[encoded data removed]"
          },
          "metadata": {}
        }
      ],
      "source": [
        "# PM2.5\n",
        "sns.boxplot(x=df['PM2.5']) # Deteksi\n",
        "plt.title(\"Boxplot PM2.5\")\n",
        "plt.show()\n",
        "\n",
        "# PM10\n",
        "sns.boxplot(x=df['PM10']) # Deteksi\n",
        "plt.title(\"Boxplot PM10\")\n",
        "plt.show()\n",
        "\n",
        "# SO2\n",
        "sns.boxplot(x=df['SO2']) # Deteksi\n",
        "plt.title(\"Boxplot SO2\")\n",
        "plt.show()\n",
        "\n",
        "# NO2\n",
        "sns.boxplot(x=df['NO2']) # Deteksi\n",
        "plt.title(\"Boxplot NO2\")\n",
        "plt.show()\n",
        "\n",
        "# CO\n",
        "sns.boxplot(x=df['CO']) # Deteksi\n",
        "plt.title(\"Boxplot CO\")\n",
        "plt.show()\n",
        "\n",
        "# O3\n",
        "sns.boxplot(x=df['O3']) # Deteksi\n",
        "plt.title(\"Boxplot O3\")\n",
        "plt.show()\n",
        "\n",
        "# TEMP\n",
        "sns.boxplot(x=df['TEMP']) # Deteksi\n",
        "plt.title(\"Boxplot TEMP\")\n",
        "plt.show()\n",
        "\n",
        "# PRES\n",
        "sns.boxplot(x=df['PRES']) # Deteksi\n",
        "plt.title(\"Boxplot PRES\")\n",
        "plt.show()\n",
        "\n",
        "# DEWP\n",
        "sns.boxplot(x=df['DEWP']) # Deteksi\n",
        "plt.title(\"Boxplot DEWP\")\n",
        "plt.show()\n",
        "\n",
        "# RAIN\n",
        "sns.boxplot(x=df['RAIN']) # Deteksi\n",
        "plt.title(\"Boxplot RAIN\")\n",
        "plt.show()\n",
        "\n",
        "# WSPM\n",
        "sns.boxplot(x=df['WSPM']) # Deteksi\n",
        "plt.title(\"Boxplot WSPM\")"
      ]
    },
    {
      "cell_type": "code",
      "source": [
        "# Hitung outliers melalui IQR\n",
        "def detect_outliers_iqr(data, column):\n",
        "    Q1 = data[column].quantile(0.25)\n",
        "    Q3 = data[column].quantile(0.75)\n",
        "    IQR = Q3 - Q1\n",
        "\n",
        "    lower_bound = Q1 - 1.5 * IQR\n",
        "    upper_bound = Q3 + 1.5 * IQR\n",
        "\n",
        "    # Filter data outliers\n",
        "    outliers = data[(data[column] < lower_bound) | (data[column] > upper_bound)]\n",
        "\n",
        "    return outliers, len(outliers), (len(outliers) / len(data)) * 100  # Jumlah dan persentase outlier\n",
        "\n",
        "# Hitung presentase outliers untuk polutan\n",
        "outliers_pm25, count_pm25, percent_pm25 = detect_outliers_iqr(df, \"PM2.5\")\n",
        "outliers_pm10, count_pm10, percent_pm10 = detect_outliers_iqr(df, \"PM10\")\n",
        "outliers_so2, count_so2, percent_so2 = detect_outliers_iqr(df, \"SO2\")\n",
        "outliers_no2, count_no2, percent_no2 = detect_outliers_iqr(df, \"NO2\")\n",
        "outliers_co, count_co, percent_co = detect_outliers_iqr(df, \"CO\")\n",
        "outliers_o3, count_o3, percent_o3 = detect_outliers_iqr(df, \"O3\")\n",
        "\n",
        "# Hitung presentase outliers untuk faktor polutan\n",
        "outliers_temp, count_temp, percent_temp = detect_outliers_iqr(df, \"TEMP\")\n",
        "outliers_pres, count_pres, percent_pres = detect_outliers_iqr(df, \"PRES\")\n",
        "outliers_dewp, count_dewp, percent_dewp = detect_outliers_iqr(df, \"DEWP\")\n",
        "outliers_rain, count_rain, percent_rain = detect_outliers_iqr(df, \"RAIN\")\n",
        "outliers_wspm, count_wspm, percent_wspm = detect_outliers_iqr(df, \"WSPM\")\n",
        "\n",
        "# Tampilkan presentase outliers hasil polutan\n",
        "print(f\"Outlier PM2.5: {count_pm25} data ({percent_pm25:.2f}%)\")\n",
        "print(f\"Outlier PM10: {count_pm10} data ({percent_pm10:.2f}%)\")\n",
        "print(f\"Outlier SO2: {count_so2} data ({percent_so2:.2f}%)\")\n",
        "print(f\"Outlier NO2: {count_no2} data ({percent_no2:.2f}%)\")\n",
        "print(f\"Outlier CO: {count_co} data ({percent_co:.2f}%)\")\n",
        "print(f\"Outlier O3: {count_o3} data ({percent_o3:.2f}%)\")\n",
        "\n",
        "\n",
        "# Tampilkan hasil faktor polutan\n",
        "print(f\"Outlier TEMP: {count_temp} data ({percent_temp:.2f}%)\")\n",
        "print(f\"Outlier PRES: {count_pres} data ({percent_pres:.2f}%)\")\n",
        "print(f\"Outlier DEWP: {count_dewp} data ({percent_dewp:.2f}%)\")\n",
        "print(f\"Outlier RAIN: {count_rain} data ({percent_rain:.2f}%)\")\n",
        "print(f\"Outlier WSPM: {count_wspm} data ({percent_wspm:.2f}%)\")"
      ],
      "metadata": {
        "colab": {
          "base_uri": "https://localhost:8080/"
        },
        "id": "ZssK1RJNh6kw",
        "outputId": "f34e42d0-1e1e-4ee4-b1e3-83b449d14f8c"
      },
      "execution_count": 46,
      "outputs": [
        {
          "output_type": "stream",
          "name": "stdout",
          "text": [
            "Outlier PM2.5: 5405 data (5.14%)\n",
            "Outlier PM10: 3971 data (3.78%)\n",
            "Outlier SO2: 9450 data (8.98%)\n",
            "Outlier NO2: 2392 data (2.27%)\n",
            "Outlier CO: 7968 data (7.57%)\n",
            "Outlier O3: 4730 data (4.50%)\n",
            "Outlier TEMP: 0 data (0.00%)\n",
            "Outlier PRES: 0 data (0.00%)\n",
            "Outlier DEWP: 0 data (0.00%)\n",
            "Outlier RAIN: 4202 data (3.99%)\n",
            "Outlier WSPM: 6342 data (6.03%)\n"
          ]
        }
      ]
    },
    {
      "cell_type": "markdown",
      "source": [
        "### Handling Outliers"
      ],
      "metadata": {
        "id": "B6vWLB3mi4kL"
      }
    },
    {
      "cell_type": "markdown",
      "source": [
        "#### Imputasi median"
      ],
      "metadata": {
        "id": "DVrFD_n5nByu"
      }
    },
    {
      "cell_type": "code",
      "source": [
        "# from scipy.stats import shapiro\n",
        "\n",
        "# def shapiro_test_columns(df, columns):\n",
        "#     results = {}\n",
        "#     for col in columns:\n",
        "#         data = df[col].dropna()\n",
        "#         if len(data) < 3:\n",
        "#             results[col] = {\"p_value\": None, \"status\": \"Data terlalu sedikit\"}\n",
        "#             continue\n",
        "#         stat, p = shapiro(data)\n",
        "#         status = \"Normal\" if p > 0.05 else \"Tidak Normal\"\n",
        "#         results[col] = {\"status\": status}\n",
        "#     return results\n"
      ],
      "metadata": {
        "id": "ohZjL7l-rD9y"
      },
      "execution_count": 47,
      "outputs": []
    },
    {
      "cell_type": "code",
      "source": [
        "# polutan = ['PM2.5', 'PM10', 'SO2', 'NO2', 'CO', 'O3']\n",
        "# hasil_uji = shapiro_test_columns(df, polutan)\n",
        "\n",
        "# for col, res in hasil_uji.items():\n",
        "#     print(f\"{col}: Distribusi = {res['status']}\")"
      ],
      "metadata": {
        "id": "nsw8edui0TM-"
      },
      "execution_count": 48,
      "outputs": []
    },
    {
      "cell_type": "code",
      "source": [
        "# rain_test_result = shapiro_test_columns(df, ['RAIN'])\n",
        "# wspm_test_result = shapiro_test_columns(df, ['WSPM'])\n",
        "\n",
        "# print(\"Distribusi RAIN:\", rain_test_result['RAIN']['status'])\n",
        "# print(\"Distribusi WSPM:\", wspm_test_result['WSPM']['status'])"
      ],
      "metadata": {
        "id": "mFwtAKZv_SQc"
      },
      "execution_count": 49,
      "outputs": []
    },
    {
      "cell_type": "code",
      "source": [
        "# # Handling outlier pada kolom polutan dengan Metode imputasi median\n",
        "# def impute_outliers_with_median(df, column):\n",
        "#     Q1 = df[column].quantile(0.25)\n",
        "#     Q3 = df[column].quantile(0.75)\n",
        "#     IQR = Q3 - Q1\n",
        "#     lower = Q1 - 1.5 * IQR\n",
        "#     upper = Q3 + 1.5 * IQR\n",
        "#     median_value = df[column].median()\n",
        "#     df.loc[(df[column] < lower) | (df[column] > upper), column] = median_value\n",
        "#     return df\n",
        "\n",
        "# df = impute_outliers_with_median(df, 'PM2.5')\n",
        "# df = impute_outliers_with_median(df,'PM10')\n",
        "# df = impute_outliers_with_median(df,'SO2')\n",
        "# df = impute_outliers_with_median(df, 'NO2')\n",
        "# df = impute_outliers_with_median(df, 'CO')\n",
        "# df = impute_outliers_with_median(df, 'O3')\n",
        "# df = impute_outliers_with_median(df, 'WSPM')"
      ],
      "metadata": {
        "id": "TyK8gig43M6s"
      },
      "execution_count": 50,
      "outputs": []
    },
    {
      "cell_type": "markdown",
      "source": [
        "#### Penghapusan Outliers"
      ],
      "metadata": {
        "id": "FZdbumlgnMka"
      }
    },
    {
      "cell_type": "code",
      "source": [
        "def remove_outlier_iqr(df, column):\n",
        "    Q1 = df[column].quantile(0.25)\n",
        "    Q3 = df[column].quantile(0.75)\n",
        "    IQR = Q3 - Q1\n",
        "    lower = Q1 - 1.5 * IQR\n",
        "    upper = Q3 + 1.5 * IQR\n",
        "    return df[(df[column] >= lower) & (df[column] <= upper)]\n",
        "\n",
        "df = remove_outlier_iqr(df, 'PM2.5')\n",
        "df = remove_outlier_iqr(df, 'PM10')\n",
        "df = remove_outlier_iqr(df, 'SO2')\n",
        "df = remove_outlier_iqr(df, 'NO2')\n",
        "df = remove_outlier_iqr(df, 'CO')\n",
        "df = remove_outlier_iqr(df, 'O3')\n",
        "df = remove_outlier_iqr(df, 'WSPM')"
      ],
      "metadata": {
        "id": "WQUl8JF3nPIL"
      },
      "execution_count": 51,
      "outputs": []
    },
    {
      "cell_type": "markdown",
      "source": [
        "## Visualization of outlier handling results\n"
      ],
      "metadata": {
        "id": "l7OdQNib_rRv"
      }
    },
    {
      "cell_type": "code",
      "source": [
        "# PM2.5\n",
        "sns.boxplot(x=df['PM2.5']) # Deteksi\n",
        "plt.title(\"Boxplot PM2.5\")\n",
        "plt.show()\n",
        "\n",
        "# PM10\n",
        "sns.boxplot(x=df['PM10']) # Deteksi\n",
        "plt.title(\"Boxplot PM10\")\n",
        "plt.show()\n",
        "\n",
        "# SO2\n",
        "sns.boxplot(x=df['SO2']) # Deteksi\n",
        "plt.title(\"Boxplot SO2\")\n",
        "plt.show()\n",
        "\n",
        "# NO2\n",
        "sns.boxplot(x=df['NO2']) # Deteksi\n",
        "plt.title(\"Boxplot NO2\")\n",
        "plt.show()\n",
        "\n",
        "# CO\n",
        "sns.boxplot(x=df['CO']) # Deteksi\n",
        "plt.title(\"Boxplot CO\")\n",
        "plt.show()\n",
        "\n",
        "# O3\n",
        "sns.boxplot(x=df['O3']) # Deteksi\n",
        "plt.title(\"Boxplot O3\")\n",
        "plt.show()\n",
        "\n",
        "# TEMP\n",
        "sns.boxplot(x=df['TEMP']) # Deteksi\n",
        "plt.title(\"Boxplot TEMP\")\n",
        "plt.show()\n",
        "\n",
        "# PRES\n",
        "sns.boxplot(x=df['PRES']) # Deteksi\n",
        "plt.title(\"Boxplot PRES\")\n",
        "plt.show()\n",
        "\n",
        "# DEWP\n",
        "sns.boxplot(x=df['DEWP']) # Deteksi\n",
        "plt.title(\"Boxplot DEWP\")\n",
        "plt.show()\n",
        "\n",
        "# RAIN\n",
        "sns.boxplot(x=df['RAIN']) # Deteksi\n",
        "plt.title(\"Boxplot RAIN\")\n",
        "plt.show()\n",
        "\n",
        "# WSPM\n",
        "sns.boxplot(x=df['WSPM']) # Deteksi\n",
        "plt.title(\"Boxplot WSPM\")"
      ],
      "metadata": {
        "colab": {
          "base_uri": "https://localhost:8080/",
          "height": 1000
        },
        "id": "di18R6QT_qWT",
        "outputId": "51582f9b-4949-467c-947e-742fecad2c83"
      },
      "execution_count": 52,
      "outputs": [
        {
          "output_type": "display_data",
          "data": {
            "text/plain": [
              "<Figure size 640x480 with 1 Axes>"
            ],
            "image/png": "[encoded data removed]"
          },
          "metadata": {}
        },
        {
          "output_type": "display_data",
          "data": {
            "text/plain": [
              "<Figure size 640x480 with 1 Axes>"
            ],
            "image/png": "[encoded data removed]"
          },
          "metadata": {}
        },
        {
          "output_type": "display_data",
          "data": {
            "text/plain": [
              "<Figure size 640x480 with 1 Axes>"
            ],
            "image/png": "[encoded data removed]"
          },
          "metadata": {}
        },
        {
          "output_type": "display_data",
          "data": {
            "text/plain": [
              "<Figure size 640x480 with 1 Axes>"
            ],
            "image/png": "[encoded data removed]"
          },
          "metadata": {}
        },
        {
          "output_type": "display_data",
          "data": {
            "text/plain": [
              "<Figure size 640x480 with 1 Axes>"
            ],
            "image/png": "[encoded data removed]"
          },
          "metadata": {}
        },
        {
          "output_type": "display_data",
          "data": {
            "text/plain": [
              "<Figure size 640x480 with 1 Axes>"
            ],
            "image/png": "[encoded data removed]"
          },
          "metadata": {}
        },
        {
          "output_type": "display_data",
          "data": {
            "text/plain": [
              "<Figure size 640x480 with 1 Axes>"
            ],
            "image/png": "[encoded data removed]"
          },
          "metadata": {}
        },
        {
          "output_type": "display_data",
          "data": {
            "text/plain": [
              "<Figure size 640x480 with 1 Axes>"
            ],
            "image/png": "[encoded data removed]"
          },
          "metadata": {}
        },
        {
          "output_type": "display_data",
          "data": {
            "text/plain": [
              "<Figure size 640x480 with 1 Axes>"
            ],
            "image/png": "[encoded data removed]"
          },
          "metadata": {}
        },
        {
          "output_type": "display_data",
          "data": {
            "text/plain": [
              "<Figure size 640x480 with 1 Axes>"
            ],
            "image/png": "[encoded data removed]"
          },
          "metadata": {}
        },
        {
          "output_type": "execute_result",
          "data": {
            "text/plain": [
              "Text(0.5, 1.0, 'Boxplot WSPM')"
            ]
          },
          "metadata": {},
          "execution_count": 52
        },
        {
          "output_type": "display_data",
          "data": {
            "text/plain": [
              "<Figure size 640x480 with 1 Axes>"
            ],
            "image/png": "[encoded data removed]"
          },
          "metadata": {}
        }
      ]
    },
    {
      "cell_type": "markdown",
      "source": [
        "Imbalance Data"
      ],
      "metadata": {
        "id": "q_rU5O6-jGod"
      }
    },
    {
      "cell_type": "code",
      "source": [
        "# Menunjukkan Keseimbangan Cluster 0 dan Cluster 1\n",
        "pd.Series(df['Cluster']).value_counts()"
      ],
      "metadata": {
        "colab": {
          "base_uri": "https://localhost:8080/",
          "height": 178
        },
        "id": "V40gozuXjF95",
        "outputId": "913e3f30-d81c-45e3-f0e0-0f679a8d099b"
      },
      "execution_count": 65,
      "outputs": [
        {
          "output_type": "execute_result",
          "data": {
            "text/plain": [
              "Cluster\n",
              "1    85028\n",
              "0    20164\n",
              "Name: count, dtype: int64"
            ],
            "text/html": [
              "<div>\n",
              "<style scoped>\n",
              "    .dataframe tbody tr th:only-of-type {\n",
              "        vertical-align: middle;\n",
              "    }\n",
              "\n",
              "    .dataframe tbody tr th {\n",
              "        vertical-align: top;\n",
              "    }\n",
              "\n",
              "    .dataframe thead th {\n",
              "        text-align: right;\n",
              "    }\n",
              "</style>\n",
              "<table border=\"1\" class=\"dataframe\">\n",
              "  <thead>\n",
              "    <tr style=\"text-align: right;\">\n",
              "      <th></th>\n",
              "      <th>count</th>\n",
              "    </tr>\n",
              "    <tr>\n",
              "      <th>Cluster</th>\n",
              "      <th></th>\n",
              "    </tr>\n",
              "  </thead>\n",
              "  <tbody>\n",
              "    <tr>\n",
              "      <th>1</th>\n",
              "      <td>85028</td>\n",
              "    </tr>\n",
              "    <tr>\n",
              "      <th>0</th>\n",
              "      <td>20164</td>\n",
              "    </tr>\n",
              "  </tbody>\n",
              "</table>\n",
              "</div><br><label><b>dtype:</b> int64</label>"
            ]
          },
          "metadata": {},
          "execution_count": 65
        }
      ]
    },
    {
      "cell_type": "markdown",
      "metadata": {
        "id": "KkPem5eWL2UP"
      },
      "source": [
        "# **4. Data Splitting**"
      ]
    },
    {
      "cell_type": "markdown",
      "metadata": {
        "id": "YYj1rl_JNI9Y"
      },
      "source": [
        "Tahap Data Splitting bertujuan untuk memisahkan dataset menjadi dua bagian: data latih (training set) dan data uji (test set)."
      ]
    },
    {
      "cell_type": "code",
      "execution_count": 53,
      "metadata": {
        "colab": {
          "base_uri": "https://localhost:8080/"
        },
        "id": "OubAW-7ONKVj",
        "outputId": "c59f6a78-df93-4920-e24c-2ca117199078"
      },
      "outputs": [
        {
          "output_type": "stream",
          "name": "stdout",
          "text": [
            "Jumlah data latih: 60095\n",
            "Jumlah data uji: 15024\n"
          ]
        }
      ],
      "source": [
        "# Pisahkan features (X) and target (y ='cluster')\n",
        "X = df.drop(['Cluster'], axis=1)\n",
        "y = df['Cluster']\n",
        "\n",
        "# Split data training and testing\n",
        "X_train, X_test, y_train, y_test = train_test_split(X, y, test_size=0.2, random_state=42)\n",
        "\n",
        "# Tampilkan hasil splitting\n",
        "print(f\"Jumlah data latih: {len(X_train)}\")\n",
        "print(f\"Jumlah data uji: {len(X_test)}\")"
      ]
    },
    {
      "cell_type": "markdown",
      "metadata": {
        "id": "IVPbB03CMhTT"
      },
      "source": [
        "# **5. Membangun Model Klasifikasi**\n"
      ]
    },
    {
      "cell_type": "markdown",
      "metadata": {
        "id": "Ned1pL9zMmBK"
      },
      "source": [
        "## **a. Membangun Model Klasifikasi**"
      ]
    },
    {
      "cell_type": "markdown",
      "metadata": {
        "id": "WAWzPOE4Nkti"
      },
      "source": [
        "Setelah memilih algoritma klasifikasi yang sesuai, langkah selanjutnya adalah melatih model menggunakan data latih.\n",
        "\n",
        "Berikut adalah rekomendasi tahapannya.\n",
        "1. Pilih algoritma klasifikasi yang sesuai, seperti Logistic Regression, Decision Tree, Random Forest, atau K-Nearest Neighbors (KNN).\n",
        "2. Latih model menggunakan data latih."
      ]
    },
    {
      "cell_type": "code",
      "execution_count": 54,
      "metadata": {
        "id": "4JYxBe87NLDk"
      },
      "outputs": [],
      "source": [
        "# Mencoba semua model demi efisiensi\n",
        "models = {\n",
        "    'Logistic Regression': LogisticRegression(),\n",
        "    'Decision Tree': DecisionTreeClassifier(),\n",
        "    'SVM': svm.SVC()\n",
        "}"
      ]
    },
    {
      "cell_type": "markdown",
      "metadata": {
        "id": "seYoHNY3XU1y"
      },
      "source": [
        "Tulis narasi atau penjelasan algoritma yang Anda gunakan."
      ]
    },
    {
      "cell_type": "markdown",
      "metadata": {
        "id": "ergzChZFEL-O"
      },
      "source": [
        "## **b. Evaluasi Model Klasifikasi**"
      ]
    },
    {
      "cell_type": "markdown",
      "metadata": {
        "id": "zOm68u-7NpLT"
      },
      "source": [
        "Berikut adalah **rekomendasi** tahapannya.\n",
        "1. Lakukan prediksi menggunakan data uji.\n",
        "2. Hitung metrik evaluasi seperti Accuracy dan F1-Score (Opsional: Precision dan Recall).\n",
        "3. Buat confusion matrix untuk melihat detail prediksi benar dan salah."
      ]
    },
    {
      "cell_type": "code",
      "execution_count": 55,
      "metadata": {
        "colab": {
          "base_uri": "https://localhost:8080/"
        },
        "id": "tMq4QAssNLip",
        "outputId": "99d25768-8389-4c92-9891-330e6c68856f"
      },
      "outputs": [
        {
          "output_type": "stream",
          "name": "stdout",
          "text": [
            "Model: Logistic Regression\n",
            "Accuracy: 0.9993343982960596\n",
            "Classification Report:\n",
            "               precision    recall  f1-score   support\n",
            "\n",
            "           0       1.00      0.98      0.99       519\n",
            "           1       1.00      1.00      1.00     14505\n",
            "\n",
            "    accuracy                           1.00     15024\n",
            "   macro avg       1.00      0.99      0.99     15024\n",
            "weighted avg       1.00      1.00      1.00     15024\n",
            "\n",
            "Confusion Matrix:\n",
            " [[  511     8]\n",
            " [    2 14503]]\n",
            "==================================================\n",
            "Model: Decision Tree\n",
            "Accuracy: 0.9868876464323749\n",
            "Classification Report:\n",
            "               precision    recall  f1-score   support\n",
            "\n",
            "           0       0.80      0.83      0.81       519\n",
            "           1       0.99      0.99      0.99     14505\n",
            "\n",
            "    accuracy                           0.99     15024\n",
            "   macro avg       0.90      0.91      0.90     15024\n",
            "weighted avg       0.99      0.99      0.99     15024\n",
            "\n",
            "Confusion Matrix:\n",
            " [[  430    89]\n",
            " [  108 14397]]\n",
            "==================================================\n",
            "Model: SVM\n",
            "Accuracy: 0.9990681576144835\n",
            "Classification Report:\n",
            "               precision    recall  f1-score   support\n",
            "\n",
            "           0       0.99      0.98      0.99       519\n",
            "           1       1.00      1.00      1.00     14505\n",
            "\n",
            "    accuracy                           1.00     15024\n",
            "   macro avg       0.99      0.99      0.99     15024\n",
            "weighted avg       1.00      1.00      1.00     15024\n",
            "\n",
            "Confusion Matrix:\n",
            " [[  510     9]\n",
            " [    5 14500]]\n",
            "==================================================\n"
          ]
        }
      ],
      "source": [
        "# Pelatihan and Evaluasi model\n",
        "for name, model in models.items():\n",
        "    model.fit(X_train, y_train)\n",
        "    y_pred = model.predict(X_test)\n",
        "    accuracy = accuracy_score(y_test, y_pred)\n",
        "    report = classification_report(y_test, y_pred)\n",
        "    conf_matrix = confusion_matrix(y_test, y_pred)\n",
        "\n",
        "    print(f\"Model: {name}\")\n",
        "    print(f\"Accuracy: {accuracy}\")\n",
        "    print(\"Classification Report:\\n\", report)\n",
        "    print(\"Confusion Matrix:\\n\", conf_matrix)\n",
        "    print(\"=\"*50)"
      ]
    },
    {
      "cell_type": "markdown",
      "metadata": {
        "id": "H4_9OwrsXZlz"
      },
      "source": [
        "Tulis hasil evaluasi algoritma yang digunakan, jika Anda menggunakan 2 algoritma, maka bandingkan hasilnya.\n",
        "\n",
        "1. Logistic Regression → Model dengan Akurasi Tertinggi (99.93%)\n",
        "\n",
        "2. Decision Tree → Akurasi Terendah (98.65%)\n",
        "\n",
        "3. Support Vector Machine → Akurasi Tertinggi ke-2 (99.9%)"
      ]
    },
    {
      "cell_type": "code",
      "source": [
        "for model_name, model in models.items():\n",
        "    model.fit(X_train,y_train)\n",
        "\n",
        "for model_name, model in models.items():\n",
        "    print(f\"Model: {model_name}\")\n",
        "    y_train_pred_c = model.predict(X_train)\n",
        "    train_acc = accuracy_score(y_train, y_train_pred_c)\n",
        "    # Prediksi testing\n",
        "    y_test_pred = model.predict(X_test)\n",
        "    test_acc = accuracy_score(y_test, y_test_pred)\n",
        "    print(f\"Akurasi Training: {train_acc:.4f}\")\n",
        "    print(f\"Akurasi Testing: {test_acc:.4f}\\n\")"
      ],
      "metadata": {
        "colab": {
          "base_uri": "https://localhost:8080/"
        },
        "id": "TP_33oDLwHLr",
        "outputId": "5cc7157f-8ded-4f1b-d372-5f5046c45047"
      },
      "execution_count": 56,
      "outputs": [
        {
          "output_type": "stream",
          "name": "stdout",
          "text": [
            "Model: Logistic Regression\n",
            "Akurasi Training: 0.9996\n",
            "Akurasi Testing: 0.9993\n",
            "\n",
            "Model: Decision Tree\n",
            "Akurasi Training: 1.0000\n",
            "Akurasi Testing: 0.9871\n",
            "\n",
            "Model: SVM\n",
            "Akurasi Training: 0.9993\n",
            "Akurasi Testing: 0.9991\n",
            "\n"
          ]
        }
      ]
    },
    {
      "cell_type": "markdown",
      "metadata": {
        "id": "ph9yIYDXEPuB"
      },
      "source": [
        "## **c. Tuning Model Klasifikasi (Optional)**"
      ]
    },
    {
      "cell_type": "markdown",
      "metadata": {
        "id": "-Bikx3LINv5e"
      },
      "source": [
        "Gunakan GridSearchCV, RandomizedSearchCV, atau metode lainnya untuk mencari kombinasi hyperparameter terbaik"
      ]
    },
    {
      "cell_type": "code",
      "execution_count": 57,
      "metadata": {
        "colab": {
          "base_uri": "https://localhost:8080/"
        },
        "id": "winbFzb8NL95",
        "outputId": "47a89004-6155-4469-f47b-a47e155cdcad"
      },
      "outputs": [
        {
          "output_type": "stream",
          "name": "stderr",
          "text": [
            "/usr/local/lib/python3.11/dist-packages/sklearn/linear_model/_sag.py:348: ConvergenceWarning: The max_iter was reached which means the coef_ did not converge\n",
            "  warnings.warn(\n",
            "/usr/local/lib/python3.11/dist-packages/sklearn/linear_model/_sag.py:348: ConvergenceWarning: The max_iter was reached which means the coef_ did not converge\n",
            "  warnings.warn(\n",
            "/usr/local/lib/python3.11/dist-packages/sklearn/linear_model/_sag.py:348: ConvergenceWarning: The max_iter was reached which means the coef_ did not converge\n",
            "  warnings.warn(\n",
            "/usr/local/lib/python3.11/dist-packages/sklearn/linear_model/_sag.py:348: ConvergenceWarning: The max_iter was reached which means the coef_ did not converge\n",
            "  warnings.warn(\n",
            "/usr/local/lib/python3.11/dist-packages/sklearn/linear_model/_sag.py:348: ConvergenceWarning: The max_iter was reached which means the coef_ did not converge\n",
            "  warnings.warn(\n",
            "/usr/local/lib/python3.11/dist-packages/sklearn/linear_model/_sag.py:348: ConvergenceWarning: The max_iter was reached which means the coef_ did not converge\n",
            "  warnings.warn(\n",
            "/usr/local/lib/python3.11/dist-packages/sklearn/linear_model/_sag.py:348: ConvergenceWarning: The max_iter was reached which means the coef_ did not converge\n",
            "  warnings.warn(\n",
            "/usr/local/lib/python3.11/dist-packages/sklearn/linear_model/_sag.py:348: ConvergenceWarning: The max_iter was reached which means the coef_ did not converge\n",
            "  warnings.warn(\n",
            "/usr/local/lib/python3.11/dist-packages/sklearn/linear_model/_sag.py:348: ConvergenceWarning: The max_iter was reached which means the coef_ did not converge\n",
            "  warnings.warn(\n",
            "/usr/local/lib/python3.11/dist-packages/sklearn/linear_model/_sag.py:348: ConvergenceWarning: The max_iter was reached which means the coef_ did not converge\n",
            "  warnings.warn(\n",
            "/usr/local/lib/python3.11/dist-packages/sklearn/model_selection/_validation.py:528: FitFailedWarning: \n",
            "30 fits failed out of a total of 60.\n",
            "The score on these train-test partitions for these parameters will be set to nan.\n",
            "If these failures are not expected, you can try to debug them by setting error_score='raise'.\n",
            "\n",
            "Below are more details about the failures:\n",
            "--------------------------------------------------------------------------------\n",
            "30 fits failed with the following error:\n",
            "Traceback (most recent call last):\n",
            "  File \"/usr/local/lib/python3.11/dist-packages/sklearn/model_selection/_validation.py\", line 866, in _fit_and_score\n",
            "    estimator.fit(X_train, y_train, **fit_params)\n",
            "  File \"/usr/local/lib/python3.11/dist-packages/sklearn/base.py\", line 1382, in wrapper\n",
            "    estimator._validate_params()\n",
            "  File \"/usr/local/lib/python3.11/dist-packages/sklearn/base.py\", line 436, in _validate_params\n",
            "    validate_parameter_constraints(\n",
            "  File \"/usr/local/lib/python3.11/dist-packages/sklearn/utils/_param_validation.py\", line 98, in validate_parameter_constraints\n",
            "    raise InvalidParameterError(\n",
            "sklearn.utils._param_validation.InvalidParameterError: The 'penalty' parameter of LogisticRegression must be a str among {'elasticnet', 'l1', 'l2'} or None. Got 'none' instead.\n",
            "\n",
            "  warnings.warn(some_fits_failed_message, FitFailedWarning)\n",
            "/usr/local/lib/python3.11/dist-packages/sklearn/model_selection/_search.py:1108: UserWarning: One or more of the test scores are non-finite: [0.99645561 0.99826941        nan        nan 0.99923455 0.99926783\n",
            "        nan        nan 0.99961727 0.99928447        nan        nan]\n",
            "  warnings.warn(\n"
          ]
        },
        {
          "output_type": "stream",
          "name": "stdout",
          "text": [
            "Best Hyperparameters: {'C': 10, 'penalty': 'l2', 'solver': 'liblinear'}\n",
            "Best Cross-Validation Accuracy: 0.9996172726516349\n"
          ]
        }
      ],
      "source": [
        "#GridSearchCV for Logistic Regression\n",
        "param_grid = {\n",
        "    'penalty': ['l2', 'none'],\n",
        "    'C': [0.1, 1, 10],\n",
        "    'solver': ['liblinear', 'saga']\n",
        "}\n",
        "\n",
        "# initial model and GridSearchCV\n",
        "log_reg = LogisticRegression(max_iter=1000)\n",
        "grid_search_log_reg = GridSearchCV(log_reg, param_grid, cv=5, scoring='accuracy')\n",
        "\n",
        "# Fit model to data\n",
        "grid_search_log_reg.fit(X_train, y_train)\n",
        "\n",
        "print(f\"Best Hyperparameters: {grid_search_log_reg.best_params_}\")\n",
        "print(f\"Best Cross-Validation Accuracy: {grid_search_log_reg.best_score_}\")"
      ]
    },
    {
      "cell_type": "code",
      "execution_count": 58,
      "metadata": {
        "colab": {
          "base_uri": "https://localhost:8080/"
        },
        "id": "wBaW6bHfW5PC",
        "outputId": "b4799806-d2b1-42b8-e571-98d4427c9aa4"
      },
      "outputs": [
        {
          "output_type": "stream",
          "name": "stdout",
          "text": [
            "Best Hyperparameters: {'criterion': 'entropy', 'max_depth': None, 'min_samples_leaf': 1, 'min_samples_split': 2}\n",
            "Best Cross-Validation Accuracy: 0.9886180214660122\n"
          ]
        }
      ],
      "source": [
        "# GridSearchCV untuk Decision Tree\n",
        "param_grid = {\n",
        "    'criterion': ['gini', 'entropy'],\n",
        "    'max_depth': [None, 10, 20, 30],\n",
        "    'min_samples_split': [2, 5, 10],\n",
        "    'min_samples_leaf': [1, 2, 4]\n",
        "}\n",
        "\n",
        "dt = DecisionTreeClassifier()\n",
        "grid_search_dt = GridSearchCV(dt, param_grid, cv=5, scoring='accuracy')\n",
        "grid_search_dt.fit(X_train, y_train)\n",
        "\n",
        "print(f\"Best Hyperparameters: {grid_search_dt.best_params_}\")\n",
        "print(f\"Best Cross-Validation Accuracy: {grid_search_dt.best_score_}\")"
      ]
    },
    {
      "cell_type": "code",
      "source": [
        "# GridSearchCV untuk SVC\n",
        "param_grid = {\n",
        "    'C': [0.1, 1, 10, 100],\n",
        "    'kernel': ['linear', 'rbf', 'poly'],\n",
        "    'gamma': ['scale', 'auto'],\n",
        "    'degree': [3, 4, 5]\n",
        "}\n",
        "\n",
        "svc = SVC()\n",
        "grid_search_svc = GridSearchCV(svc, param_grid, cv=5, scoring='accuracy')\n",
        "grid_search_svc.fit(X_train, y_train)\n",
        "\n",
        "print(f\"Best Hyperparameters: {grid_search_svc.best_params_}\")\n",
        "print(f\"Best Cross-Validation Accuracy: {grid_search_svc.best_score_}\")"
      ],
      "metadata": {
        "colab": {
          "base_uri": "https://localhost:8080/"
        },
        "id": "TDnN01KENB5U",
        "outputId": "e99fc041-33dc-406c-a785-682b14ac1332"
      },
      "execution_count": 59,
      "outputs": [
        {
          "output_type": "stream",
          "name": "stdout",
          "text": [
            "Best Hyperparameters: {'C': 100, 'degree': 3, 'gamma': 'scale', 'kernel': 'linear'}\n",
            "Best Cross-Validation Accuracy: 0.9998003161660705\n"
          ]
        }
      ]
    },
    {
      "cell_type": "code",
      "execution_count": 60,
      "metadata": {
        "colab": {
          "base_uri": "https://localhost:8080/"
        },
        "id": "u_kZDy89XPnl",
        "outputId": "5d653d91-7b6a-4cb5-a083-2885315170b1"
      },
      "outputs": [
        {
          "metadata": {
            "tags": null
          },
          "name": "stdout",
          "output_type": "stream",
          "text": [
            "Best Hyperparameters and Best Cross-Validation Accuracy for model logistic regression\n",
            "Best Hyperparameters: {'C': 10, 'penalty': 'l2', 'solver': 'liblinear'}\n",
            "Best Cross-Validation Accuracy: 0.9996172726516349\n",
            "==================================================\n",
            "Best Hyperparameters and Best Cross-Validation Accuracy for model decision tree\n",
            "Best Hyperparameters: {'criterion': 'entropy', 'max_depth': None, 'min_samples_leaf': 1, 'min_samples_split': 2}\n",
            "Best Cross-Validation Accuracy: 0.9886180214660122\n",
            "==================================================\n",
            "Best Hyperparameters and Best Cross-Validation Accuracy for model decision tree\n",
            "Best Hyperparameters: {'C': 100, 'degree': 3, 'gamma': 'scale', 'kernel': 'linear'}\n",
            "Best Cross-Validation Accuracy: 0.9998003161660705\n",
            "==================================================\n"
          ]
        }
      ],
      "source": [
        "# Menampilkan Parameter terbaik untuk setiap model dan juga hasil cross-validation terbaik\n",
        "# print all best hyperparamaters and best cross - validation\n",
        "print(\"Best Hyperparameters and Best Cross-Validation Accuracy for model logistic regression\")\n",
        "print(f\"Best Hyperparameters: {grid_search_log_reg.best_params_}\")\n",
        "print(f\"Best Cross-Validation Accuracy: {grid_search_log_reg.best_score_}\")\n",
        "print(\"=\"*50)\n",
        "print(\"Best Hyperparameters and Best Cross-Validation Accuracy for model decision tree\")\n",
        "print(f\"Best Hyperparameters: {grid_search_dt.best_params_}\")\n",
        "print(f\"Best Cross-Validation Accuracy: {grid_search_dt.best_score_}\")\n",
        "print(\"=\"*50)\n",
        "print(\"Best Hyperparameters and Best Cross-Validation Accuracy for model decision tree\")\n",
        "print(f\"Best Hyperparameters: {grid_search_svc.best_params_}\")\n",
        "print(f\"Best Cross-Validation Accuracy: {grid_search_svc.best_score_}\")\n",
        "print(\"=\"*50)"
      ]
    },
    {
      "cell_type": "markdown",
      "metadata": {
        "id": "hE7pqlEPEYzI"
      },
      "source": [
        "## **d. Evaluasi Model Klasifikasi setelah Tuning (Optional)**"
      ]
    },
    {
      "cell_type": "markdown",
      "metadata": {
        "id": "feaPESoeN0zz"
      },
      "source": [
        "Berikut adalah rekomendasi tahapannya.\n",
        "1. Gunakan model dengan hyperparameter terbaik.\n",
        "2. Hitung ulang metrik evaluasi untuk melihat apakah ada peningkatan performa."
      ]
    },
    {
      "cell_type": "code",
      "execution_count": 62,
      "metadata": {
        "colab": {
          "base_uri": "https://localhost:8080/"
        },
        "id": "HTXZRvEeNMb1",
        "outputId": "978750b1-ef7e-4e2c-9bf9-4ede9e14df7e"
      },
      "outputs": [
        {
          "output_type": "stream",
          "name": "stdout",
          "text": [
            "Model: Logistic Regression\n",
            "Accuracy: 0.9970713525026624\n",
            "Classification Report:\n",
            "               precision    recall  f1-score   support\n",
            "\n",
            "           0       1.00      0.92      0.96       519\n",
            "           1       1.00      1.00      1.00     14505\n",
            "\n",
            "    accuracy                           1.00     15024\n",
            "   macro avg       1.00      0.96      0.98     15024\n",
            "weighted avg       1.00      1.00      1.00     15024\n",
            "\n",
            "Confusion Matrix:\n",
            " [[  475    44]\n",
            " [    0 14505]]\n",
            "==================================================\n",
            "Model: Decision Tree\n",
            "Accuracy: 0.9860223642172524\n",
            "Classification Report:\n",
            "               precision    recall  f1-score   support\n",
            "\n",
            "           0       0.77      0.86      0.81       519\n",
            "           1       0.99      0.99      0.99     14505\n",
            "\n",
            "    accuracy                           0.99     15024\n",
            "   macro avg       0.88      0.92      0.90     15024\n",
            "weighted avg       0.99      0.99      0.99     15024\n",
            "\n",
            "Confusion Matrix:\n",
            " [[  445    74]\n",
            " [  136 14369]]\n",
            "==================================================\n",
            "Model: SVC\n",
            "Accuracy: 1.0\n",
            "Classification Report:\n",
            "               precision    recall  f1-score   support\n",
            "\n",
            "           0       1.00      1.00      1.00       519\n",
            "           1       1.00      1.00      1.00     14505\n",
            "\n",
            "    accuracy                           1.00     15024\n",
            "   macro avg       1.00      1.00      1.00     15024\n",
            "weighted avg       1.00      1.00      1.00     15024\n",
            "\n",
            "Confusion Matrix:\n",
            " [[  519     0]\n",
            " [    0 14505]]\n",
            "==================================================\n"
          ]
        }
      ],
      "source": [
        "from sklearn.metrics import classification_report, confusion_matrix, accuracy_score\n",
        "\n",
        "# Hyperparameter terbaik untuk Logistic Regression\n",
        "log_reg_best = LogisticRegression(C=0.1, penalty='l2', solver='liblinear')  # isi setiap parameter berdasarkan hasil dari gridsearch yang telah diterapkan pada setiap model\n",
        "log_reg_best.fit(X_train, y_train)\n",
        "log_reg_predictions = log_reg_best.predict(X_test)\n",
        "\n",
        "# Hyperparameter terbaik untuk Decision Tree\n",
        "decision_tree_best = DecisionTreeClassifier(criterion='gini', max_depth=30, min_samples_leaf=2, min_samples_split=5)\n",
        "decision_tree_best.fit(X_train, y_train)\n",
        "decision_tree_predictions = decision_tree_best.predict(X_test)\n",
        "\n",
        "# Hyperparameter terbaik untuk SVC\n",
        "svc_best = SVC(C=100, degree=3, gamma='scale', kernel='linear')\n",
        "svc_best.fit(X_train, y_train)\n",
        "svc_predictions = svc_best.predict(X_test)\n",
        "\n",
        "# Evaluasi performa setiap model dengan hyperparameter terbaiknya masing masing\n",
        "models = {\n",
        "    \"Logistic Regression\": log_reg_best,\n",
        "    \"Decision Tree\": decision_tree_best,\n",
        "    \"SVC\": svc_best\n",
        "}\n",
        "\n",
        "for model_name, model in models.items():\n",
        "    print(f\"Model: {model_name}\")\n",
        "    predictions = model.predict(X_test)\n",
        "    print(\"Accuracy:\", accuracy_score(y_test, predictions))\n",
        "    print(\"Classification Report:\\n\", classification_report(y_test, predictions))\n",
        "    print(\"Confusion Matrix:\\n\", confusion_matrix(y_test, predictions))\n",
        "    print(\"=\"*50)\n"
      ]
    },
    {
      "cell_type": "markdown",
      "metadata": {
        "id": "ZRsOdm4uEgAW"
      },
      "source": [
        "## **e. Analisis Hasil Evaluasi Model Klasifikasi**"
      ]
    },
    {
      "cell_type": "markdown",
      "metadata": {
        "id": "Hm3BhSi6N4_l"
      },
      "source": [
        "### **1. Logistic Regression**\n",
        "\n",
        "* **Sebelum Hyperparameter Tuning:**\n",
        "\n",
        "  * **Accuracy:** 0.9993\n",
        "  * **Precision & Recall:**\n",
        "\n",
        "    * Kelas 0: precision 1.00, recall 0.98\n",
        "    * Kelas 1: precision 1.00, recall 1.00\n",
        "  * **Confusion Matrix:**\n",
        "\n",
        "    * Kelas 0: 8 instance salah klasifikasi\n",
        "    * Kelas 1: 2 instance salah klasifikasi\n",
        "\n",
        "  **Analisis:**\n",
        "  Model sangat akurat, terutama pada kelas mayoritas (kelas 1). Performa pada kelas minoritas (kelas 0) juga sangat tinggi, dengan kesalahan sangat kecil.\n",
        "\n",
        "* **Setelah Hyperparameter Tuning:**\n",
        "\n",
        "  * **Accuracy:** 0.9971\n",
        "  * **Precision & Recall:**\n",
        "\n",
        "    * Kelas 0: precision 1.00, recall 0.92\n",
        "    * Kelas 1: precision 1.00, recall 1.00\n",
        "  * **Confusion Matrix:**\n",
        "\n",
        "    * Kelas 0: 44 instance salah klasifikasi (meningkat)\n",
        "    * Kelas 1: 0 salah klasifikasi\n",
        "\n",
        "  **Analisis:**\n",
        "  Setelah tuning, model sedikit kehilangan sensitivitas terhadap kelas minoritas. **Recall kelas 0 menurun**, menunjukkan model lebih sering salah mengklasifikasikan kelas 0 sebagai kelas 1. Meski akurasi keseluruhan tetap tinggi, performa terhadap kelas minoritas memburuk.\n",
        "\n",
        "---\n",
        "\n",
        "### **2. Decision Tree**\n",
        "\n",
        "* **Sebelum Hyperparameter Tuning:**\n",
        "\n",
        "  * **Accuracy:** 0.9866\n",
        "  * **Precision & Recall:**\n",
        "\n",
        "    * Kelas 0: precision 0.79, recall 0.83\n",
        "    * Kelas 1: precision 0.99, recall 0.99\n",
        "  * **Confusion Matrix:**\n",
        "\n",
        "    * Kelas 0: 89 kesalahan\n",
        "    * Kelas 1: 113 kesalahan\n",
        "\n",
        "  **Analisis:**\n",
        "  Model menunjukkan performa baik pada kelas mayoritas, namun masih cukup banyak kesalahan pada kelas minoritas. Keseimbangan antara precision dan recall pada kelas 0 cukup baik, tapi belum ideal.\n",
        "\n",
        "* **Setelah Hyperparameter Tuning:**\n",
        "\n",
        "  * **Accuracy:** 0.9860\n",
        "  * **Precision & Recall:**\n",
        "\n",
        "    * Kelas 0: precision 0.77, recall 0.86\n",
        "    * Kelas 1: precision 0.99, recall 0.99\n",
        "  * **Confusion Matrix:**\n",
        "\n",
        "    * Kelas 0: 74 kesalahan\n",
        "    * Kelas 1: 136 kesalahan\n",
        "\n",
        "  **Analisis:**\n",
        "  Ada sedikit peningkatan pada **recall kelas 0**, namun **precision-nya sedikit menurun**. Model menjadi sedikit lebih \"berani\" dalam mengklasifikasikan kelas 0, namun itu dibayar dengan ketepatan yang sedikit menurun. Overall, perbedaan tidak terlalu signifikan.\n",
        "\n",
        "---\n",
        "\n",
        "### **3. SVC**\n",
        "\n",
        "* **Sebelum Hyperparameter Tuning:**\n",
        "\n",
        "  * **Accuracy:** 0.9991\n",
        "  * **Precision & Recall:**\n",
        "\n",
        "    * Kelas 0: precision 0.99, recall 0.98\n",
        "    * Kelas 1: precision 1.00, recall 1.00\n",
        "  * **Confusion Matrix:**\n",
        "\n",
        "    * Kelas 0: 9 kesalahan\n",
        "    * Kelas 1: 5 kesalahan\n",
        "\n",
        "  **Analisis:**\n",
        "  Model sudah sangat kuat sebelum tuning, baik di kelas mayoritas maupun minoritas. Sangat sedikit kesalahan klasifikasi.\n",
        "\n",
        "* **Setelah Hyperparameter Tuning:**\n",
        "\n",
        "  * **Accuracy:** 1.0000\n",
        "  * **Precision & Recall:**\n",
        "\n",
        "    * Kelas 0 & 1: precision dan recall = 1.00\n",
        "  * **Confusion Matrix:**\n",
        "\n",
        "    * **0 kesalahan total**\n",
        "\n",
        "  **Analisis:**\n",
        "  Hasil **sempurna**. Setelah tuning, model mampu mengklasifikasikan semua instance dengan benar. Ini bisa menunjukkan bahwa model sangat baik, **tapi juga perlu diwaspadai kemungkinan overfitting**, terutama jika model terlalu cocok dengan data latih dan uji.\n",
        "\n",
        "---\n",
        "\n",
        "###  **Kesimpulan Umum:**\n",
        "\n",
        "* **Logistic Regression:** Penurunan performa kelas 0 setelah tuning, meski secara keseluruhan masih sangat baik.\n",
        "* **Decision Tree:** Konsisten, namun tuning tidak terlalu meningkatkan akurasi secara signifikan.\n",
        "* **SVC:** Performa luar biasa setelah tuning, namun perlu dievaluasi lebih lanjut pada data baru untuk memastikan generalisasi.\n",
        "\n",
        "Jika kamu ingin, kita juga bisa bahas **kenapa tuning bisa menurunkan performa** atau **strategi pengelolaan kelas imbalance secara adil tanpa mengorbankan generalisasi model**.\n"
      ]
    },
    {
      "cell_type": "markdown",
      "source": [
        "# Kesimpulan:\n",
        "**Logistic Regression adalah model terbaik karena memiliki akurasi tertinggi (99.98%), kesalahan prediksi paling sedikit, lebih stabil setelah tuning, dan lebih baik dalam memprediksi kelas 1 dibanding Support Vector Classifier (SVC). Namun model SVC juga dapat menjadi opsi lain sebagai pengganti model Logistic Regression**\n",
        "\n",
        "Namun terdapat imbalance data dikarenakan jumlah antara data yang termasuk cluster 0 dan cluster 1 sangat tidak seimbang.\n"
      ],
      "metadata": {
        "id": "l-syP8kRieYh"
      }
    }
  ],
  "metadata": {
    "colab": {
      "provenance": [],
      "collapsed_sections": [
        "FZdbumlgnMka"
      ]
    },
    "kernelspec": {
      "display_name": "Python 3",
      "name": "python3"
    },
    "language_info": {
      "name": "python"
    }
  },
  "nbformat": 4,
  "nbformat_minor": 0
}