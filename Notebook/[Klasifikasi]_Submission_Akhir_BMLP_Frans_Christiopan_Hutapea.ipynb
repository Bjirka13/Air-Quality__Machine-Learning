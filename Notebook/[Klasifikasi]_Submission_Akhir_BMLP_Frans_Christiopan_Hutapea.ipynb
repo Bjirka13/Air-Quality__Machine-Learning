{
  "cells": [
    {
      "cell_type": "markdown",
      "metadata": {
        "id": "fKADPWcFKlj3"
      },
      "source": [
        "# **1. Import Library**"
      ]
    },
    {
      "cell_type": "markdown",
      "metadata": {
        "id": "LgA3ERnVn84N"
      },
      "source": [
        "Pada tahap ini, Anda perlu mengimpor beberapa pustaka (library) Python yang dibutuhkan untuk analisis data dan pembangunan model machine learning."
      ]
    },
    {
      "cell_type": "code",
      "execution_count": 1,
      "metadata": {
        "id": "BlmvjLY9M4Yj"
      },
      "outputs": [],
      "source": [
        "import pandas as pd\n",
        "import numpy as np\n",
        "import matplotlib.pyplot as plt\n",
        "import seaborn as sns\n",
        "from sklearn.preprocessing import StandardScaler\n",
        "from sklearn.model_selection import train_test_split\n",
        "from sklearn.linear_model import LogisticRegression\n",
        "from sklearn.tree import DecisionTreeClassifier\n",
        "from sklearn.ensemble import RandomForestClassifier\n",
        "from sklearn.neighbors import KNeighborsClassifier\n",
        "from sklearn.svm import SVC\n",
        "from sklearn.metrics import accuracy_score, classification_report, confusion_matrix\n",
        "from sklearn.model_selection import GridSearchCV, RandomizedSearchCV"
      ]
    },
    {
      "cell_type": "code",
      "execution_count": 2,
      "metadata": {
        "colab": {
          "base_uri": "https://localhost:8080/"
        },
        "id": "yq-Z4RcTSly9",
        "outputId": "46a0f948-7645-4244-c2ac-5298dcab4afd"
      },
      "outputs": [
        {
          "output_type": "stream",
          "name": "stdout",
          "text": [
            "Mounted at /content/drive\n"
          ]
        }
      ],
      "source": [
        "from google.colab import drive\n",
        "drive.mount('/content/drive')"
      ]
    },
    {
      "cell_type": "markdown",
      "metadata": {
        "id": "f3YIEnAFKrKL"
      },
      "source": [
        "# **2. Memuat Dataset dari Hasil Clustering**"
      ]
    },
    {
      "cell_type": "markdown",
      "metadata": {
        "id": "Ey3ItwTen_7E"
      },
      "source": [
        "Memuat dataset hasil clustering dari file CSV ke dalam variabel DataFrame."
      ]
    },
    {
      "cell_type": "code",
      "execution_count": 3,
      "metadata": {
        "colab": {
          "base_uri": "https://localhost:8080/",
          "height": 206
        },
        "id": "GHCGNTyrM5fS",
        "outputId": "36453b6a-7113-4a49-9289-783ec1af8ae7"
      },
      "outputs": [
        {
          "output_type": "execute_result",
          "data": {
            "text/plain": [
              "      PM2.5      PM10       SO2       NO2        CO        O3  Cluster\n",
              "0 -0.554217 -0.693069 -0.195111 -0.636364 -0.555556  0.369231        0\n",
              "1 -0.506024 -0.653465 -0.195111 -0.636364 -0.555556  0.369231        0\n",
              "2 -0.518072 -0.663366 -0.130074 -0.568182 -0.555556  0.307692        0\n",
              "3 -0.530120 -0.673267  0.260147 -0.545455 -0.555556  0.292308        0\n",
              "4 -0.566265 -0.702970  0.325184 -0.522727 -0.555556  0.292308        0"
            ],
            "text/html": [
              "\n",
              "  <div id=\"df-1a14ef17-875a-4c46-8cde-a78ff6671669\" class=\"colab-df-container\">\n",
              "    <div>\n",
              "<style scoped>\n",
              "    .dataframe tbody tr th:only-of-type {\n",
              "        vertical-align: middle;\n",
              "    }\n",
              "\n",
              "    .dataframe tbody tr th {\n",
              "        vertical-align: top;\n",
              "    }\n",
              "\n",
              "    .dataframe thead th {\n",
              "        text-align: right;\n",
              "    }\n",
              "</style>\n",
              "<table border=\"1\" class=\"dataframe\">\n",
              "  <thead>\n",
              "    <tr style=\"text-align: right;\">\n",
              "      <th></th>\n",
              "      <th>PM2.5</th>\n",
              "      <th>PM10</th>\n",
              "      <th>SO2</th>\n",
              "      <th>NO2</th>\n",
              "      <th>CO</th>\n",
              "      <th>O3</th>\n",
              "      <th>Cluster</th>\n",
              "    </tr>\n",
              "  </thead>\n",
              "  <tbody>\n",
              "    <tr>\n",
              "      <th>0</th>\n",
              "      <td>-0.554217</td>\n",
              "      <td>-0.693069</td>\n",
              "      <td>-0.195111</td>\n",
              "      <td>-0.636364</td>\n",
              "      <td>-0.555556</td>\n",
              "      <td>0.369231</td>\n",
              "      <td>0</td>\n",
              "    </tr>\n",
              "    <tr>\n",
              "      <th>1</th>\n",
              "      <td>-0.506024</td>\n",
              "      <td>-0.653465</td>\n",
              "      <td>-0.195111</td>\n",
              "      <td>-0.636364</td>\n",
              "      <td>-0.555556</td>\n",
              "      <td>0.369231</td>\n",
              "      <td>0</td>\n",
              "    </tr>\n",
              "    <tr>\n",
              "      <th>2</th>\n",
              "      <td>-0.518072</td>\n",
              "      <td>-0.663366</td>\n",
              "      <td>-0.130074</td>\n",
              "      <td>-0.568182</td>\n",
              "      <td>-0.555556</td>\n",
              "      <td>0.307692</td>\n",
              "      <td>0</td>\n",
              "    </tr>\n",
              "    <tr>\n",
              "      <th>3</th>\n",
              "      <td>-0.530120</td>\n",
              "      <td>-0.673267</td>\n",
              "      <td>0.260147</td>\n",
              "      <td>-0.545455</td>\n",
              "      <td>-0.555556</td>\n",
              "      <td>0.292308</td>\n",
              "      <td>0</td>\n",
              "    </tr>\n",
              "    <tr>\n",
              "      <th>4</th>\n",
              "      <td>-0.566265</td>\n",
              "      <td>-0.702970</td>\n",
              "      <td>0.325184</td>\n",
              "      <td>-0.522727</td>\n",
              "      <td>-0.555556</td>\n",
              "      <td>0.292308</td>\n",
              "      <td>0</td>\n",
              "    </tr>\n",
              "  </tbody>\n",
              "</table>\n",
              "</div>\n",
              "    <div class=\"colab-df-buttons\">\n",
              "\n",
              "  <div class=\"colab-df-container\">\n",
              "    <button class=\"colab-df-convert\" onclick=\"convertToInteractive('df-1a14ef17-875a-4c46-8cde-a78ff6671669')\"\n",
              "            title=\"Convert this dataframe to an interactive table.\"\n",
              "            style=\"display:none;\">\n",
              "\n",
              "  <svg xmlns=\"http://www.w3.org/2000/svg\" height=\"24px\" viewBox=\"0 -960 960 960\">\n",
              "    <path d=\"M120-120v-720h720v720H120Zm60-500h600v-160H180v160Zm220 220h160v-160H400v160Zm0 220h160v-160H400v160ZM180-400h160v-160H180v160Zm440 0h160v-160H620v160ZM180-180h160v-160H180v160Zm440 0h160v-160H620v160Z\"/>\n",
              "  </svg>\n",
              "    </button>\n",
              "\n",
              "  <style>\n",
              "    .colab-df-container {\n",
              "      display:flex;\n",
              "      gap: 12px;\n",
              "    }\n",
              "\n",
              "    .colab-df-convert {\n",
              "      background-color: #E8F0FE;\n",
              "      border: none;\n",
              "      border-radius: 50%;\n",
              "      cursor: pointer;\n",
              "      display: none;\n",
              "      fill: #1967D2;\n",
              "      height: 32px;\n",
              "      padding: 0 0 0 0;\n",
              "      width: 32px;\n",
              "    }\n",
              "\n",
              "    .colab-df-convert:hover {\n",
              "      background-color: #E2EBFA;\n",
              "      box-shadow: 0px 1px 2px rgba(60, 64, 67, 0.3), 0px 1px 3px 1px rgba(60, 64, 67, 0.15);\n",
              "      fill: #174EA6;\n",
              "    }\n",
              "\n",
              "    .colab-df-buttons div {\n",
              "      margin-bottom: 4px;\n",
              "    }\n",
              "\n",
              "    [theme=dark] .colab-df-convert {\n",
              "      background-color: #3B4455;\n",
              "      fill: #D2E3FC;\n",
              "    }\n",
              "\n",
              "    [theme=dark] .colab-df-convert:hover {\n",
              "      background-color: #434B5C;\n",
              "      box-shadow: 0px 1px 3px 1px rgba(0, 0, 0, 0.15);\n",
              "      filter: drop-shadow(0px 1px 2px rgba(0, 0, 0, 0.3));\n",
              "      fill: #FFFFFF;\n",
              "    }\n",
              "  </style>\n",
              "\n",
              "    <script>\n",
              "      const buttonEl =\n",
              "        document.querySelector('#df-1a14ef17-875a-4c46-8cde-a78ff6671669 button.colab-df-convert');\n",
              "      buttonEl.style.display =\n",
              "        google.colab.kernel.accessAllowed ? 'block' : 'none';\n",
              "\n",
              "      async function convertToInteractive(key) {\n",
              "        const element = document.querySelector('#df-1a14ef17-875a-4c46-8cde-a78ff6671669');\n",
              "        const dataTable =\n",
              "          await google.colab.kernel.invokeFunction('convertToInteractive',\n",
              "                                                    [key], {});\n",
              "        if (!dataTable) return;\n",
              "\n",
              "        const docLinkHtml = 'Like what you see? Visit the ' +\n",
              "          '<a target=\"_blank\" href=https://colab.research.google.com/notebooks/data_table.ipynb>data table notebook</a>'\n",
              "          + ' to learn more about interactive tables.';\n",
              "        element.innerHTML = '';\n",
              "        dataTable['output_type'] = 'display_data';\n",
              "        await google.colab.output.renderOutput(dataTable, element);\n",
              "        const docLink = document.createElement('div');\n",
              "        docLink.innerHTML = docLinkHtml;\n",
              "        element.appendChild(docLink);\n",
              "      }\n",
              "    </script>\n",
              "  </div>\n",
              "\n",
              "\n",
              "<div id=\"df-447f5c12-1519-4b49-93e0-3e5dfe451aff\">\n",
              "  <button class=\"colab-df-quickchart\" onclick=\"quickchart('df-447f5c12-1519-4b49-93e0-3e5dfe451aff')\"\n",
              "            title=\"Suggest charts\"\n",
              "            style=\"display:none;\">\n",
              "\n",
              "<svg xmlns=\"http://www.w3.org/2000/svg\" height=\"24px\"viewBox=\"0 0 24 24\"\n",
              "     width=\"24px\">\n",
              "    <g>\n",
              "        <path d=\"M19 3H5c-1.1 0-2 .9-2 2v14c0 1.1.9 2 2 2h14c1.1 0 2-.9 2-2V5c0-1.1-.9-2-2-2zM9 17H7v-7h2v7zm4 0h-2V7h2v10zm4 0h-2v-4h2v4z\"/>\n",
              "    </g>\n",
              "</svg>\n",
              "  </button>\n",
              "\n",
              "<style>\n",
              "  .colab-df-quickchart {\n",
              "      --bg-color: #E8F0FE;\n",
              "      --fill-color: #1967D2;\n",
              "      --hover-bg-color: #E2EBFA;\n",
              "      --hover-fill-color: #174EA6;\n",
              "      --disabled-fill-color: #AAA;\n",
              "      --disabled-bg-color: #DDD;\n",
              "  }\n",
              "\n",
              "  [theme=dark] .colab-df-quickchart {\n",
              "      --bg-color: #3B4455;\n",
              "      --fill-color: #D2E3FC;\n",
              "      --hover-bg-color: #434B5C;\n",
              "      --hover-fill-color: #FFFFFF;\n",
              "      --disabled-bg-color: #3B4455;\n",
              "      --disabled-fill-color: #666;\n",
              "  }\n",
              "\n",
              "  .colab-df-quickchart {\n",
              "    background-color: var(--bg-color);\n",
              "    border: none;\n",
              "    border-radius: 50%;\n",
              "    cursor: pointer;\n",
              "    display: none;\n",
              "    fill: var(--fill-color);\n",
              "    height: 32px;\n",
              "    padding: 0;\n",
              "    width: 32px;\n",
              "  }\n",
              "\n",
              "  .colab-df-quickchart:hover {\n",
              "    background-color: var(--hover-bg-color);\n",
              "    box-shadow: 0 1px 2px rgba(60, 64, 67, 0.3), 0 1px 3px 1px rgba(60, 64, 67, 0.15);\n",
              "    fill: var(--button-hover-fill-color);\n",
              "  }\n",
              "\n",
              "  .colab-df-quickchart-complete:disabled,\n",
              "  .colab-df-quickchart-complete:disabled:hover {\n",
              "    background-color: var(--disabled-bg-color);\n",
              "    fill: var(--disabled-fill-color);\n",
              "    box-shadow: none;\n",
              "  }\n",
              "\n",
              "  .colab-df-spinner {\n",
              "    border: 2px solid var(--fill-color);\n",
              "    border-color: transparent;\n",
              "    border-bottom-color: var(--fill-color);\n",
              "    animation:\n",
              "      spin 1s steps(1) infinite;\n",
              "  }\n",
              "\n",
              "  @keyframes spin {\n",
              "    0% {\n",
              "      border-color: transparent;\n",
              "      border-bottom-color: var(--fill-color);\n",
              "      border-left-color: var(--fill-color);\n",
              "    }\n",
              "    20% {\n",
              "      border-color: transparent;\n",
              "      border-left-color: var(--fill-color);\n",
              "      border-top-color: var(--fill-color);\n",
              "    }\n",
              "    30% {\n",
              "      border-color: transparent;\n",
              "      border-left-color: var(--fill-color);\n",
              "      border-top-color: var(--fill-color);\n",
              "      border-right-color: var(--fill-color);\n",
              "    }\n",
              "    40% {\n",
              "      border-color: transparent;\n",
              "      border-right-color: var(--fill-color);\n",
              "      border-top-color: var(--fill-color);\n",
              "    }\n",
              "    60% {\n",
              "      border-color: transparent;\n",
              "      border-right-color: var(--fill-color);\n",
              "    }\n",
              "    80% {\n",
              "      border-color: transparent;\n",
              "      border-right-color: var(--fill-color);\n",
              "      border-bottom-color: var(--fill-color);\n",
              "    }\n",
              "    90% {\n",
              "      border-color: transparent;\n",
              "      border-bottom-color: var(--fill-color);\n",
              "    }\n",
              "  }\n",
              "</style>\n",
              "\n",
              "  <script>\n",
              "    async function quickchart(key) {\n",
              "      const quickchartButtonEl =\n",
              "        document.querySelector('#' + key + ' button');\n",
              "      quickchartButtonEl.disabled = true;  // To prevent multiple clicks.\n",
              "      quickchartButtonEl.classList.add('colab-df-spinner');\n",
              "      try {\n",
              "        const charts = await google.colab.kernel.invokeFunction(\n",
              "            'suggestCharts', [key], {});\n",
              "      } catch (error) {\n",
              "        console.error('Error during call to suggestCharts:', error);\n",
              "      }\n",
              "      quickchartButtonEl.classList.remove('colab-df-spinner');\n",
              "      quickchartButtonEl.classList.add('colab-df-quickchart-complete');\n",
              "    }\n",
              "    (() => {\n",
              "      let quickchartButtonEl =\n",
              "        document.querySelector('#df-447f5c12-1519-4b49-93e0-3e5dfe451aff button');\n",
              "      quickchartButtonEl.style.display =\n",
              "        google.colab.kernel.accessAllowed ? 'block' : 'none';\n",
              "    })();\n",
              "  </script>\n",
              "</div>\n",
              "\n",
              "    </div>\n",
              "  </div>\n"
            ],
            "application/vnd.google.colaboratory.intrinsic+json": {
              "type": "dataframe",
              "variable_name": "df"
            }
          },
          "metadata": {},
          "execution_count": 3
        }
      ],
      "source": [
        "# Load Dataset\n",
        "df = pd.read_csv('Data/Air_Quality_labeled.csv')\n",
        "df.head()"
      ]
    },
    {
      "cell_type": "markdown",
      "metadata": {
        "id": "KkPem5eWL2UP"
      },
      "source": [
        "# **3. Data Splitting**"
      ]
    },
    {
      "cell_type": "markdown",
      "metadata": {
        "id": "YYj1rl_JNI9Y"
      },
      "source": [
        "Tahap Data Splitting bertujuan untuk memisahkan dataset menjadi dua bagian: data latih (training set) dan data uji (test set)."
      ]
    },
    {
      "cell_type": "code",
      "execution_count": 4,
      "metadata": {
        "colab": {
          "base_uri": "https://localhost:8080/"
        },
        "id": "OubAW-7ONKVj",
        "outputId": "44899cf5-384c-4495-81fd-28ca87f3e2b2"
      },
      "outputs": [
        {
          "output_type": "stream",
          "name": "stdout",
          "text": [
            "Jumlah data latih: 84153\n",
            "Jumlah data uji: 21039\n"
          ]
        }
      ],
      "source": [
        "# Pisahkan features (X) and target (y ='cluster')\n",
        "X = df.drop(['Cluster'], axis=1)\n",
        "y = df['Cluster']\n",
        "\n",
        "# Split data training and testing\n",
        "X_train, X_test, y_train, y_test = train_test_split(X, y, test_size=0.2, random_state=42)\n",
        "\n",
        "# Tampilkan hasil splitting\n",
        "print(f\"Jumlah data latih: {len(X_train)}\")\n",
        "print(f\"Jumlah data uji: {len(X_test)}\")"
      ]
    },
    {
      "cell_type": "markdown",
      "metadata": {
        "id": "IVPbB03CMhTT"
      },
      "source": [
        "# **4. Membangun Model Klasifikasi**\n"
      ]
    },
    {
      "cell_type": "markdown",
      "metadata": {
        "id": "Ned1pL9zMmBK"
      },
      "source": [
        "## **a. Membangun Model Klasifikasi**"
      ]
    },
    {
      "cell_type": "markdown",
      "metadata": {
        "id": "WAWzPOE4Nkti"
      },
      "source": [
        "Setelah memilih algoritma klasifikasi yang sesuai, langkah selanjutnya adalah melatih model menggunakan data latih.\n",
        "\n",
        "Berikut adalah rekomendasi tahapannya.\n",
        "1. Pilih algoritma klasifikasi yang sesuai, seperti Logistic Regression, Decision Tree, Random Forest, atau K-Nearest Neighbors (KNN).\n",
        "2. Latih model menggunakan data latih."
      ]
    },
    {
      "cell_type": "code",
      "execution_count": 5,
      "metadata": {
        "id": "4JYxBe87NLDk"
      },
      "outputs": [],
      "source": [
        "# Mencoba semua model demi efisiensi\n",
        "models = {\n",
        "    'Logistic Regression': LogisticRegression(),\n",
        "    'Decision Tree': DecisionTreeClassifier(),\n",
        "}"
      ]
    },
    {
      "cell_type": "markdown",
      "metadata": {
        "id": "seYoHNY3XU1y"
      },
      "source": [
        "Tulis narasi atau penjelasan algoritma yang Anda gunakan."
      ]
    },
    {
      "cell_type": "markdown",
      "metadata": {
        "id": "ergzChZFEL-O"
      },
      "source": [
        "## **b. Evaluasi Model Klasifikasi**"
      ]
    },
    {
      "cell_type": "markdown",
      "metadata": {
        "id": "zOm68u-7NpLT"
      },
      "source": [
        "Berikut adalah **rekomendasi** tahapannya.\n",
        "1. Lakukan prediksi menggunakan data uji.\n",
        "2. Hitung metrik evaluasi seperti Accuracy dan F1-Score (Opsional: Precision dan Recall).\n",
        "3. Buat confusion matrix untuk melihat detail prediksi benar dan salah."
      ]
    },
    {
      "cell_type": "code",
      "execution_count": 6,
      "metadata": {
        "colab": {
          "base_uri": "https://localhost:8080/"
        },
        "id": "tMq4QAssNLip",
        "outputId": "ed7ec7c5-e735-4bc9-d1fd-00f95d7766c0"
      },
      "outputs": [
        {
          "output_type": "stream",
          "name": "stdout",
          "text": [
            "Model: Logistic Regression\n",
            "Accuracy: 0.9998098768952897\n",
            "Classification Report:\n",
            "               precision    recall  f1-score   support\n",
            "\n",
            "           0       1.00      1.00      1.00     17154\n",
            "           1       1.00      1.00      1.00      3885\n",
            "\n",
            "    accuracy                           1.00     21039\n",
            "   macro avg       1.00      1.00      1.00     21039\n",
            "weighted avg       1.00      1.00      1.00     21039\n",
            "\n",
            "Confusion Matrix:\n",
            " [[17153     1]\n",
            " [    3  3882]]\n",
            "==================================================\n",
            "Model: Decision Tree\n",
            "Accuracy: 0.9861685441323257\n",
            "Classification Report:\n",
            "               precision    recall  f1-score   support\n",
            "\n",
            "           0       0.99      0.99      0.99     17154\n",
            "           1       0.96      0.96      0.96      3885\n",
            "\n",
            "    accuracy                           0.99     21039\n",
            "   macro avg       0.98      0.98      0.98     21039\n",
            "weighted avg       0.99      0.99      0.99     21039\n",
            "\n",
            "Confusion Matrix:\n",
            " [[17010   144]\n",
            " [  147  3738]]\n",
            "==================================================\n"
          ]
        }
      ],
      "source": [
        "# Pelatihan and Evaluasi model\n",
        "for name, model in models.items():\n",
        "    model.fit(X_train, y_train)\n",
        "    y_pred = model.predict(X_test)\n",
        "    accuracy = accuracy_score(y_test, y_pred)\n",
        "    report = classification_report(y_test, y_pred)\n",
        "    conf_matrix = confusion_matrix(y_test, y_pred)\n",
        "\n",
        "    print(f\"Model: {name}\")\n",
        "    print(f\"Accuracy: {accuracy}\")\n",
        "    print(\"Classification Report:\\n\", report)\n",
        "    print(\"Confusion Matrix:\\n\", conf_matrix)\n",
        "    print(\"=\"*50)"
      ]
    },
    {
      "cell_type": "markdown",
      "metadata": {
        "id": "H4_9OwrsXZlz"
      },
      "source": [
        "Tulis hasil evaluasi algoritma yang digunakan, jika Anda menggunakan 2 algoritma, maka bandingkan hasilnya.\n",
        "\n",
        "1. Logistic Regression → Model dengan Akurasi Tertinggi (99.98%)\n",
        "\n",
        "2. Decision Tree → Akurasi Terendah (98.63%)"
      ]
    },
    {
      "cell_type": "markdown",
      "metadata": {
        "id": "ph9yIYDXEPuB"
      },
      "source": [
        "## **c. Tuning Model Klasifikasi (Optional)**"
      ]
    },
    {
      "cell_type": "markdown",
      "metadata": {
        "id": "-Bikx3LINv5e"
      },
      "source": [
        "Gunakan GridSearchCV, RandomizedSearchCV, atau metode lainnya untuk mencari kombinasi hyperparameter terbaik"
      ]
    },
    {
      "cell_type": "code",
      "execution_count": 7,
      "metadata": {
        "colab": {
          "base_uri": "https://localhost:8080/"
        },
        "id": "winbFzb8NL95",
        "outputId": "4e6c78ed-57e4-40e4-9004-7c721dc9ca07"
      },
      "outputs": [
        {
          "output_type": "stream",
          "name": "stderr",
          "text": [
            "/usr/local/lib/python3.11/dist-packages/sklearn/linear_model/_sag.py:348: ConvergenceWarning: The max_iter was reached which means the coef_ did not converge\n",
            "  warnings.warn(\n",
            "/usr/local/lib/python3.11/dist-packages/sklearn/linear_model/_sag.py:348: ConvergenceWarning: The max_iter was reached which means the coef_ did not converge\n",
            "  warnings.warn(\n",
            "/usr/local/lib/python3.11/dist-packages/sklearn/linear_model/_sag.py:348: ConvergenceWarning: The max_iter was reached which means the coef_ did not converge\n",
            "  warnings.warn(\n",
            "/usr/local/lib/python3.11/dist-packages/sklearn/linear_model/_sag.py:348: ConvergenceWarning: The max_iter was reached which means the coef_ did not converge\n",
            "  warnings.warn(\n",
            "/usr/local/lib/python3.11/dist-packages/sklearn/linear_model/_sag.py:348: ConvergenceWarning: The max_iter was reached which means the coef_ did not converge\n",
            "  warnings.warn(\n",
            "/usr/local/lib/python3.11/dist-packages/sklearn/model_selection/_validation.py:528: FitFailedWarning: \n",
            "30 fits failed out of a total of 60.\n",
            "The score on these train-test partitions for these parameters will be set to nan.\n",
            "If these failures are not expected, you can try to debug them by setting error_score='raise'.\n",
            "\n",
            "Below are more details about the failures:\n",
            "--------------------------------------------------------------------------------\n",
            "30 fits failed with the following error:\n",
            "Traceback (most recent call last):\n",
            "  File \"/usr/local/lib/python3.11/dist-packages/sklearn/model_selection/_validation.py\", line 866, in _fit_and_score\n",
            "    estimator.fit(X_train, y_train, **fit_params)\n",
            "  File \"/usr/local/lib/python3.11/dist-packages/sklearn/base.py\", line 1382, in wrapper\n",
            "    estimator._validate_params()\n",
            "  File \"/usr/local/lib/python3.11/dist-packages/sklearn/base.py\", line 436, in _validate_params\n",
            "    validate_parameter_constraints(\n",
            "  File \"/usr/local/lib/python3.11/dist-packages/sklearn/utils/_param_validation.py\", line 98, in validate_parameter_constraints\n",
            "    raise InvalidParameterError(\n",
            "sklearn.utils._param_validation.InvalidParameterError: The 'penalty' parameter of LogisticRegression must be a str among {'elasticnet', 'l1', 'l2'} or None. Got 'none' instead.\n",
            "\n",
            "  warnings.warn(some_fits_failed_message, FitFailedWarning)\n",
            "/usr/local/lib/python3.11/dist-packages/sklearn/model_selection/_search.py:1108: UserWarning: One or more of the test scores are non-finite: [0.99934643 0.99928702        nan        nan 0.99972669 0.99970292\n",
            "        nan        nan 0.9997861  0.99979798        nan        nan]\n",
            "  warnings.warn(\n"
          ]
        },
        {
          "output_type": "stream",
          "name": "stdout",
          "text": [
            "Best Hyperparameters: {'C': 10, 'penalty': 'l2', 'solver': 'saga'}\n",
            "Best Cross-Validation Accuracy: 0.9997979847403355\n"
          ]
        },
        {
          "output_type": "stream",
          "name": "stderr",
          "text": [
            "/usr/local/lib/python3.11/dist-packages/sklearn/linear_model/_sag.py:348: ConvergenceWarning: The max_iter was reached which means the coef_ did not converge\n",
            "  warnings.warn(\n"
          ]
        }
      ],
      "source": [
        "#GridSearchCV for Logistic Regression\n",
        "param_grid = {\n",
        "    'penalty': ['l2', 'none'],\n",
        "    'C': [0.1, 1, 10],\n",
        "    'solver': ['liblinear', 'saga']\n",
        "}\n",
        "\n",
        "# initial model and GridSearchCV\n",
        "log_reg = LogisticRegression(max_iter=1000)\n",
        "grid_search_log_reg = GridSearchCV(log_reg, param_grid, cv=5, scoring='accuracy')\n",
        "\n",
        "# Fit model to data\n",
        "grid_search_log_reg.fit(X_train, y_train)\n",
        "\n",
        "print(f\"Best Hyperparameters: {grid_search_log_reg.best_params_}\")\n",
        "print(f\"Best Cross-Validation Accuracy: {grid_search_log_reg.best_score_}\")"
      ]
    },
    {
      "cell_type": "code",
      "execution_count": 8,
      "metadata": {
        "colab": {
          "base_uri": "https://localhost:8080/"
        },
        "id": "wBaW6bHfW5PC",
        "outputId": "3cc9a06e-fd4a-442c-b2f8-6521ddd73d4c"
      },
      "outputs": [
        {
          "output_type": "stream",
          "name": "stdout",
          "text": [
            "Best Hyperparameters: {'criterion': 'entropy', 'max_depth': None, 'min_samples_leaf': 1, 'min_samples_split': 2}\n",
            "Best Cross-Validation Accuracy: 0.987118719232291\n"
          ]
        }
      ],
      "source": [
        "# GridSearchCV untuk Decision Tree\n",
        "param_grid = {\n",
        "    'criterion': ['gini', 'entropy'],\n",
        "    'max_depth': [None, 10, 20, 30],\n",
        "    'min_samples_split': [2, 5, 10],\n",
        "    'min_samples_leaf': [1, 2, 4]\n",
        "}\n",
        "\n",
        "dt = DecisionTreeClassifier()\n",
        "grid_search_dt = GridSearchCV(dt, param_grid, cv=5, scoring='accuracy')\n",
        "grid_search_dt.fit(X_train, y_train)\n",
        "\n",
        "print(f\"Best Hyperparameters: {grid_search_dt.best_params_}\")\n",
        "print(f\"Best Cross-Validation Accuracy: {grid_search_dt.best_score_}\")"
      ]
    },
    {
      "cell_type": "code",
      "execution_count": 9,
      "metadata": {
        "colab": {
          "base_uri": "https://localhost:8080/"
        },
        "id": "u_kZDy89XPnl",
        "outputId": "afd1169d-9d7b-47eb-acb6-fa7c823b34c6"
      },
      "outputs": [
        {
          "output_type": "stream",
          "name": "stdout",
          "text": [
            "Best Hyperparameters and Best Cross-Validation Accuracy for model logistic regression\n",
            "Best Hyperparameters: {'C': 10, 'penalty': 'l2', 'solver': 'saga'}\n",
            "Best Cross-Validation Accuracy: 0.9997979847403355\n",
            "==================================================\n",
            "Best Hyperparameters and Best Cross-Validation Accuracy for model decision tree\n",
            "Best Hyperparameters: {'criterion': 'entropy', 'max_depth': None, 'min_samples_leaf': 1, 'min_samples_split': 2}\n",
            "Best Cross-Validation Accuracy: 0.987118719232291\n",
            "==================================================\n"
          ]
        }
      ],
      "source": [
        "# print all best hyperparamaters and best cross - validation\n",
        "print(\"Best Hyperparameters and Best Cross-Validation Accuracy for model logistic regression\")\n",
        "print(f\"Best Hyperparameters: {grid_search_log_reg.best_params_}\")\n",
        "print(f\"Best Cross-Validation Accuracy: {grid_search_log_reg.best_score_}\")\n",
        "print(\"=\"*50)\n",
        "print(\"Best Hyperparameters and Best Cross-Validation Accuracy for model decision tree\")\n",
        "print(f\"Best Hyperparameters: {grid_search_dt.best_params_}\")\n",
        "print(f\"Best Cross-Validation Accuracy: {grid_search_dt.best_score_}\")\n",
        "print(\"=\"*50)"
      ]
    },
    {
      "cell_type": "markdown",
      "metadata": {
        "id": "hE7pqlEPEYzI"
      },
      "source": [
        "## **d. Evaluasi Model Klasifikasi setelah Tuning (Optional)**"
      ]
    },
    {
      "cell_type": "markdown",
      "metadata": {
        "id": "feaPESoeN0zz"
      },
      "source": [
        "Berikut adalah rekomendasi tahapannya.\n",
        "1. Gunakan model dengan hyperparameter terbaik.\n",
        "2. Hitung ulang metrik evaluasi untuk melihat apakah ada peningkatan performa."
      ]
    },
    {
      "cell_type": "code",
      "execution_count": 10,
      "metadata": {
        "colab": {
          "base_uri": "https://localhost:8080/"
        },
        "id": "HTXZRvEeNMb1",
        "outputId": "49d94759-997e-42aa-aa92-b8d38b8540b3"
      },
      "outputs": [
        {
          "output_type": "stream",
          "name": "stdout",
          "text": [
            "Model: Logistic Regression\n",
            "Accuracy: 0.9992395075811588\n",
            "Classification Report:\n",
            "               precision    recall  f1-score   support\n",
            "\n",
            "           0       1.00      1.00      1.00     17154\n",
            "           1       1.00      1.00      1.00      3885\n",
            "\n",
            "    accuracy                           1.00     21039\n",
            "   macro avg       1.00      1.00      1.00     21039\n",
            "weighted avg       1.00      1.00      1.00     21039\n",
            "\n",
            "Confusion Matrix:\n",
            " [[17149     5]\n",
            " [   11  3874]]\n",
            "==================================================\n",
            "Model: Decision Tree\n",
            "Accuracy: 0.9855981748181948\n",
            "Classification Report:\n",
            "               precision    recall  f1-score   support\n",
            "\n",
            "           0       0.99      0.99      0.99     17154\n",
            "           1       0.97      0.95      0.96      3885\n",
            "\n",
            "    accuracy                           0.99     21039\n",
            "   macro avg       0.98      0.97      0.98     21039\n",
            "weighted avg       0.99      0.99      0.99     21039\n",
            "\n",
            "Confusion Matrix:\n",
            " [[17029   125]\n",
            " [  178  3707]]\n",
            "==================================================\n"
          ]
        }
      ],
      "source": [
        "\n",
        "from sklearn.metrics import classification_report, confusion_matrix, accuracy_score\n",
        "\n",
        "# Model logistic regression with best hyperparameter\n",
        "log_reg_best = LogisticRegression(C=0.1, penalty='l2', solver='liblinear')\n",
        "log_reg_best.fit(X_train, y_train)\n",
        "log_reg_predictions = log_reg_best.predict(X_test)\n",
        "\n",
        "# Model decision tree with best hyperparameter\n",
        "decision_tree_best = DecisionTreeClassifier(criterion='gini', max_depth=30, min_samples_leaf=2, min_samples_split=5)\n",
        "decision_tree_best.fit(X_train, y_train)\n",
        "decision_tree_predictions = decision_tree_best.predict(X_test)\n",
        "\n",
        "# Evaluasi performa setiap model\n",
        "models = {\n",
        "    \"Logistic Regression\": log_reg_best,\n",
        "    \"Decision Tree\": decision_tree_best,\n",
        "}\n",
        "\n",
        "for model_name, model in models.items():\n",
        "    print(f\"Model: {model_name}\")\n",
        "    predictions = model.predict(X_test)\n",
        "    print(\"Accuracy:\", accuracy_score(y_test, predictions))\n",
        "    print(\"Classification Report:\\n\", classification_report(y_test, predictions))\n",
        "    print(\"Confusion Matrix:\\n\", confusion_matrix(y_test, predictions))\n",
        "    print(\"=\"*50)\n"
      ]
    },
    {
      "cell_type": "markdown",
      "metadata": {
        "id": "ZRsOdm4uEgAW"
      },
      "source": [
        "## **e. Analisis Hasil Evaluasi Model Klasifikasi**"
      ]
    },
    {
      "cell_type": "markdown",
      "metadata": {
        "id": "Hm3BhSi6N4_l"
      },
      "source": [
        "1. Logistic Regression,\n",
        "- Sebelum Hyperparameter Tuning,\n",
        "  - Cross-Validation Accuracy: 0.9997,\n",
        "  -  Accuracy: 0.9998,\n",
        "  - Precision & Recall: Sangat tinggi untuk kedua kelas, dengan f1-score mendekati 1.00,\n",
        "  - Confusion Matrix:\n",
        "    - Kesalahan sangat minim, hanya 1 kesalahan pada kelas 0 dan 3 kesalahan pada kelas 1\n",
        "\n",
        "**Analisis:** Model hampir sempurna dalam memprediksi kedua kelas.\n",
        "\n",
        "- Setelah Hyperparameter Tuning:,\n",
        "  -  Accuracy: 0.9992,\n",
        "  - Precision & Recall: 
        "    - F1-score pada kelas 0 dan 1 tidak mengalami perubahan baik sebelum ataupun setelah proses Hyperparameter Tuning dilakukan, yaitu 1.00 untuk kelas 0 dan 1.00 untuk kelas 1.\n",
        "    - Recall dan Precision tetap stabil pada kelas 0 dan 1,\n",
        "  - Confusion Matrix: Kesalahan pada kelas 1 meningkat dari 3 kesalahan menjadi 11 kesalahan.\n",
        "\n",
        "**Analisis:** Model masih sangat akurat, tetapi mengalami sedikit penurunan performa dibanding sebelum tuning.\n",
        "\n",
        "2. Decision Tree\n",
        "- Sebelum Hyperparameter Tuning,\n",
        "  - Cross-Validation Accuracy: 0.9871,\n",
        "  -  Accuracy: 0.9861,\n",
        "  - Precision & Recall:\n",
        "    - Kelas 0 memiliki performa yang sangat baik.\n" (),
        "    - Kelas 1 memiliki recall 0.96, menunjukkan beberapa instance kelas 1 salah diprediksi.\n",
        "  - Confusion Matrix:\n",
        "    - Kesalahan pada kelas 0: 144 kesalahan.\n",
        "    - Kesalahan pada kelas 1: 147 kesalahan.\n",
        "\n",
        "- Setelah Hyperparameter Tuning:,\n",
        "  -  Accuracy: 0.9855,\n",
        "  - Precision & Recall: 
        "    - Precision kelas 1 meningkat dari 0.96 menjadi 0.97, artinya model semakin tepat dalam memprediksi nilai suatu data sebagai kelas 1.\n",
        "    - Recall kelas 1 menurun dari 0.96 menjadi 0.95, menunjukkan model lebih sering salah memprediksi kelas 1 sebagai kelas 0,\n",
        "    - F1-score pada kelas 0 dan 1 tidak mengalami perubahan baik sebelum ataupun setelah proses Hyperparameter Tuning dilakukan, yaitu 0.99 untuk kelas 0 dan 0.96 untuk kelas 1.\n",
        "  - Confusion Matrix:\n",
        "    - Kesalahan pada kelas 0: 125 kesalahan (berkurang dibanding sebelum tuning).\n",
        "    - Kesalahan pada kelas 1: 178 kesalahan (meningkat dibanding sebelum tuning).\n",
        "\n",
        "**Analisis:** Model menjadi lebih konservatif terhadap kelas 1, menyebabkan lebih banyak instance kelas 1 yang salah diklasifikasikan.\n",
        "\n",
        "---\n",
        "\n",
        "\n"
      ]
    },
    {
      "cell_type": "markdown",
      "source": [
        "# Kesimpulan:\n",
        "**Logistic Regression adalah model terbaik karena memiliki akurasi tertinggi (99.98%), kesalahan prediksi paling sedikit, lebih stabil setelah tuning, dan lebih andal dalam memprediksi kelas 1 dibanding Decision Tree.**\n"
      ],
      "metadata": {
        "id": "l-syP8kRieYh"
      }
    }
  ],
  "metadata": {
    "colab": {
      "provenance": []
    },
    "kernelspec": {
      "display_name": "Python 3",
      "name": "python3"
    },
    "language_info": {
      "name": "python"
    }
  },
  "nbformat": 4,
  "nbformat_minor": 0
}
